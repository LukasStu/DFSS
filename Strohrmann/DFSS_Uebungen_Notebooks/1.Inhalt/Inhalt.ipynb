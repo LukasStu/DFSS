{
 "cells": [
  {
   "cell_type": "markdown",
   "metadata": {},
   "source": [
    "\n",
    "# 1\tInhalt\t\n",
    "# 2\tGrundlagen der Wahrscheinlichkeitstheorie\t\n",
    "     2.1\tAuswahl Multimeter\t\n",
    "     2.2\tSystem mit vier Teilsystemen\t\n",
    "     2.3\tAusschuss einer Spritzgussmaschine\t\n",
    "     2.4\tSchnelltest für Messfühler\t\n",
    "     2.5\tFertigung von Drucksensoren\t\n",
    "# 3\tBeschreibende Statistik univariater Daten\t\n",
    "     3.1\tDurchmesser einer Glasfaser\t\n",
    "     3.2\tVerunreinigung von Halbleitermaterial\t\n",
    "# 4\tUnivariate Wahrscheinlichkeitstheorie\t\n",
    "     4.1\tFertigung von Frästeilen\t\n",
    "     4.2\tErwarteter Mittelwert einer Windkraftanlage\t\n",
    "     4.3\tRauschleistung eines Quantisierungsfehlers\t\n",
    "     4.4\tZeitverläufe und Verteilungsfunktionen\t\n",
    "     4.5\tGenerierung von Zufallszahlen beliebiger Verteilung\t\n",
    "# 5\tSchätzung unbekannter Parameter\t\n",
    "     5.1\tThermische Ausdehnung von Kunststoffen\t\n",
    "     5.2\tKonfidenzintervall bei Temperaturmessungen\t\n",
    "     5.3\tMaßabweichungen von Drehteilen\t\n",
    "# 6\tHypothesentest\t\n",
    "     6.1\tStatistische Prozesskontrolle\t\n",
    "     6.2\tZugversuche an Bond-Verbindungen\t\n",
    "     6.3\tMessung der Schmelzwärme\t\n",
    "     6.4\tKalibrierung von Drucksensoren\t\n",
    "# 7\tBeschreibende Statistik multivariater Daten\t\n",
    "     7.1\tBrechungsindex und Dichte von Glas\t\n",
    "     7.2\tScherfestigkeit von Lötverbindungen\t\n",
    "# 8\tMultivariate Wahrscheinlichkeitstheorie\t\n",
    "     8.1\tReihenschaltung von Widerständen\t\n",
    "# 9\tKorrelationsanalyse\t\n",
    "     9.1\tDrift von Widerständen\t\n",
    "     9.2\tSchwindung bei Gussteilen\t\n",
    "     9.3\tLungenvolumen von Sportlern\t\n",
    "# 10\tVarianzanalyse\t\n",
    "     10.1\tWaschmitteltest\t\n",
    "     10.2\tLebensdauer von Generatoren\t\n",
    "# 11\tRegression zweidimensionaler Datensätze\t\n",
    "     11.1\tScherfestigkeit von Schweißverbindungen\t\n",
    "     11.2\tKennlinie von Luftmassenmessern\t\n",
    "     11.3\tMessung eines Diodenstroms\t\n",
    "# 12\tRegression mehrdimensionaler Datensätze\t\n",
    "     12.1\tAusbeute eines chemischen Prozesses\t\n",
    "     12.2\tLebensdauer von Maschinenkomponenten\t\n",
    "     12.3\tEinspritzmenge bei einem Common-Rail-System\t\n",
    "# 13\tStatistische Versuchsplanung\t\n",
    "     13.1\tFertigung von Blattfedern\t\n",
    "     13.2\tReaktives-Ionen-Ätzen\t\n",
    "     13.3\tOptimierung von Glühstiftkerzen\t\n",
    "# 14\tStatistische Tolerierung\t\n",
    "     14.1\tDurchflussmessung mit Wirkdruckverfahren\t\n",
    "     14.2\tKompensation von Temperatureinflüssen bei Pendeluhren\t\n",
    "     14.3\tWärmemessung in Fernwärme-Übergabestationen\t\n",
    "# 15\tMess-System-Analyse\t\n",
    "     15.1\tTemperaturmessung\t\n",
    "     15.2\tGewichtsmessung\t\n",
    "\n"
   ]
  }
 ],
 "metadata": {
  "kernelspec": {
   "display_name": "Python 3",
   "language": "python",
   "name": "python3"
  },
  "language_info": {
   "codemirror_mode": {
    "name": "ipython",
    "version": 3
   },
   "file_extension": ".py",
   "mimetype": "text/x-python",
   "name": "python",
   "nbconvert_exporter": "python",
   "pygments_lexer": "ipython3",
   "version": "3.6.8"
  }
 },
 "nbformat": 4,
 "nbformat_minor": 2
}
