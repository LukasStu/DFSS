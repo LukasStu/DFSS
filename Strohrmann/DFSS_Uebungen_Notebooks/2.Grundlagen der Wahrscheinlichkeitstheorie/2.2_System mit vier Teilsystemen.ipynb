{
 "cells": [
  {
   "attachments": {},
   "cell_type": "markdown",
   "metadata": {},
   "source": [
    "# 2. Grundlagen der Wahrscheinlichkeitstheorie\n",
    "\n",
    "\n",
    "###  2.2 System mit vier Teilsystemen\n",
    "\n",
    "\n",
    "###### a) Es wird davon ausgegangen, dass die Ausfälle voneinander unabhängig sind. Ein Defekt der Komponente n wird mit Dn bezeichnet, eine ordnungsgemäße Funktion der Komponente n wird entsprechend mit Fn bezeichnet. Für die unterschiedlichen Wahrscheinlichkeiten ergibt sich die folgende Tabelle.\n",
    "\n",
    "                        Teil n\t             1\t       2\t       3\t      4\n",
    "                        P(Dn)\t             0.05\t   0.1\t       0.03     0.03\n",
    "                        P(Fn) = 1 - P(Dn)\t 0.95       0.9           0.97     0.97\n",
    "\n",
    "\n",
    "\n",
    "Wegen der Unabhängigkeit der Ereignisse werden die Wahrscheinlichkeiten für das gemeinsame Eintreffen miteinander multipliziert. Damit ein System völlig einwandfrei ist (Ereignis E), müssen alle Teilsysteme funktionsfähig sein.\n",
    "\n",
    "\n",
    "\n",
    "$P\\left( E \\right) = P\\left( {{F_1}} \\right) \\cdot P\\left( {{F_2}} \\right) \\cdot P\\left( {{F_3}} \\right) \\cdot P\\left( {{F_4}} \\right) = {\\rm{0}}{\\rm{.8045}}$\n",
    "\n",
    "\n",
    "Das System ist gerade noch funktionsfähig, wenn zwei der vier Teilsysteme funktionieren und die beiden anderen defekt sind. Das Ereignis wird mit G bezeichnet.\n",
    "\n",
    "\n",
    "$\\begin{array}{c}P\\left( G \\right) = P\\left( {{F_1}} \\right) \\cdot P\\left( {{F_2}} \\right) \\cdot P\\left( {{D_3}} \\right) \\cdot P\\left( {{D_4}} \\right) + P\\left( {{F_1}} \\right) \\cdot P\\left( {{D_2}} \\right) \\cdot P\\left( {{F_3}} \\right) \\cdot P\\left( {{D_4}} \\right) + P\\left( {{F_1}} \\right) \\cdot P\\left( {{D_2}} \\right) \\cdot P\\left( {{D_3}} \\right) \\cdot P\\left( {{F_4}} \\right)\\\\ + P\\left( {{D_1}} \\right) \\cdot P\\left( {{F_2}} \\right) \\cdot P\\left( {{F_3}} \\right) \\cdot P\\left( {{D_4}} \\right) + P\\left( {{D_1}} \\right) \\cdot P\\left( {{F_2}} \\right) \\cdot P\\left( {{D_3}} \\right) \\cdot P\\left( {{F_4}} \\right)\\\\ + P\\left( {{D_1}} \\right) \\cdot P\\left( {{D_2}} \\right) \\cdot P\\left( {{F_3}} \\right) \\cdot P\\left( {{F_4}} \\right)\\\\ = {\\rm{0}}{\\rm{.0136}}\\end{array}$\n",
    "\n",
    "\n",
    "\n",
    "###### b) Die Anzahl M von Teilen mit einer definierten Eigenschaft ergibt sich aus dem Produkt von Wahrscheinlichkeit und Stichprobengröße. Mit der angegebenen Stichprobengröße von 100 ergibt sich\n",
    "\n",
    "$M\\left( {{D_1}} \\right) = P\\left( {{D_1}} \\right) \\cdot N = 0.05 \\cdot 100 = 5$\n",
    "\n",
    "$M\\left( E \\right) = P\\left( E \\right) \\cdot N = {\\rm{0}}{\\rm{.8045}} \\cdot 100 = 80.45$\n",
    "\n",
    "$M\\left( G \\right) = P\\left( G \\right) \\cdot N = {\\rm{0}}{\\rm{.0136}} \\cdot 100 = 1.36$"
   ]
  },
  {
   "cell_type": "code",
   "execution_count": 1,
   "metadata": {},
   "outputs": [],
   "source": [
    " '''Definition der Vorgaben'''\n",
    "D1 = 0.05\n",
    "D2 = 0.1\n",
    "D3 = 0.03\n",
    "D4 = 0.03\n",
    "F1 = 1 - D1\n",
    "F2 = 1 - D2\n",
    "F3 = 1 - D3\n",
    "F4 = 1 - D4\n",
    "''' Berechnung gemaess Musterloesung'''\n",
    "PE = F1*F2*F3*F4\n",
    "PG = F1*F2*D3*D4 + F1*D2*F3*D4 + F1*D2*D3*F4  + D1*F2*F3*D4 + D1*F2*D3*F4 + D1*D2*F3*F4 \n",
    "PE, PG"
   ]
  }
 ],
 "metadata": {
  "kernelspec": {
   "display_name": "Python 3",
   "language": "python",
   "name": "python3"
  },
  "language_info": {
   "codemirror_mode": {
    "name": "ipython",
    "version": 3
   },
   "file_extension": ".py",
   "mimetype": "text/x-python",
   "name": "python",
   "nbconvert_exporter": "python",
   "pygments_lexer": "ipython3",
   "version": "3.6.8"
  }
 },
 "nbformat": 4,
 "nbformat_minor": 2
}
