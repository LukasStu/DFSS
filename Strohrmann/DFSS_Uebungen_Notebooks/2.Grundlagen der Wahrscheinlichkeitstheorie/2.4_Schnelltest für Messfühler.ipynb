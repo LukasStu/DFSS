{
 "cells": [
  {
   "attachments": {
    "grafik.png": {
     "image/png": "[encoded data removed]"
    }
   },
   "cell_type": "markdown",
   "metadata": {},
   "source": [
    "# 2. Grundlagen der Wahrscheinlichkeitstheorie\n",
    "\n",
    "### 2.4 Schnelltest für Messfühler\n",
    "\n",
    "\n",
    "\n",
    "a) Zur Erstellung des Ereignisbaum werden zwei Ereignisse definiert\n",
    "-\tEreignis F: Das Teil hat einen Fehler\n",
    "-\tEreignis T: Das Testergebnis ist positiv, das Teil wird als gut gekennzeichnet.\n",
    "\n",
    "\n",
    "Damit ergibt sich für diese Aufgabe folgender Ereignisbaum.\n",
    "\n",
    "\n",
    "![grafik.png](attachment:grafik.png)\n",
    "\n",
    "\n",
    "\n",
    "Die in der Aufgabenstellung gegebenen Wahrscheinlichkeiten sind in der folgenden Tabelle zusammengefasst.                                                                                                                                                         \n",
    "                                                                                                                                                                                                                                                                            \n",
    "                                                                                                                                                                                                                                                                            P(F)      \t  P(T‘|F)\t       P(T‘|F‘)\n",
    "                                                                                                                                                                                            0.0015\t        0.95\t          0.1\n",
    "                                                                                                                                                                                            \n",
    "                                                                                                                                                                                            \n",
    "\n",
    "\n",
    "\n",
    "b) Gesucht ist die Wahrscheinlichkeit P(F|T‘), mit der ein Teil einen Fehler aufweist, unter der Bedingung, dass der Test einen Fehler angezeigt hat. \n",
    "\n",
    "\n",
    "\n",
    "\n",
    "$\\begin{array}{c}P\\left( {F|T'} \\right) = \\frac{{P\\left( {T'|F} \\right) \\cdot P\\left( F \\right)}}{{P\\left( {T'} \\right)}} = \\frac{{P\\left( {T'|F} \\right) \\cdot P\\left( F \\right)}}{{P\\left( {T'|F} \\right) \\cdot P\\left( F \\right) + P\\left( {T'|F'} \\right) \\cdot \\left( {1 - P\\left( F \\right)} \\right)}}\\\\ = \\frac{{0.95 \\cdot 0.0015}}{{0.95 \\cdot 0.0015 + 0.1 \\cdot 0.9985}} = {\\rm{0}}{\\rm{.0141}}\\end{array}$\n",
    "\n",
    "\n",
    "\n",
    "\n",
    "\n",
    "\n",
    "\n"
   ]
  }
 ],
 "metadata": {
  "kernelspec": {
   "display_name": "Python 3",
   "language": "python",
   "name": "python3"
  },
  "language_info": {
   "codemirror_mode": {
    "name": "ipython",
    "version": 3
   },
   "file_extension": ".py",
   "mimetype": "text/x-python",
   "name": "python",
   "nbconvert_exporter": "python",
   "pygments_lexer": "ipython3",
   "version": "3.6.8"
  }
 },
 "nbformat": 4,
 "nbformat_minor": 2
}
