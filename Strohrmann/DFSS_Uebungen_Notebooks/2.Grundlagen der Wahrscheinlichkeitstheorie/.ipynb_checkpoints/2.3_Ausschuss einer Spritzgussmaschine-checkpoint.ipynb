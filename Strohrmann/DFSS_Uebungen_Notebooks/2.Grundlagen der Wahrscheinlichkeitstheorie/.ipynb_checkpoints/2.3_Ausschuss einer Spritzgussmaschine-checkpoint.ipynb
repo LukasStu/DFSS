{
 "cells": [
  {
   "attachments": {
    "grafik.png": {
     "image/png": "[encoded data removed]"
    }
   },
   "cell_type": "markdown",
   "metadata": {},
   "source": [
    "# 2\tGrundlagen der Wahrscheinlichkeitstheorie\n",
    "\n",
    "### 2.3  Ausschuss einer Spritzgussmaschine\n",
    "\n",
    "\n",
    "\n",
    "###### a) Zur Erstellung des Ereignisbaum werden zwei Ereignisse definiert\n",
    "-\tEreignis A: Es wird ein Auschussteil produziert.\n",
    "-\tEreignis OK: Das Prüfergebnis ist positiv, das Teil wird als gut gekennzeichnet.\n",
    "\n",
    "\n",
    "Damit ergibt sich für diese Aufgabe folgender Ereignisbaum.\n",
    " \n",
    " \n",
    " \n",
    " ![grafik.png](attachment:grafik.png)\n",
    " \n",
    " Die in der Aufgabenstellung gegebenen Wahrscheinlichkeiten sind in der folgenden Tabelle zusammengefasst.\n",
    " \n",
    "                P(A)\t        P(OK‘|A)      \tP(OK‘|A‘)\n",
    "                0.07\t          0.78\t          0.015\n",
    "\n",
    "\n",
    "\n",
    "###### b) Es soll die Wahrscheinlichkeit P(A|OK) berechnet werden, mit der ein positiv getestetes Teil Ausschuss ist. Mit dem Satz von Bayes und dem Satz der totalen Wahrscheinlichkeit ergibt sich\n",
    "\n",
    "\n",
    "$\\begin{array}{c}P\\left( {A|OK} \\right) = \\frac{{P\\left( {OK|A} \\right) \\cdot P\\left( A \\right)}}{{P\\left( {OK} \\right)}} = \\frac{{P\\left( {OK|A} \\right) \\cdot P\\left( A \\right)}}{{P\\left( {OK|A} \\right) \\cdot P\\left( A \\right) + P\\left( {OK|A'} \\right) \\cdot P\\left( {A'} \\right)}}\\\\\n",
    "= \\frac{{\\left( {1 - P\\left( {OK'|A} \\right)} \\right) \\cdot P\\left( A \\right)}}{{\\left( {1 - P\\left( {OK'|A} \\right)} \\right) \\cdot P\\left( A \\right) + \\left( {1 - P\\left( {OK'|A'} \\right)} \\right) \\cdot \\left( {1 - P\\left( A \\right)} \\right)}} = \\frac{{0.22 \\cdot 0.07}}{{0.22 \\cdot 0.07 + 0.985 \\cdot 0.93}} = {\\rm{0}}{\\rm{.0165}}\\end{array}$\n",
    "\n",
    "\n",
    "\n",
    "d) Nach den Rechnungen unter b) ergibt sich bei N = 100 Teilen eine Anzahl M von\n",
    "\n",
    "\n",
    "$M = P\\left( {A \\cap OK} \\right) \\cdot N = 0.0165 \\cdot 100 = 1.65$\n",
    "\n",
    "Teilen.\n",
    "\n",
    "\n",
    "\n",
    "\n",
    "##### c) Gesucht ist die Wahrscheinlichkeit P(A‘|OK‘), mit der ein Teil kein Ausschuss ist, obwohl es bei der Prüfung ausgesondert wurde. Wieder werden der Satz von Bayes und der Satz der totalen Wahrscheinlichkeit angewendet.\n",
    "\n",
    "\n",
    "\n",
    "$\\begin{array}{c}P\\left( {A'|OK'} \\right) = \\frac{{P\\left( {OK'|A'} \\right) \\cdot P\\left( {A'} \\right)}}{{P\\left( {OK'} \\right)}} = \\frac{{P\\left( {OK'|A'} \\right) \\cdot \\left( {1 - P\\left( A \\right)} \\right)}}{{P\\left( {OK'|A'} \\right) \\cdot P\\left( {A'} \\right) + P\\left( {OK'|A} \\right) \\cdot P\\left( A \\right)}}\\\\ = \\frac{{P\\left( {OK'|A'} \\right) \\cdot \\left( {1 - P\\left( A \\right)} \\right)}}{{P\\left( {OK'|A'} \\right) \\cdot \\left( {1 - P\\left( A \\right)} \\right) + P\\left( {OK'|A} \\right) \\cdot P\\left( A \\right)}} = \\frac{{0.015 \\cdot 0.93}}{{0.015 \\cdot 0.93 + 0.78 \\cdot 0.07}} = {\\rm{0}}{\\rm{.2035}}\\end{array}$\n",
    "\n",
    "\n",
    "\n",
    "\n",
    "$M = P\\left( {A \\cap OK} \\right) \\cdot N = 0.0165 \\cdot 100 = 1.65$\n",
    "\n",
    "Teilen."
   ]
  }
 ],
 "metadata": {
  "kernelspec": {
   "display_name": "Python 3",
   "language": "python",
   "name": "python3"
  },
  "language_info": {
   "codemirror_mode": {
    "name": "ipython",
    "version": 3
   },
   "file_extension": ".py",
   "mimetype": "text/x-python",
   "name": "python",
   "nbconvert_exporter": "python",
   "pygments_lexer": "ipython3",
   "version": "3.6.8"
  }
 },
 "nbformat": 4,
 "nbformat_minor": 2
}
