{
 "cells": [
  {
   "attachments": {
    "grafik.png": {
     "image/png": "[encoded data removed]"
    }
   },
   "cell_type": "markdown",
   "metadata": {},
   "source": [
    "# 2  Grundlagen der Wahrscheinlichkeitstheorie\n",
    "\n",
    "### 2.5 Fertigung von Drucksensoren\n",
    "\n",
    "\n",
    "\n",
    "a) Um die Aufgabe lösen zu können, werden folgende Bezeichnungen definiert:\n",
    "-\tN: Die spezifizierte Neuteiltoleranz wird erreicht.\n",
    "-\tT: Die spezifizierte Temperaturdrift wird erreicht.\n",
    "\n",
    "Der Ereignisbaum ist in folgender Grafik dargestellt. \n",
    "\n",
    "\n",
    "![grafik.png](attachment:grafik.png)\n",
    " \n",
    "\n",
    "\n",
    "b) Da die Ereignisse unabhängig sind, gelten die Bedingungen:\n",
    "\n",
    "\n",
    "$P\\left( T \\right) = P\\left( {T|N} \\right) = P\\left( {T|N'} \\right)$\n",
    "\n",
    "\n",
    "$P\\left( {T'} \\right) = P\\left( {T'|N} \\right) = P\\left( {T'|N'} \\right)$\n",
    "\n",
    "\n",
    "Wird zufällig ein Drucksensor ausgewählt, ergibt sich die Wahrscheinlichkeit für einen Defekt D aus der Bedingung\n",
    "\n",
    "\n",
    "$P\\left( D \\right) = P\\left( {N'} \\right) + P\\left( {T'} \\right) - P\\left( {N' \\cap T'} \\right)$\n",
    "\n",
    "\n",
    "\n",
    "Unter der Annahme, dass die Prüfung repräsentativ war, ergibt sich die Wahrscheinlichkeit\n",
    "\n",
    "\n",
    "\n",
    "$P\\left( D \\right) = P\\left( {N'} \\right) + P\\left( {T'} \\right) - P\\left( {N' \\cap T'} \\right) = \\frac{4}{{100}} + \\frac{7}{{100}} - \\frac{1}{{100}} = \\frac{{10}}{{100}} = 0.1$\n",
    "\n",
    "\n",
    "Die einzelnen Auftretenswahrscheinlichkeiten sind in der folgenden Tabelle zusammengefasst. \n",
    "\n",
    "\n",
    "                                       \n",
    "                                                    Spezifikation Temperaturdrift\n",
    "                                                  erfüllt\t             nicht erfüllt\n",
    "    Spezifikation       nicht erfült                  3                       \t1\n",
    "    Neuteiltoleranz\t     erfüllt                  90\t                       6\n",
    "                                   \t        \n",
    "\t                                        \n",
    "\n",
    "\n",
    "c) Bei der Entnahme werden 10 % der entnommenen Teile einen oder mehrere Defekte aufweisen, bei 25 Teilen also 2.5 Teile. Ein Anteil von 3 % der entnommenen Teile wird die Spezifika-tion ausschließlich aufgrund ihrer Neuteiltoleranz nicht erfüllen."
   ]
  },
  {
   "cell_type": "code",
   "execution_count": null,
   "metadata": {},
   "outputs": [],
   "source": []
  }
 ],
 "metadata": {
  "kernelspec": {
   "display_name": "Python 3",
   "language": "python",
   "name": "python3"
  },
  "language_info": {
   "codemirror_mode": {
    "name": "ipython",
    "version": 3
   },
   "file_extension": ".py",
   "mimetype": "text/x-python",
   "name": "python",
   "nbconvert_exporter": "python",
   "pygments_lexer": "ipython3",
   "version": "3.6.8"
  }
 },
 "nbformat": 4,
 "nbformat_minor": 2
}
