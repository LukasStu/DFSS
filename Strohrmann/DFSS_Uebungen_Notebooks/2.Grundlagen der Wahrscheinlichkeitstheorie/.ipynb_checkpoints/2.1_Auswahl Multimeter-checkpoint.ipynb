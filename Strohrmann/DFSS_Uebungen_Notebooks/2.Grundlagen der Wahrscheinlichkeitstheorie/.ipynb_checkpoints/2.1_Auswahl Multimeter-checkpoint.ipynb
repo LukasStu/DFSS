{
 "cells": [
  {
   "attachments": {
    "grafik.png": {
     "image/png": "[encoded data removed]"
    }
   },
   "cell_type": "markdown",
   "metadata": {},
   "source": [
    "# 2. Grundlagen der Wahrscheinlichkeitstheorie\n",
    "\n",
    "### 2.1 Auswahl Multimeter\n",
    "\n",
    "#### a) Der Vorgang wird zum besseren Verständnis zunächst als Ereignisbaum dargestellt. Dabei steht die Bezeichnung Fn für ein funktionsfähiges Multimeter bei der n-ten Auswahl.\n",
    "\n",
    "\n",
    "![grafik.png](attachment:grafik.png)\n",
    "\n",
    "\n",
    "Zunächst liegen 10 Multimeter in der Schublade, von denen 7 funktionsfähig sind. Bei der ersten Auswahl beträgt die Übergangswahrscheinlichkeit P(F1) = 7/10. Wurde ein funktionstüchtiges Multimeter ausgewählt, sind noch 9 Multimeter in der Schublade, von denen 6 funktionstüchtig sind. Bei der zweiten Wahl ergibt sich eine Übergangswahrscheinlichkeit von P(F2|F1) = 6/9. Da der schwarz eingezeichnete Pfad die einzige Möglichkeit ist, zu einem günstigen Ereignis zu kommen, ergibt sich die gesuchte Wahrscheinlichkeit zu\n",
    "\n",
    "(1) $P\\left( F \\right) = P\\left( {{F_1}} \\right) \\cdot P\\left( {{F_2}|{F_1}} \\right) = \\frac{7}{{10}} \\cdot \\frac{6}{9} = 0.4667$                                                                                                            \n",
    "\n",
    "\n",
    "Es handelt sich um ein Zufallsexperiment, dem das Ziehen ohne Zurücklegen entspricht. Die Reihenfolge ist nicht relevant. Damit muss eine Kombination ohne Wiederholung berechnet werden. \n",
    "Mit N = 10 Multimetern und K = 2 Zügen ergeben sich \n",
    "\n",
    "\n",
    "(2) ${M_N} = \\left( {\\begin{array}{*{20}{c}}N\\\\K\\end{array}} \\right) = \\frac{{N!}}{{K! \\cdot \\left( {N - K} \\right)!}} = \\frac{{10!}}{{2! \\cdot \\left( {10 - 2} \\right)!}} = 45$\n",
    "\n",
    "\n",
    "mögliche Fälle. Die Anzahl günstiger Fälle ergibt sich der Auswahl von K = 2 funktionsfähigen Multimetern aus einer Menge von N = 7 Multimetern.\n",
    "\n",
    "\n",
    "(3) ${M_G} = \\left( {\\begin{array}{*{20}{c}}N\\\\K\\end{array}} \\right) = \\frac{{N!}}{{K! \\cdot \\left( {N - K} \\right)!}} = \\frac{{7!}}{{2! \\cdot \\left( {7 - 2} \\right)!}} = 21$\n",
    "\n",
    "Damit berechnet sich die Wahrscheinlichkeit dafür, zwei funktionsfähige Multimeter zu entnehmen\n",
    "\n",
    "\n",
    "(4) $P\\left( F \\right) = \\frac{{21}}{{45}} = {\\rm{0}}{\\rm{.4667}}$\n",
    "\n",
    "\n",
    "#### b) Die Rechnung ändert sich bis aus die Zahlenwerte nicht. Mit den Übergangswahrscheinlich-keiten aus dem Ereignisbaum ergibt sich\n",
    "\n",
    "(5) $P\\left( F \\right) = P\\left( {{F_1}} \\right) \\cdot P\\left( {{F_2}|{F_1}} \\right) \\cdot P\\left( {{F_3}|{F_2}} \\right) \\cdot P\\left( {{F_4}|{F_3}} \\right) \\cdot P\\left( {{F_5}|{F_4}} \\right) = \\frac{{11}}{{19}} \\cdot \\frac{{10}}{{18}} \\cdot \\frac{9}{{17}} \\cdot \\frac{8}{{16}} \\cdot \\frac{7}{{15}} = {\\rm{0}}{\\rm{.0397}}$\n",
    "\n",
    "\n",
    "Die Anzahl möglicher Fälle erhöht sich zu\n",
    "\n",
    "\n",
    "\n",
    "\n",
    "(6) ${M_N} = \\left( {\\begin{array}{*{20}{c}}N\\\\K\\end{array}} \\right) = \\frac{{N!}}{{K! \\cdot \\left( {N - K} \\right)!}} = \\frac{{19!}}{{5! \\cdot \\left( {19 - 5} \\right)!}} = {\\rm{11628}}$\n",
    "\n",
    "\n",
    "und die Anzahl günstiger Fälle ändert sich auf den Wert\n",
    "\n",
    "(7) ${M_G} = \\left( {\\begin{array}{*{20}{c}}N\\\\K\\end{array}} \\right) = \\frac{{N!}}{{K! \\cdot \\left( {N - K} \\right)!}} = \\frac{{11!}}{{5! \\cdot \\left( {11 - 5} \\right)!}} = 462$\n",
    "\n",
    "Damit ergibt die Berechnung der Wahrscheinlichkeit\n",
    "\n",
    "\n",
    "(8) $P\\left( F \\right) = \\frac{{462}}{{11628}} = {\\rm{0}}{\\rm{.0397}}$  "
   ]
  },
  {
   "cell_type": "code",
   "execution_count": 2,
   "metadata": {},
   "outputs": [],
   "source": [
    "import math\n",
    "import numpy as np"
   ]
  },
  {
   "cell_type": "code",
   "execution_count": 9,
   "metadata": {},
   "outputs": [
    {
     "data": {
      "text/plain": [
       "45.0"
      ]
     },
     "execution_count": 9,
     "metadata": {},
     "output_type": "execute_result"
    }
   ],
   "source": [
    "'''(2)'''\n",
    "math.factorial(10)/(math.factorial(2)*math.factorial(10-2))"
   ]
  },
  {
   "cell_type": "code",
   "execution_count": 11,
   "metadata": {},
   "outputs": [
    {
     "data": {
      "text/plain": [
       "21.0"
      ]
     },
     "execution_count": 11,
     "metadata": {},
     "output_type": "execute_result"
    }
   ],
   "source": [
    "'''(3)'''\n",
    "math.factorial(7)/(math.factorial(2)*math.factorial(7-2))"
   ]
  },
  {
   "cell_type": "code",
   "execution_count": 12,
   "metadata": {},
   "outputs": [
    {
     "data": {
      "text/plain": [
       "11628.0"
      ]
     },
     "execution_count": 12,
     "metadata": {},
     "output_type": "execute_result"
    }
   ],
   "source": [
    "'''(6)'''\n",
    "math.factorial(19)/(math.factorial(5)*math.factorial(19-5))"
   ]
  },
  {
   "cell_type": "code",
   "execution_count": 13,
   "metadata": {},
   "outputs": [
    {
     "data": {
      "text/plain": [
       "462.0"
      ]
     },
     "execution_count": 13,
     "metadata": {},
     "output_type": "execute_result"
    }
   ],
   "source": [
    "'''(7)'''\n",
    "math.factorial(11)/(math.factorial(5)*math.factorial(11-5))"
   ]
  }
 ],
 "metadata": {
  "kernelspec": {
   "display_name": "Python 3",
   "language": "python",
   "name": "python3"
  },
  "language_info": {
   "codemirror_mode": {
    "name": "ipython",
    "version": 3
   },
   "file_extension": ".py",
   "mimetype": "text/x-python",
   "name": "python",
   "nbconvert_exporter": "python",
   "pygments_lexer": "ipython3",
   "version": "3.6.8"
  }
 },
 "nbformat": 4,
 "nbformat_minor": 2
}
