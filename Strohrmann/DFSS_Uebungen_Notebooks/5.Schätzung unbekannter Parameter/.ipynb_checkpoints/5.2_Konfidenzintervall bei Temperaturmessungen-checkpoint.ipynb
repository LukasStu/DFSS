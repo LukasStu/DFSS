{
 "cells": [
  {
   "cell_type": "markdown",
   "metadata": {},
   "source": [
    "# 5 Schätzung unbekannter Parameter\n",
    "\n",
    "\n",
    "### 5.2 Konfidenzintervall bei Temperaturmessungen\n",
    "\n",
    "a) Der Datensatz wird zunächst eingelesen\n",
    "\n"
   ]
  },
  {
   "cell_type": "code",
   "execution_count": 1,
   "metadata": {},
   "outputs": [],
   "source": [
    "\"\"\" Bibliotheken importieren\"\"\"\n",
    "from scipy.io import loadmat\n",
    "from scipy.stats import norm   # normal-Verteilung\n",
    "from scipy.stats import t     # t-Verteitung\n",
    "from scipy.stats import chi2  # Chi-Quadrat-Verteilung \n",
    "import numpy as np\n",
    "import matplotlib.pyplot as plt\n",
    "%matplotlib inline  \n",
    "\n",
    "'''Laden des Datensatzes'''\n",
    "Temp=loadmat('Selbstentzuendung')['Temp']\n",
    "N=len(Temp)"
   ]
  },
  {
   "cell_type": "markdown",
   "metadata": {},
   "source": [
    "Mittelwert und Standardabweichung ergeben sich aus den entsprechenden Funktionen in Python, Konfidenzbereiche werden mit den Formeln der Vorlesung abgeschätzt. \n",
    "\n",
    "\n",
    "Konfidenzbereich für den Mittelwert bei unbekannter Varianz\n",
    "\n",
    "\n",
    "$\\bar x - \\frac{{{c_2} \\cdot s}}{{\\sqrt N }} < \\mu  \\le \\bar x - \\frac{{{c_1} \\cdot s}}{{\\sqrt N }}$\n",
    "\n",
    "Konfidenzbereich für die Varianz\n",
    "\n",
    "$\\frac{{{s^2} \\cdot \\left( {N - 1} \\right)}}{{{c_2}}} < {\\sigma ^2} \\le \\frac{{{s^2} \\cdot \\left( {N - 1} \\right)}}{{{c_1}}}$\n"
   ]
  },
  {
   "cell_type": "code",
   "execution_count": 2,
   "metadata": {},
   "outputs": [
    {
     "data": {
      "text/plain": [
       "(331.36986581765194, 6.953789160218103)"
      ]
     },
     "execution_count": 2,
     "metadata": {},
     "output_type": "execute_result"
    }
   ],
   "source": [
    "'''Mittelwert und Standardabweichung'''\n",
    "Tempquer= np.mean(Temp)\n",
    "s=np.std(Temp, ddof=1)\n",
    "Tempquer, s"
   ]
  },
  {
   "cell_type": "code",
   "execution_count": 3,
   "metadata": {},
   "outputs": [
    {
     "data": {
      "text/plain": [
       "(-2.0226909117347285,\n",
       " 2.022690911734728,\n",
       " 329.14593616187597,\n",
       " 333.5937954734279,\n",
       " 23.654324557593025,\n",
       " 58.12005973468633,\n",
       " 5.696273013715572,\n",
       " 8.928912077075571)"
      ]
     },
     "execution_count": 3,
     "metadata": {},
     "output_type": "execute_result"
    }
   ],
   "source": [
    "'''Konfidenzbereiche der Kenngrößen'''\n",
    "alpha  = 0.05\n",
    "c1=t.ppf(0.025,N-1)\n",
    "c2=t.ppf(0.975,N-1)\n",
    "mu_min=Tempquer-((c2*s)/np.sqrt(N))\n",
    "mu_max=Tempquer-((c1*s)/np.sqrt(N))\n",
    "\n",
    "C1_v=chi2.ppf(alpha/2,N-1)\n",
    "C2_v=chi2.ppf((1-alpha/2),N-1)\n",
    "sig_min=np.sqrt(((s**2)*(N-1))/C2_v)\n",
    "sig_max=np.sqrt(((s**2)*(N-1))/C1_v)\n",
    "\n",
    "c1,c2, mu_min,mu_max, C1_v, C2_v, sig_min, sig_max"
   ]
  },
  {
   "cell_type": "markdown",
   "metadata": {},
   "source": [
    "b) Die Darstellung der Stichprobe als Histogramm \n",
    "\n",
    "c) Bei der Darstellung der Wahrscheinlichkeitsverteilung muss berücksichtigt werden, dass sich die Flächen entsprechen. Deshalb wird die Wahrscheinlichkeitsdichte für eine einheitli-che Darstellungsform normiert."
   ]
  },
  {
   "cell_type": "code",
   "execution_count": 7,
   "metadata": {},
   "outputs": [
    {
     "data": {
      "image/png": "[encoded data removed]",
      "text/plain": [
       "<Figure size 432x288 with 1 Axes>"
      ]
     },
     "metadata": {
      "needs_background": "light"
     },
     "output_type": "display_data"
    }
   ],
   "source": [
    "'''Berechnung des entsprechenden Histogramms mit einer Gesamtfläche von 1 ''' \n",
    "'''Berechnung der entsprechenden Verteilung'''\n",
    "\n",
    "dTemph = 2\n",
    "Temph = np.arange(310,350+dTemph,dTemph)\n",
    "plt.hist(Temp,Temph, weights=(Temp/Temp)/(dTemph*N),width=1.5, color='b')\n",
    "plt.plot(Temph, norm.pdf(Temph,Tempquer,s ), color='r')\n",
    "plt.ylim(top=0.1)\n",
    "plt.xlim(right=350, left=310)\n",
    "plt.plot([mu_min,mu_min],[0,1])\n",
    "plt.plot([mu_max,mu_max],[0,1],color='g')\n",
    "plt.xlabel('Temperatur T / °C')\n",
    "plt.ylabel('h(T)/$\\Delta T$')\n",
    "plt.legend(('Verteilung','Mittelwert min $\\gamma$=0.95','Mittelwert max$\\gamma$=0.95','Stichprobe' ))\n",
    "plt.grid(True, which= 'both', axis='both', linestyle='--')"
   ]
  },
  {
   "cell_type": "markdown",
   "metadata": {},
   "source": [
    "d) Bei der Verteilung sind weder Mittelwert noch Varianz bekannt. Die Variable x weist eine Varianz von s² auf, die Variable $\\bar x $ weist eine Varianz von s²/N auf. Die Differenz beider Variablen weist damit eine Varianz von s².(1 + 1/N) auf. Da die Varianz nicht bekannt ist, muss die t-Verteilung mit N - 1 Freiheitsgraden verwendet werden. Damit weist die Variable \n",
    "\n",
    "\n",
    "#### $t = \\frac{{x - \\bar x}}{{s \\cdot \\sqrt {1 + \\frac{1}{N}} }}$\n",
    "\n",
    "\n",
    "eine t-Verteilung mit N - 1 Freiheitsgraden auf. Das Prognoseintervall errechnet sich damit zu\n",
    "\n",
    "\n",
    "$\\bar x + {c_1} \\cdot s \\cdot \\sqrt {1 + \\frac{1}{N}}  < x \\le \\bar x + {c_2} \\cdot s \\cdot \\sqrt {1 + \\frac{1}{N}} $\n",
    "\n",
    "\n",
    "\n"
   ]
  },
  {
   "cell_type": "code",
   "execution_count": 5,
   "metadata": {},
   "outputs": [
    {
     "data": {
      "text/plain": [
       "(317.1297679364071, 345.60996369889676)"
      ]
     },
     "execution_count": 5,
     "metadata": {},
     "output_type": "execute_result"
    }
   ],
   "source": [
    "''' Prognoseintervall zukünftige Stichprobenwerte'''\n",
    "pr_min = Tempquer + t.ppf(alpha/2,N-1)*s*np.sqrt(1+1/N)\n",
    "pr_max = Tempquer + t.ppf(1 - alpha/2,N-1)*s*np.sqrt(1+1/N)\n",
    "pr_min,pr_max"
   ]
  },
  {
   "cell_type": "markdown",
   "metadata": {},
   "source": [
    "e) Für die Berechnung der Wahrscheinlichkeit für eine Temperatur T < 300 °C errechnet sich wieder aus der t-Verteilung, da die Verteilung der zukünftiger Stichprobenwerte entspricht. Mit dieser Verteilung und den berechneten Kenngrößen kann die Wahrscheinlichkeit dafür, dass das Papier brennt, berechnet werden zu P(Papier brennt) = 34.259 ppm. Die Wahrschein-lichkeit dafür, dass das Papier nicht brennt, ergibt sich damit zu P(Papier brennt nicht) = 1 – 34 ppm."
   ]
  },
  {
   "cell_type": "code",
   "execution_count": 6,
   "metadata": {},
   "outputs": [
    {
     "data": {
      "text/plain": [
       "(3.425854893173533e-05, 0.9999657414510683)"
      ]
     },
     "execution_count": 6,
     "metadata": {},
     "output_type": "execute_result"
    }
   ],
   "source": [
    " '''Wenn die Selbstentzündungstemperatur > als 300 °C ist, entzündet sich das'''\n",
    " '''Papier bei 300 °C nicht, Berechnung der Wahrscheinlichkeit'''\n",
    "p = t.cdf((300-Tempquer)/s/np.sqrt(1+1/N),N-1)\n",
    "p, 1-p"
   ]
  }
 ],
 "metadata": {
  "kernelspec": {
   "display_name": "Python 3",
   "language": "python",
   "name": "python3"
  },
  "language_info": {
   "codemirror_mode": {
    "name": "ipython",
    "version": 3
   },
   "file_extension": ".py",
   "mimetype": "text/x-python",
   "name": "python",
   "nbconvert_exporter": "python",
   "pygments_lexer": "ipython3",
   "version": "3.6.8"
  }
 },
 "nbformat": 4,
 "nbformat_minor": 2
}
