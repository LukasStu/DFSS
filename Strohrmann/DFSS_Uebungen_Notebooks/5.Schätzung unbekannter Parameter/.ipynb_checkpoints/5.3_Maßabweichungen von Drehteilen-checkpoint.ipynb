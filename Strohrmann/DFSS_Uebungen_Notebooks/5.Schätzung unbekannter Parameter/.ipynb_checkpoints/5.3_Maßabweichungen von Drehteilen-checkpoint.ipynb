{
 "cells": [
  {
   "cell_type": "markdown",
   "metadata": {},
   "source": [
    "# 5 Schätzung unbekannter Parameter\n",
    "\n",
    "###  5.3 Maßabweichungen von Drehteilen\n",
    "\n",
    "a) Es wird die Zufallsvariable t mit\n",
    "\n",
    "\n",
    "\n",
    "### $t = \\frac{{\\left( {{{\\bar x}_1} - {{\\bar x}_2}} \\right) - \\left( {{\\mu _1} - {\\mu _2}} \\right)}}{{\\sqrt {\\frac{1}{N} + \\frac{1}{M}}  \\cdot s}}$\n",
    "\n",
    "\n",
    "ausgewertet. Dazu müssen jeweils aus den N = M = 15 Werten die Mittelwerte \n",
    "\n",
    "\n",
    "${\\bar x_1} = \\frac{1}{N} \\cdot \\sum\\limits_{n = 1}^N {{x_{1n}}}  =  - {\\rm{0}}{\\rm{.0427 mm}}$\n",
    "\n",
    "${\\bar x_2} = \\frac{1}{M} \\cdot \\sum\\limits_{m = 1}^M {{x_{2m}}}  =  - {\\rm{0}}{\\rm{.1800}}\\,\\,{\\rm{mm}}$\n",
    "\n",
    "sowie die einzelnen Stanardabweichungen\n",
    "\n",
    "\n",
    "$s_1^{} = \\sqrt {\\frac{1}{{N - 1}} \\cdot \\sum\\limits_{n = 1}^N {{{\\left( {{x_{1n}} - {{\\bar x}_1}} \\right)}^2}} }  = {\\rm{0}}{\\rm{.4937}}\\,\\,mm$\n",
    "\n",
    "$s_2^{} = \\sqrt {\\frac{1}{{M - 1}} \\cdot \\sum\\limits_{m = 1}^M {{{\\left( {{x_{2m}} - {{\\bar x}_2}} \\right)}^2}} }  = {\\rm{0}}{\\rm{.4677}}\\,\\,mm$\n",
    "\n",
    "\n",
    "und die Gesamtstandardabweichung\n",
    "\n",
    "\n",
    "$s = \\sqrt {\\frac{{s_1^2 \\cdot \\left( {N - 1} \\right) + s_2^2 \\cdot \\left( {M - 1} \\right)}}{{N + M - 2}}}  = {\\rm{0}}{\\rm{.4808}}\\,\\,mm$\n",
    "\n",
    "\n",
    "berechnet werden. Der Konfidenzbereich ergibt sich zu\n",
    "\n",
    "\n",
    "$\\left( {{{\\bar x}_1} - {{\\bar x}_2}} \\right) - {c_2} \\cdot \\sqrt {\\frac{1}{N} + \\frac{1}{M}}  \\cdot s < \\left( {{\\mu _1} - {\\mu _2}} \\right) \\le \\left( {{{\\bar x}_1} - {{\\bar x}_2}} \\right) - {c_1} \\cdot \\sqrt {\\frac{1}{N} + \\frac{1}{M}}  \\cdot s$\n",
    "\n",
    "\n",
    "Die Konstanten $c_{1,2}$ berechnen sich aus einer t-Verteilung mit N + M - 2 Freiheitsgraden über \n",
    "\n",
    "\n",
    "${c_1} = {F^{ - 1}}\\left( {\\frac{{1 - \\gamma }}{2}} \\right) =  - {\\rm{3}}{\\rm{.2913}}$\n",
    "\n",
    "und\n",
    "\n",
    "\n",
    "${c_2} = {F^{ - 1}}\\left( {\\frac{{1 + \\gamma }}{2}} \\right) = {\\rm{3}}{\\rm{.2913}}$\n",
    "\n",
    "\n",
    "Mit diesen Ergebnissen ergibt sich ein Konfidenzbereich von \n",
    "\n",
    "\n",
    "$ - {\\rm{0}}{\\rm{.4405}}\\,\\,mm < \\left( {{\\mu _1} - {\\mu _2}} \\right) \\le {\\rm{0}}{\\rm{.7152}}\\,\\,mm$"
   ]
  },
  {
   "cell_type": "code",
   "execution_count": 1,
   "metadata": {},
   "outputs": [],
   "source": [
    "\"\"\" Bibliotheken importieren\"\"\"\n",
    "from scipy.io import loadmat\n",
    "from scipy.stats import t     # t-Verteitung\n",
    "from scipy.stats import f     #f-Verteilung\n",
    "import numpy as np\n",
    "import pandas as pd"
   ]
  },
  {
   "cell_type": "code",
   "execution_count": 2,
   "metadata": {},
   "outputs": [],
   "source": [
    "''' Laden des Datensatzes'''\n",
    "Messung1=loadmat('AbweichungenSoll')['Messung1']\n",
    "Messung2=loadmat('AbweichungenSoll')['Messung2']"
   ]
  },
  {
   "cell_type": "code",
   "execution_count": 3,
   "metadata": {},
   "outputs": [
    {
     "data": {
      "text/plain": [
       "(0.49365208492660184,\n",
       " 0.46765371804359684,\n",
       " -3.291270204332806,\n",
       " 3.291270204332822,\n",
       " -0.4405274784291055,\n",
       " 0.7151941450957695)"
      ]
     },
     "execution_count": 3,
     "metadata": {},
     "output_type": "execute_result"
    }
   ],
   "source": [
    "'''Aufgabenteil a) '''\n",
    "\n",
    "N = len(Messung1)\n",
    "x1quer = np.mean(Messung1)\n",
    "s1 = np.std(Messung1,ddof=1)\n",
    "\n",
    "M = len(Messung2)\n",
    "x2quer = np.mean(Messung2)\n",
    "s2 = np.std(Messung2,ddof=1)\n",
    "\n",
    "sges = np.sqrt(((s1**2)*(N-1)+(s2**2)*(M-1))/(N+M-2))\n",
    "\n",
    "gamma = 0.9973;\n",
    "c1 = t.ppf((1-gamma)/2,N+M-2)\n",
    "c2 = t.ppf((1+gamma)/2,N+M-2)\n",
    "\n",
    "dxmin = (x1quer - x2quer)-c2*np.sqrt(1/M+1/N)*sges\n",
    "dxmax = (x1quer - x2quer)-c1*np.sqrt(1/M+1/N)*sges\n",
    "\n",
    "\n",
    "\n",
    "s1, s2,c1,c2,dxmin, dxmax "
   ]
  },
  {
   "cell_type": "markdown",
   "metadata": {},
   "source": [
    "b) Das 99.73 % - Konfidenzintervall des Verhältnisses der Varianzen berechnet sich mit der Variable\n",
    "\n",
    "\n",
    "### $f = \\frac{{s_1^2}}{{s_2^2}} \\cdot \\frac{{\\sigma _2^2}}{{\\sigma _1^2}}$\n",
    "\n",
    "zu\n",
    "\n",
    "### $\\frac{{s_2^2}}{{s_1^2}} \\cdot {c_1} < \\frac{{\\sigma _2^2}}{{\\sigma _1^2}} \\le \\frac{{s_2^2}}{{s_1^2}} \\cdot {c_2}$\n",
    "\n",
    "Mit F(x) als Verteilungsfunktion einer f-Verteilung mit (N - 1, M - 1) Freiheitsgraden können die Konstanten c1 und c2 berechnet werden:\n",
    "\n",
    "\n",
    "${c_1} = {F^{ - 1}}\\left( {\\frac{{1 - \\gamma }}{2}} \\right) = {\\rm{0}}{\\rm{.1786}}$\n",
    "\n",
    "\n",
    "\n",
    "${c_2} = {F^{ - 1}}\\left( {\\frac{{1 + \\gamma }}{2}} \\right) = {\\rm{5}}{\\rm{.5982}}$\n",
    "\n",
    "\n",
    "Mit den Varianzen aus Aufgabenteil a) ergibt sich\n",
    "\n",
    "${\\rm{0}}{\\rm{.1603}} < \\frac{{\\sigma _2^2}}{{\\sigma _1^2}} \\le {\\rm{5}}{\\rm{.0240}}$"
   ]
  },
  {
   "cell_type": "code",
   "execution_count": 4,
   "metadata": {},
   "outputs": [
    {
     "data": {
      "text/plain": [
       "(0.17863006287038963,\n",
       " 5.598161831950873,\n",
       " 0.16031028379745707,\n",
       " 5.0240306564483665)"
      ]
     },
     "execution_count": 4,
     "metadata": {},
     "output_type": "execute_result"
    }
   ],
   "source": [
    "''' Aufgabenteil b)'''\n",
    "c1 = f.ppf((1-gamma)/2,N-1,M-1)\n",
    "c2 = f.ppf((1+gamma)/2,N-1,M-1)\n",
    "\n",
    "rvmin = s2**2/(s1**2)*c1\n",
    "rvmax = s2**2/(s1**2)*c2\n",
    "\n",
    "c1, c2, rvmin, rvmax"
   ]
  },
  {
   "cell_type": "markdown",
   "metadata": {},
   "source": [
    "#### c) Die Differenz aller Messwerte führt zu folgendem Datensatz."
   ]
  },
  {
   "cell_type": "code",
   "execution_count": 5,
   "metadata": {},
   "outputs": [
    {
     "data": {
      "text/html": [
       "<div>\n",
       "<style scoped>\n",
       "    .dataframe tbody tr th:only-of-type {\n",
       "        vertical-align: middle;\n",
       "    }\n",
       "\n",
       "    .dataframe tbody tr th {\n",
       "        vertical-align: top;\n",
       "    }\n",
       "\n",
       "    .dataframe thead th {\n",
       "        text-align: right;\n",
       "    }\n",
       "</style>\n",
       "<table border=\"1\" class=\"dataframe\">\n",
       "  <thead>\n",
       "    <tr style=\"text-align: right;\">\n",
       "      <th></th>\n",
       "      <th>Differenz der Messungen: Abweichungen Δx / µm</th>\n",
       "    </tr>\n",
       "  </thead>\n",
       "  <tbody>\n",
       "    <tr>\n",
       "      <th>0</th>\n",
       "      <td>0.05</td>\n",
       "    </tr>\n",
       "    <tr>\n",
       "      <th>1</th>\n",
       "      <td>-0.65</td>\n",
       "    </tr>\n",
       "    <tr>\n",
       "      <th>2</th>\n",
       "      <td>0.91</td>\n",
       "    </tr>\n",
       "    <tr>\n",
       "      <th>3</th>\n",
       "      <td>0.58</td>\n",
       "    </tr>\n",
       "    <tr>\n",
       "      <th>4</th>\n",
       "      <td>-0.43</td>\n",
       "    </tr>\n",
       "    <tr>\n",
       "      <th>5</th>\n",
       "      <td>0.13</td>\n",
       "    </tr>\n",
       "    <tr>\n",
       "      <th>6</th>\n",
       "      <td>0.81</td>\n",
       "    </tr>\n",
       "    <tr>\n",
       "      <th>7</th>\n",
       "      <td>-0.10</td>\n",
       "    </tr>\n",
       "    <tr>\n",
       "      <th>8</th>\n",
       "      <td>0.07</td>\n",
       "    </tr>\n",
       "    <tr>\n",
       "      <th>9</th>\n",
       "      <td>0.62</td>\n",
       "    </tr>\n",
       "    <tr>\n",
       "      <th>10</th>\n",
       "      <td>-0.19</td>\n",
       "    </tr>\n",
       "    <tr>\n",
       "      <th>11</th>\n",
       "      <td>-0.08</td>\n",
       "    </tr>\n",
       "    <tr>\n",
       "      <th>12</th>\n",
       "      <td>0.19</td>\n",
       "    </tr>\n",
       "    <tr>\n",
       "      <th>13</th>\n",
       "      <td>0.09</td>\n",
       "    </tr>\n",
       "    <tr>\n",
       "      <th>14</th>\n",
       "      <td>0.06</td>\n",
       "    </tr>\n",
       "  </tbody>\n",
       "</table>\n",
       "</div>"
      ],
      "text/plain": [
       "    Differenz der Messungen: Abweichungen Δx / µm\n",
       "0                                            0.05\n",
       "1                                           -0.65\n",
       "2                                            0.91\n",
       "3                                            0.58\n",
       "4                                           -0.43\n",
       "5                                            0.13\n",
       "6                                            0.81\n",
       "7                                           -0.10\n",
       "8                                            0.07\n",
       "9                                            0.62\n",
       "10                                          -0.19\n",
       "11                                          -0.08\n",
       "12                                           0.19\n",
       "13                                           0.09\n",
       "14                                           0.06"
      ]
     },
     "execution_count": 5,
     "metadata": {},
     "output_type": "execute_result"
    }
   ],
   "source": [
    "''' Aufgabenteil c) '''\n",
    "dMessung = Messung1 - Messung2\n",
    "xdquer = np.mean(dMessung)\n",
    "sd = np.std(dMessung, ddof=1)\n",
    "\n",
    "pd.DataFrame({'Differenz der Messungen: Abweichungen Δx / µm':dMessung.reshape(N)})"
   ]
  },
  {
   "cell_type": "markdown",
   "metadata": {},
   "source": [
    "d) Da die Standardabweichung nicht bekannt ist, wird das Konfidenzintervall des Mittelwertes über die t-Verteilung mit N - 1 Freiheitsgraden verwendet,\n",
    "\n",
    "\n",
    "\n",
    "### $t = \\frac{{\\bar x - \\mu }}{{s/\\sqrt N }}$\n",
    "\n",
    "Der Mittelwert ergibt sich zu \n",
    "\n",
    "$\\overline {\\Delta x}  = \\frac{1}{N} \\cdot \\sum\\limits_{n = 1}^N {\\Delta {x_n}}  = {\\rm{0}}{\\rm{.1373}}\\,\\,mm$\n",
    "\n",
    "\n",
    "und die Standardabweichung beträgt\n",
    "\n",
    "$s = \\sqrt {\\frac{1}{{N - 1}} \\cdot \\sum\\limits_{n = 1}^N {{{\\left( {\\Delta {x_n} - \\bar x} \\right)}^2}} }  = {\\rm{0}}{\\rm{.4354}}\\,\\,mm$\n",
    "\n",
    "Um das Konfidenzintervall \n",
    "\n",
    "#### $\\bar x - \\frac{{{c_2} \\cdot s}}{{\\sqrt N }} < \\mu  \\le \\bar x - \\frac{{{c_1} \\cdot s}}{{\\sqrt N }}$\n",
    "\n",
    "\n",
    "bestimmen zu können, müssen die Grenzen c1,2 errechnet werden. Sie ergeben sich aus der \n",
    "t-Verteilung mit N - 1 Freiheitsgraden über\n",
    "\n",
    "\n",
    "\n",
    "${c_1} = {F^{ - 1}}\\left( {\\frac{{1 - \\gamma }}{2}} \\right) =  - {\\rm{3}}{\\rm{.6358}}$\n",
    "\n",
    "\n",
    "${c_2} = {F^{ - 1}}\\left( {\\frac{{1 + \\gamma }}{2}} \\right) = {\\rm{3}}{\\rm{.6358}}$\n",
    "\n",
    "\n",
    "Mit den errechneten Zahlenwerten ergibt sich das Konfidenzintervall\n",
    "\n",
    "\n",
    "$ - {\\rm{0}}{\\rm{.2714}}\\,\\,mm < \\Delta \\mu  \\le {\\rm{0}}{\\rm{.5461}}\\,\\,mm$"
   ]
  },
  {
   "cell_type": "code",
   "execution_count": 6,
   "metadata": {},
   "outputs": [
    {
     "data": {
      "text/plain": [
       "(-3.635762861264604,\n",
       " 3.6357628612646247,\n",
       " -0.27140370830910343,\n",
       " 0.5460703749757678)"
      ]
     },
     "execution_count": 6,
     "metadata": {},
     "output_type": "execute_result"
    }
   ],
   "source": [
    "'''Aufgabenteil d) '''\n",
    "c1 = t.ppf((1-gamma)/2,N-1)\n",
    "c2 = t.ppf((1+gamma)/2,N-1)\n",
    "\n",
    "dxmin = xdquer - c2*np.sqrt(1/N)*sd\n",
    "dxmax = xdquer - c1*np.sqrt(1/N)*sd\n",
    "c1,c2, dxmin, dxmax"
   ]
  },
  {
   "cell_type": "markdown",
   "metadata": {},
   "source": [
    "Das Konfidenzintervall ist kleiner als das in Aufgabenteil a. In dieser Aufgabe wird davon aus-gegenagen, dass gepaarte Ergebnisse vorleigen während bei der Variante in Aufgabenteil a) keine gezielte Paarung vorliegt. Eine Streuung setzt sich damit aus der Teile-Streuung und der Messwert-Streuung zusammen."
   ]
  }
 ],
 "metadata": {
  "kernelspec": {
   "display_name": "Python 3",
   "language": "python",
   "name": "python3"
  },
  "language_info": {
   "codemirror_mode": {
    "name": "ipython",
    "version": 3
   },
   "file_extension": ".py",
   "mimetype": "text/x-python",
   "name": "python",
   "nbconvert_exporter": "python",
   "pygments_lexer": "ipython3",
   "version": "3.6.8"
  }
 },
 "nbformat": 4,
 "nbformat_minor": 2
}
