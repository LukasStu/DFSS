{
 "cells": [
  {
   "cell_type": "markdown",
   "metadata": {},
   "source": [
    "# 5\tSchätzung unbekannter Parameter\n",
    "\n",
    "\n",
    "### 5.1\tThermische Ausdehnung von Kunststoffen\n",
    "\n",
    "Es liegt eine Stichprobe mit N = 40 Messwerten vor. Von der Grundgesamtheit sind weder Mittelwert noch Standardabweichung bekannt. Der Mittelwert der Stichprobe beträgt  $\\bar x$ = 19.5818 mm und eine Standardabweichung von s = 2.4857 mm.\n",
    "\n",
    "\n"
   ]
  },
  {
   "cell_type": "code",
   "execution_count": 1,
   "metadata": {},
   "outputs": [
    {
     "data": {
      "text/plain": [
       "(19.58175, 2.485787176050151)"
      ]
     },
     "execution_count": 1,
     "metadata": {},
     "output_type": "execute_result"
    }
   ],
   "source": [
    "\"\"\" Bibliotheken importieren\"\"\"\n",
    "from scipy.io import loadmat\n",
    "from scipy.stats import t     # t-Verteitung\n",
    "from scipy.stats import chi2  # Chi-Quadrat-Verteilung \n",
    "import numpy as np\n",
    "'''Laden des Datensatzes'''\n",
    "data=loadmat('AusdehnungKunststoff')['AusdehnungKunststoff']\n",
    "N=len(data)\n",
    "'''Mittelwert und Standardabweichung'''\n",
    "dataquer= np.mean(data)\n",
    "s=np.std(data, ddof=1)\n",
    "dataquer, s"
   ]
  },
  {
   "cell_type": "markdown",
   "metadata": {},
   "source": [
    "##### a) Der Konfidenzbereich für den Mittelwert bei unbekannter Varianz berechnet sich über\n",
    "\n",
    "\n",
    "$\\bar x - \\frac{{{c_2} \\cdot s}}{{\\sqrt N }} < \\mu  \\le \\bar x - \\frac{{{c_1} \\cdot s}}{{\\sqrt N }}$\n",
    "\n",
    "Die Konstanten c1,2 ergeben sich mit der mit der inversen t-Verteilung mit N - 1 Freiheitsgraden zu\n",
    "\n",
    "\n",
    "${c_1} = {F^{ - 1}}\\left( {0.025} \\right) =  - 2.0227$\n",
    "\n",
    "\n",
    "${c_2} = {F^{ - 1}}\\left( {0.975} \\right) = {\\rm{2}}{\\rm{.0227}}$\n",
    "\n",
    "\n",
    "\n",
    "Damit lautet der Konfidenzbereich für den Mittelwert \n",
    "\n",
    "${\\rm{18}}{\\rm{.7868}}\\,\\,mm < \\mu  \\le {\\rm{20}}{\\rm{.3768}}\\,\\,mm$\n",
    "\n"
   ]
  },
  {
   "cell_type": "code",
   "execution_count": 2,
   "metadata": {},
   "outputs": [
    {
     "data": {
      "text/plain": [
       "(-2.0226909117347285, 2.022690911734728, 18.78675669614893, 20.376743303851068)"
      ]
     },
     "execution_count": 2,
     "metadata": {},
     "output_type": "execute_result"
    }
   ],
   "source": [
    "'''Konfidenzbereiche des Mittelwerts'''\n",
    "c1=t.ppf(0.025,df=N-1)\n",
    "c2=t.ppf(0.975,df=N-1)\n",
    "mu_min=dataquer-((c2*s)/np.sqrt(N))\n",
    "mu_max=dataquer-((c1*s)/np.sqrt(N))\n",
    "\n",
    "c1,c2, mu_min,mu_max"
   ]
  },
  {
   "cell_type": "markdown",
   "metadata": {},
   "source": [
    "b) Der Konfidenzbereich der Varianz wird abgeschätzt mit \n",
    "\n",
    "$\\frac{{{s^2} \\cdot \\left( {N - 1} \\right)}}{{{c_2}}} < {\\sigma ^2} \\le \\frac{{{s^2} \\cdot \\left( {N - 1} \\right)}}{{{c_1}}}$\n",
    "\n",
    "\n",
    "Dabei ergeben sich die beiden Konstanten ${c_{1,2}}$ aus der inversen Chi-Quadrat-Verteilung mit \n",
    "N - 1 = 39 Freiheitsgraden zu\n",
    "\n",
    "${c_1} = {F^{ - 1}}\\left( {0.025} \\right) = {\\rm{23}}{\\rm{.6543}}$\n",
    "\n",
    "und\n",
    "\n",
    "${c_2} = {F^{ - 1}}\\left( {0.975} \\right) = {\\rm{58}}{\\rm{.1201}}$\n",
    "\n",
    "\n",
    "Damit lautet das Konfidenzintervall für die Varianz \n",
    "\n",
    "$4.1461{\\rm{ }}m{m^2} < {\\sigma ^2} \\le {\\rm{10}}{\\rm{.1871 }}m{m^2}$\n",
    "\n",
    "beziehungsweise für die Standardabweichung\n",
    "\n",
    "${\\rm{2}}{\\rm{.0362 }}mm < \\sigma  \\le {\\rm{3}}{\\rm{.1917 }}mm$\n"
   ]
  },
  {
   "cell_type": "code",
   "execution_count": 3,
   "metadata": {},
   "outputs": [
    {
     "data": {
      "text/plain": [
       "(23.654324557593025,\n",
       " 58.12005973468633,\n",
       " 4.146354608031798,\n",
       " 10.187835924600245,\n",
       " 2.0362599559073487,\n",
       " 3.1918389565578407)"
      ]
     },
     "execution_count": 3,
     "metadata": {},
     "output_type": "execute_result"
    }
   ],
   "source": [
    "'''Konfidenzbereiche der Kenngrößen'''\n",
    "C1_v=chi2.ppf(0.025,df=N-1)\n",
    "C2_v=chi2.ppf(0.975,df=N-1)\n",
    "v_min=((s**2)*(N-1))/C2_v\n",
    "v_max=((s**2)*(N-1))/C1_v\n",
    "s_min=np.sqrt(v_min)\n",
    "s_max=np.sqrt(v_max)\n",
    "\n",
    "C1_v, C2_v, v_min, v_max, s_min, s_max"
   ]
  },
  {
   "cell_type": "markdown",
   "metadata": {},
   "source": [
    "c) Der Prognosebereich für zukünftige Stichprobenwerte berechnet sich nach\n",
    "\n",
    "$\\bar x + {c_1} \\cdot s \\cdot \\sqrt {1 + \\frac{1}{N}}  < x \\le \\bar x + {c_2} \\cdot s \\cdot \\sqrt {1 + \\frac{1}{N}} \\$\n",
    "\n",
    "\n",
    "\n",
    "Wie unter Teil a) werden die Konstanten c1,2 mit der inversen t-Verteilung mit N - 1 = 39 Freiheitsgraden berechnet. Es ergibt sich ein Prognosebereich für $\\gamma  = 99.73\\;\\% $  von\n",
    "\n",
    "${\\rm{11}}{\\rm{.5180}}\\,\\,mm < x \\le {\\rm{27}}{\\rm{.6455}}\\,\\,mm$\n",
    "\n"
   ]
  },
  {
   "cell_type": "code",
   "execution_count": 4,
   "metadata": {},
   "outputs": [
    {
     "data": {
      "text/plain": [
       "(11.517975832646284, 27.64552416735374)"
      ]
     },
     "execution_count": 4,
     "metadata": {},
     "output_type": "execute_result"
    }
   ],
   "source": [
    "''' Prognoseintervall zukünftige Stichprobenwerte'''\n",
    "c1_prog=t.ppf(0.00135,df=N-1)\n",
    "c2_prog=t.ppf(0.99865,df=N-1)\n",
    "Prog_min=dataquer + c1_prog*s*np.sqrt(1+(1/N))\n",
    "Prog_max=dataquer + c2_prog*s*np.sqrt(1+(1/N))\n",
    "\n",
    "Prog_min , Prog_max"
   ]
  }
 ],
 "metadata": {
  "kernelspec": {
   "display_name": "Python 3",
   "language": "python",
   "name": "python3"
  },
  "language_info": {
   "codemirror_mode": {
    "name": "ipython",
    "version": 3
   },
   "file_extension": ".py",
   "mimetype": "text/x-python",
   "name": "python",
   "nbconvert_exporter": "python",
   "pygments_lexer": "ipython3",
   "version": "3.6.8"
  }
 },
 "nbformat": 4,
 "nbformat_minor": 2
}
