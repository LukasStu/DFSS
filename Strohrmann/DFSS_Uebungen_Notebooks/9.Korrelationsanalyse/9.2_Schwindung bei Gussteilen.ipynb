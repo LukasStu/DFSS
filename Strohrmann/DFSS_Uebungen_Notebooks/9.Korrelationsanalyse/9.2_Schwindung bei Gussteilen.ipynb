{
 "cells": [
  {
   "cell_type": "markdown",
   "metadata": {},
   "source": [
    "# Korrelationsanalysa\n",
    "\n",
    "### 9.2\tSchwindung bei Gussteilen\n",
    "\n",
    "a) Die Daten werden als Scatter-Plot dargestellt. Dazu müssen sie zunächst in ein entsprechendes Format gebracht werden.\n",
    "\n",
    "\n",
    "Es ergibt sich das folgende Streudiagramm."
   ]
  },
  {
   "cell_type": "code",
   "execution_count": 1,
   "metadata": {},
   "outputs": [
    {
     "data": {
      "text/plain": [
       "30"
      ]
     },
     "execution_count": 1,
     "metadata": {},
     "output_type": "execute_result"
    },
    {
     "data": {
      "image/png": "[encoded data removed]",
      "text/plain": [
       "<Figure size 432x288 with 1 Axes>"
      ]
     },
     "metadata": {
      "needs_background": "light"
     },
     "output_type": "display_data"
    }
   ],
   "source": [
    "\"\"\" Bibliotheken importieren\"\"\"\n",
    "from scipy.io import  loadmat\n",
    "from scipy.stats import norm   # normal-Verteilung\n",
    "from scipy.stats import t     # t-Verteitung\n",
    "from scipy.stats.stats import pearsonr\n",
    "import numpy as np\n",
    "import math\n",
    "import matplotlib.pyplot as plt\n",
    "import F\n",
    "%matplotlib inline  \n",
    "\n",
    "'''Daten laden, Variablenname Zugfestigkeit'''\n",
    "data=loadmat('Gussteile')['data']\n",
    "x = data[:,0]\n",
    "y = data[:,1]\n",
    "\n",
    "'''Grafische Darstellung der Messwerte'''\n",
    "\n",
    "plt.scatter(x,y, color='b', linewidths=0.01)\n",
    "plt.grid(True, which= 'both', axis='both', linestyle='--')\n",
    "plt.xlabel('Nennmaß x / mm')\n",
    "plt.ylabel('Schwindung y / $^o$/$_{oo}$')\n",
    "plt.title('Streudiagramm')\n",
    "len(y)"
   ]
  },
  {
   "cell_type": "markdown",
   "metadata": {},
   "source": [
    "##### b) Der Korrelationskoeffizient wird direkt mit der Python-Funktion \"corranalysa (X,Y,Alpha=0.05)\" berechnet. Die manuelle Berechnung ist in der Übungsaufgabe 9.1 dargestellt. \n",
    "\n",
    "\n",
    "Es ergibt sich ein Korrelationskoeffizient der Stichprobe von\n",
    "\n",
    "$r =  - 0.2982$\n",
    "\n",
    "und das Konfidenzintervall für den Korrelationskoeffizienten von\n",
    "\n",
    "$ - {\\rm{0}}{\\rm{.5946}} < \\rho  \\le {\\rm{0}}{\\rm{.0696}}$\n",
    "\n",
    "\n",
    "##### c) Die Zufallsvariable \n",
    "\n",
    "\n",
    "$z = \\left( {{{\\tanh }^{ - 1}}\\left( r \\right) - {{\\tanh }^{ - 1}}\\left( \\rho  \\right)} \\right) \\cdot \\sqrt {N - 3} $\n",
    "\n",
    "\n",
    "vereinfacht sich unter der Hypothese, dass der Korrelationskoeffizienten $\\rho$ = 0 ist, zu\n",
    "\n",
    " \n",
    "$z = {\\tanh ^{ - 1}}\\left( r \\right) \\cdot \\sqrt {N - 3} $\n",
    "\n",
    "\n",
    "\n",
    "Aus den Grenzen für den Annahmebereich von z \n",
    "\n",
    "\n",
    "${c_1} = {F^{ - 1}}\\left( {\\frac{{1 - \\gamma }}{2}} \\right) =  - {\\rm{1}}{\\rm{.9600}}$\n",
    "\n",
    "und \n",
    "\n",
    "\n",
    "${c_2} = {F^{ - 1}}\\left( {\\frac{{1 + \\gamma }}{2}} \\right) = {\\rm{1}}{\\rm{.9600}}$\n",
    "\n",
    "\n",
    "ergeben sich die entsprechenden Grenzen für den Annahmebereich von dem Regressionskoeffizienten \n",
    "\n",
    "${r_{C1}} = \\tanh \\left( {\\frac{{{c_1}}}{{\\sqrt {N - 3} }}} \\right) =  - {\\rm{0}}{\\rm{.3603}}$\n",
    "\n",
    "\n",
    "und \n",
    "\n",
    "\n",
    "${r_{C2}} = \\tanh \\left( {\\frac{{{c_1}}}{{\\sqrt {N - 3} }}} \\right) = {\\rm{0}}{\\rm{.3603}}$\n",
    "\n",
    "\n",
    "\n",
    "Die Zufallsvariable t kann analytisch nicht nach r aufgelöst werden. Deshalb werden die Hypo-thesentests so ausgeführt, dass bei berechnetem Regressionskoeffizient r$\\_0$ die Variable \n",
    "\n",
    "\n",
    "${t_0} = {r_0} \\cdot \\sqrt {\\frac{{N - 2}}{{1 - r_0^2}}} $\n",
    "\n",
    "\n",
    "bestimmt wird. Liegt sie zwischen den Grenzen c$\\_1$ und c$\\_2$, wird die Nullhypothese angenommen. Die Grenzen ergeben sich dabei aus der inversen t-Verteilung mit N - 2 Freiheitsgraden zu\n",
    "\n",
    "\n",
    "${c_1} = {F^{ - 1}}\\left( {\\frac{{1 - \\gamma }}{2}} \\right) =  - {\\rm{2}}{\\rm{.0484}}$\n",
    "\n",
    "\n",
    "und \n",
    "\n",
    "\n",
    "${c_2} = {F^{ - 1}}\\left( {\\frac{{1 + \\gamma }}{2}} \\right) = {\\rm{2}}{\\rm{.0484}}$\n",
    "\n",
    "\n",
    "\n",
    "\n",
    "\n",
    "\n",
    "\n",
    "\n",
    "##### d) Für einen Vergleich werden die Grenzen r$\\_C1$ und r$\\_C2$ in die Gleichung für die Zufallsvariable t eingesetzt und mit den Grenzen verglichen, die sich aus der t-Verteilung ergeben.\n",
    "\n",
    "\n",
    "${t_{RC1}} = {r_{C1}} \\cdot \\sqrt {\\frac{{N - 2}}{{1 - r_{C1}^2}}}  =  - 2.0436 >  - {\\rm{2}}{\\rm{.0484}}$\n",
    "\n",
    "\n",
    "${t_{RC2}} = {r_{C2}} \\cdot \\sqrt {\\frac{{N - 2}}{{1 - r_{C2}^2}}}  = 2.0436 < {\\rm{2}}{\\rm{.0484}}$\n",
    "\n",
    "\n",
    "###### Der engere Annahmebereich zeigt, dass der Hypothesentest mit der standardnormalverteilten Zufallsvariable z strenger ist als der Test mit der t-verteilten Variable t.\n",
    "\n",
    "\n",
    "\n",
    "\n"
   ]
  },
  {
   "cell_type": "code",
   "execution_count": 2,
   "metadata": {},
   "outputs": [
    {
     "data": {
      "text/plain": [
       "('r',\n",
       " -0.2981721796802153,\n",
       " 'pvalue',\n",
       " 0.10950804944069539,\n",
       " 'c1',\n",
       " -1.9599639845400545,\n",
       " 'c2',\n",
       " 1.959963984540054,\n",
       " 'rmin',\n",
       " -0.594571218614087,\n",
       " 'rmax',\n",
       " 0.06957045878348889,\n",
       " 'rc1',\n",
       " -0.3602692225955645,\n",
       " 'rc2',\n",
       " 0.3602692225955644,\n",
       " 'c1t',\n",
       " -2.048407141795244,\n",
       " 'c2t',\n",
       " 2.048407141795244,\n",
       " 't0',\n",
       " -1.652968955242198,\n",
       " 'trc1',\n",
       " -2.0435963560094983,\n",
       " 'trc2',\n",
       " 2.043596356009498)"
      ]
     },
     "execution_count": 2,
     "metadata": {},
     "output_type": "execute_result"
    }
   ],
   "source": [
    "   '''Bewertung des Korrelationskoeffizienten'''\n",
    "r,pvalue,c1,c2,rmin,rmax,rc1,rc2,c1t,c2t,t0,trc1,trc2=F.corranalysa_2d_GV(x,y)\n",
    "'r',r,'pvalue',pvalue,'c1',c1,'c2',c2, 'rmin',rmin,'rmax',rmax,'rc1',rc1,'rc2',rc2,'c1t',c1t,'c2t',c2t,'t0',t0,'trc1',trc1,'trc2',trc2"
   ]
  }
 ],
 "metadata": {
  "kernelspec": {
   "display_name": "Python 3",
   "language": "python",
   "name": "python3"
  },
  "language_info": {
   "codemirror_mode": {
    "name": "ipython",
    "version": 3
   },
   "file_extension": ".py",
   "mimetype": "text/x-python",
   "name": "python",
   "nbconvert_exporter": "python",
   "pygments_lexer": "ipython3",
   "version": "3.7.5"
  }
 },
 "nbformat": 4,
 "nbformat_minor": 2
}
