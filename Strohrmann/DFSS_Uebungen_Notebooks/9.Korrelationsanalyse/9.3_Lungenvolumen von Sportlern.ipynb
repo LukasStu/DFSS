{
 "cells": [
  {
   "cell_type": "markdown",
   "metadata": {},
   "source": [
    "# Korrelationsanalyse\n",
    "\n",
    "### 9.3\tLungenvolumen von Sportlern\n",
    "\n",
    "a) Aufgabe wird über den Befehl plotting.scatter_matrix von Pandas_Bibliothek gelöst.\n",
    "Es ergibt sich folgendes Diagramm"
   ]
  },
  {
   "cell_type": "code",
   "execution_count": 2,
   "metadata": {},
   "outputs": [
    {
     "data": {
      "text/plain": [
       "array([[<matplotlib.axes._subplots.AxesSubplot object at 0x0000014D0ACBEEF0>,\n",
       "        <matplotlib.axes._subplots.AxesSubplot object at 0x0000014D0AF692B0>,\n",
       "        <matplotlib.axes._subplots.AxesSubplot object at 0x0000014D0AF90828>],\n",
       "       [<matplotlib.axes._subplots.AxesSubplot object at 0x0000014D0AFB7DA0>,\n",
       "        <matplotlib.axes._subplots.AxesSubplot object at 0x0000014D0AFE8358>,\n",
       "        <matplotlib.axes._subplots.AxesSubplot object at 0x0000014D0B0118D0>],\n",
       "       [<matplotlib.axes._subplots.AxesSubplot object at 0x0000014D0B037E48>,\n",
       "        <matplotlib.axes._subplots.AxesSubplot object at 0x0000014D0B068438>,\n",
       "        <matplotlib.axes._subplots.AxesSubplot object at 0x0000014D0B068470>]],\n",
       "      dtype=object)"
      ]
     },
     "execution_count": 2,
     "metadata": {},
     "output_type": "execute_result"
    },
    {
     "data": {
      "image/png": "[encoded data removed]",
      "text/plain": [
       "<Figure size 576x576 with 9 Axes>"
      ]
     },
     "metadata": {
      "needs_background": "light"
     },
     "output_type": "display_data"
    }
   ],
   "source": [
    "\"\"\" Bibliotheken importieren \"\"\"\n",
    "import pandas as pd\n",
    "from scipy.io import  loadmat\n",
    "from scipy.stats import norm   # normal-Verteilung\n",
    "from scipy.stats.stats import pearsonr\n",
    "import numpy as np\n",
    "import math\n",
    "import F \n",
    "\n",
    "'''Daten laden, Variablenname Zugfestigkeit'''\n",
    "data=loadmat('Sportuntersuchung')['data']\n",
    "x = data[:,0]\n",
    "y = data[:,1]\n",
    "z=  data[:,2]\n",
    "\n",
    "'''Grafische Darstellung der Messwerte'''\n",
    "df = pd.DataFrame(data, columns=['Körpergröße G / cm', 'Brustumfang U / cm', 'Lungenvolumen V / cm³'])\n",
    "\n",
    "pd.plotting.scatter_matrix(df,alpha=1,figsize=(8,8),diagonal='hist',hist_kwds={'rwidth':0.8, 'color':'b'})"
   ]
  },
  {
   "cell_type": "markdown",
   "metadata": {},
   "source": [
    "##### Die grafische Darstellung macht deutlich, dass alle Größen paarweise zueinander korrelliert sind. \n",
    "\n",
    "##### Die statistische Bewertung des Datensatzes wird mit folgender Python Funktion \"corranalysa_3d\" durchgeführt."
   ]
  },
  {
   "cell_type": "code",
   "execution_count": 3,
   "metadata": {},
   "outputs": [
    {
     "data": {
      "text/plain": [
       "('R_Matrix',\n",
       " [[1, 0.5065470449522587, 0.8507794069350467],\n",
       "  [0.5065470449522587, 1, 0.6475488891162664],\n",
       "  [0.8507794069350467, 0.6475488891162664, 1]],\n",
       " 'pvalue_Matrix',\n",
       " [[1, 0.022656567515797543, 2.0005578615501135e-06],\n",
       "  [0.022656567515797543, 1, 0.0020232482483120784],\n",
       "  [2.0005578615501135e-06, 0.0020232482483120784, 1]],\n",
       " 'Rmin_Matrix',\n",
       " [[1, 0.08252483023517378, 0.6547722294225624],\n",
       "  [0.08252483023517378, 1, 0.28737712628716566],\n",
       "  [0.6547722294225624, 0.28737712628716566, 1]],\n",
       " 'Rmax_Matrix',\n",
       " [[1, 0.7752823912096611, 0.9395654698184941],\n",
       "  [0.7752823912096611, 1, 0.8472787042562409],\n",
       "  [0.9395654698184941, 0.8472787042562409, 1]])"
      ]
     },
     "execution_count": 3,
     "metadata": {},
     "output_type": "execute_result"
    }
   ],
   "source": [
    "'''Die statistische Bewertung des Datensatzes wird mit folgender Python Funktion \"corranalysa_3d\" durchgeführt.'''\n",
    "\n",
    "R_Matrix,pvalue_Matrix,Rmin_Matrix,Rmax_Matrix=F.corranalysa_3d(x,y,z)\n",
    "\n",
    "'R_Matrix', R_Matrix,'pvalue_Matrix', pvalue_Matrix,'Rmin_Matrix', Rmin_Matrix,'Rmax_Matrix', Rmax_Matrix"
   ]
  },
  {
   "cell_type": "markdown",
   "metadata": {},
   "source": [
    "##### b) Die Korrelationsmatrix berechnet sich damit zu\n",
    "\n",
    "${\\bf{R}} = \\left( {\\begin{array}{*{20}{c}}1&{0.5065}&{0.8508}\\\\{0.5065}&1&{0.6475}\\\\{0.8508}&{0.6475}&1\\end{array}} \\right)$\n",
    "\n",
    "\n",
    "\n",
    "\n",
    "###### c) Der Hypothesentest für die Hypothese $\\rho$ = 0 ergibt eine Matrix von p-Werten.\n",
    "\n",
    "\n",
    "${\\bf{P}} = \\left( {\\begin{array}{*{20}{c}}1&{0.0227}&0\\\\{0.0227}&1&{0.002}\\\\0&{0.002}&1\\end{array}} \\right)$\n",
    "\n",
    "Alle p-Werte liegen unterhalt von $\\alpha$ = 5 %. Demnach weisen alle Größem untereinander eine signifikante Korrelation auf. \n",
    "\n",
    "##### d) Der Konfidenzbereich der Korrelationsmatrix wird von 'corranalysa_3d' angegeben zu\n",
    "\n",
    "'Rmin_Matrix' und 'Rmax_Matrix',\n",
    "\n",
    "$\\left( {\\begin{array}{*{20}{c}}1&{0.0825}&{0.6548}\\\\{0.0825}&1&{0.2874}\\\\{0.6548}&{0.2874}&1\\end{array}} \\right) \\le {\\bf{{\\rm P}}} \\le \\left( {\\begin{array}{*{20}{c}}1&{0.7753}&{0.9396}\\\\{0.7753}&1&{0.8473}\\\\{0.9396}&{0.8473}&1\\end{array}} \\right)$\n",
    "\n",
    "\n",
    "Keiner der Konfidenzbereich schließt $\\rho$= 0 ein, auch das ist ein Hinweis auf die signifikante Korrelation von jeweils zwei Größen zueinander.\n",
    "\n",
    "\n",
    "\n",
    "\n",
    "\n",
    "Das Ergebnis können von Pandas visuialisiert werden. "
   ]
  },
  {
   "cell_type": "code",
   "execution_count": 4,
   "metadata": {},
   "outputs": [
    {
     "data": {
      "text/html": [
       "<style  type=\"text/css\" >\n",
       "    #T_72ff7480_db9c_11e9_9de9_901b0e4be418row0_col0 {\n",
       "            background-color:  #fde725;\n",
       "            color:  #000000;\n",
       "        }    #T_72ff7480_db9c_11e9_9de9_901b0e4be418row0_col1 {\n",
       "            background-color:  #440154;\n",
       "            color:  #f1f1f1;\n",
       "        }    #T_72ff7480_db9c_11e9_9de9_901b0e4be418row0_col2 {\n",
       "            background-color:  #1fa287;\n",
       "            color:  #000000;\n",
       "        }    #T_72ff7480_db9c_11e9_9de9_901b0e4be418row1_col0 {\n",
       "            background-color:  #440154;\n",
       "            color:  #f1f1f1;\n",
       "        }    #T_72ff7480_db9c_11e9_9de9_901b0e4be418row1_col1 {\n",
       "            background-color:  #fde725;\n",
       "            color:  #000000;\n",
       "        }    #T_72ff7480_db9c_11e9_9de9_901b0e4be418row1_col2 {\n",
       "            background-color:  #440154;\n",
       "            color:  #f1f1f1;\n",
       "        }    #T_72ff7480_db9c_11e9_9de9_901b0e4be418row2_col0 {\n",
       "            background-color:  #42be71;\n",
       "            color:  #000000;\n",
       "        }    #T_72ff7480_db9c_11e9_9de9_901b0e4be418row2_col1 {\n",
       "            background-color:  #365c8d;\n",
       "            color:  #f1f1f1;\n",
       "        }    #T_72ff7480_db9c_11e9_9de9_901b0e4be418row2_col2 {\n",
       "            background-color:  #fde725;\n",
       "            color:  #000000;\n",
       "        }</style><table id=\"T_72ff7480_db9c_11e9_9de9_901b0e4be418\" ><thead>    <tr>        <th class=\"blank level0\" ></th>        <th class=\"col_heading level0 col0\" >Körpergröße G / cm</th>        <th class=\"col_heading level0 col1\" >Brustumfang U / cm</th>        <th class=\"col_heading level0 col2\" >Lungenvolumen V / cm³</th>    </tr></thead><tbody>\n",
       "                <tr>\n",
       "                        <th id=\"T_72ff7480_db9c_11e9_9de9_901b0e4be418level0_row0\" class=\"row_heading level0 row0\" >Körpergröße G / cm</th>\n",
       "                        <td id=\"T_72ff7480_db9c_11e9_9de9_901b0e4be418row0_col0\" class=\"data row0 col0\" >1</td>\n",
       "                        <td id=\"T_72ff7480_db9c_11e9_9de9_901b0e4be418row0_col1\" class=\"data row0 col1\" >0.506547</td>\n",
       "                        <td id=\"T_72ff7480_db9c_11e9_9de9_901b0e4be418row0_col2\" class=\"data row0 col2\" >0.850779</td>\n",
       "            </tr>\n",
       "            <tr>\n",
       "                        <th id=\"T_72ff7480_db9c_11e9_9de9_901b0e4be418level0_row1\" class=\"row_heading level0 row1\" >Brustumfang U / cm</th>\n",
       "                        <td id=\"T_72ff7480_db9c_11e9_9de9_901b0e4be418row1_col0\" class=\"data row1 col0\" >0.506547</td>\n",
       "                        <td id=\"T_72ff7480_db9c_11e9_9de9_901b0e4be418row1_col1\" class=\"data row1 col1\" >1</td>\n",
       "                        <td id=\"T_72ff7480_db9c_11e9_9de9_901b0e4be418row1_col2\" class=\"data row1 col2\" >0.647549</td>\n",
       "            </tr>\n",
       "            <tr>\n",
       "                        <th id=\"T_72ff7480_db9c_11e9_9de9_901b0e4be418level0_row2\" class=\"row_heading level0 row2\" >Lungenvolumen V / cm³</th>\n",
       "                        <td id=\"T_72ff7480_db9c_11e9_9de9_901b0e4be418row2_col0\" class=\"data row2 col0\" >0.850779</td>\n",
       "                        <td id=\"T_72ff7480_db9c_11e9_9de9_901b0e4be418row2_col1\" class=\"data row2 col1\" >0.647549</td>\n",
       "                        <td id=\"T_72ff7480_db9c_11e9_9de9_901b0e4be418row2_col2\" class=\"data row2 col2\" >1</td>\n",
       "            </tr>\n",
       "    </tbody></table>"
      ],
      "text/plain": [
       "<pandas.io.formats.style.Styler at 0x14d0ac9eb00>"
      ]
     },
     "execution_count": 4,
     "metadata": {},
     "output_type": "execute_result"
    }
   ],
   "source": [
    "corr=df.corr(); corr.style.background_gradient(cmap='viridis')"
   ]
  },
  {
   "cell_type": "code",
   "execution_count": 5,
   "metadata": {},
   "outputs": [
    {
     "data": {
      "text/html": [
       "<style  type=\"text/css\" >\n",
       "    #T_7368bac6_db9c_11e9_b6fd_901b0e4be418row0_col0 {\n",
       "            background-color:  #fde725;\n",
       "            color:  #000000;\n",
       "        }    #T_7368bac6_db9c_11e9_b6fd_901b0e4be418row0_col1 {\n",
       "            background-color:  #46085c;\n",
       "            color:  #f1f1f1;\n",
       "        }    #T_7368bac6_db9c_11e9_b6fd_901b0e4be418row0_col2 {\n",
       "            background-color:  #440154;\n",
       "            color:  #f1f1f1;\n",
       "        }    #T_7368bac6_db9c_11e9_b6fd_901b0e4be418row1_col0 {\n",
       "            background-color:  #46085c;\n",
       "            color:  #f1f1f1;\n",
       "        }    #T_7368bac6_db9c_11e9_b6fd_901b0e4be418row1_col1 {\n",
       "            background-color:  #fde725;\n",
       "            color:  #000000;\n",
       "        }    #T_7368bac6_db9c_11e9_b6fd_901b0e4be418row1_col2 {\n",
       "            background-color:  #440154;\n",
       "            color:  #f1f1f1;\n",
       "        }    #T_7368bac6_db9c_11e9_b6fd_901b0e4be418row2_col0 {\n",
       "            background-color:  #440154;\n",
       "            color:  #f1f1f1;\n",
       "        }    #T_7368bac6_db9c_11e9_b6fd_901b0e4be418row2_col1 {\n",
       "            background-color:  #440154;\n",
       "            color:  #f1f1f1;\n",
       "        }    #T_7368bac6_db9c_11e9_b6fd_901b0e4be418row2_col2 {\n",
       "            background-color:  #fde725;\n",
       "            color:  #000000;\n",
       "        }</style><table id=\"T_7368bac6_db9c_11e9_b6fd_901b0e4be418\" ><thead>    <tr>        <th class=\"blank level0\" ></th>        <th class=\"col_heading level0 col0\" >Körpergröße G / cm</th>        <th class=\"col_heading level0 col1\" >Brustumfang U / cm</th>        <th class=\"col_heading level0 col2\" >Lungenvolumen V / cm³</th>    </tr></thead><tbody>\n",
       "                <tr>\n",
       "                        <th id=\"T_7368bac6_db9c_11e9_b6fd_901b0e4be418level0_row0\" class=\"row_heading level0 row0\" >Körpergröße G / cm</th>\n",
       "                        <td id=\"T_7368bac6_db9c_11e9_b6fd_901b0e4be418row0_col0\" class=\"data row0 col0\" >1</td>\n",
       "                        <td id=\"T_7368bac6_db9c_11e9_b6fd_901b0e4be418row0_col1\" class=\"data row0 col1\" >0.0226566</td>\n",
       "                        <td id=\"T_7368bac6_db9c_11e9_b6fd_901b0e4be418row0_col2\" class=\"data row0 col2\" >2.00056e-06</td>\n",
       "            </tr>\n",
       "            <tr>\n",
       "                        <th id=\"T_7368bac6_db9c_11e9_b6fd_901b0e4be418level0_row1\" class=\"row_heading level0 row1\" >Brustumfang U / cm</th>\n",
       "                        <td id=\"T_7368bac6_db9c_11e9_b6fd_901b0e4be418row1_col0\" class=\"data row1 col0\" >0.0226566</td>\n",
       "                        <td id=\"T_7368bac6_db9c_11e9_b6fd_901b0e4be418row1_col1\" class=\"data row1 col1\" >1</td>\n",
       "                        <td id=\"T_7368bac6_db9c_11e9_b6fd_901b0e4be418row1_col2\" class=\"data row1 col2\" >0.00202325</td>\n",
       "            </tr>\n",
       "            <tr>\n",
       "                        <th id=\"T_7368bac6_db9c_11e9_b6fd_901b0e4be418level0_row2\" class=\"row_heading level0 row2\" >Lungenvolumen V / cm³</th>\n",
       "                        <td id=\"T_7368bac6_db9c_11e9_b6fd_901b0e4be418row2_col0\" class=\"data row2 col0\" >2.00056e-06</td>\n",
       "                        <td id=\"T_7368bac6_db9c_11e9_b6fd_901b0e4be418row2_col1\" class=\"data row2 col1\" >0.00202325</td>\n",
       "                        <td id=\"T_7368bac6_db9c_11e9_b6fd_901b0e4be418row2_col2\" class=\"data row2 col2\" >1</td>\n",
       "            </tr>\n",
       "    </tbody></table>"
      ],
      "text/plain": [
       "<pandas.io.formats.style.Styler at 0x14d0b9e7908>"
      ]
     },
     "execution_count": 5,
     "metadata": {},
     "output_type": "execute_result"
    }
   ],
   "source": [
    "df_p_value=pd.DataFrame(pvalue_Matrix,columns=['Körpergröße G / cm', 'Brustumfang U / cm', 'Lungenvolumen V / cm³'], \n",
    "             index=['Körpergröße G / cm', 'Brustumfang U / cm', 'Lungenvolumen V / cm³'])\n",
    "df_p_value.style.background_gradient(cmap='viridis')"
   ]
  },
  {
   "cell_type": "code",
   "execution_count": 6,
   "metadata": {},
   "outputs": [
    {
     "data": {
      "text/html": [
       "<style  type=\"text/css\" >\n",
       "    #T_73da8f24_db9c_11e9_8de9_901b0e4be418row0_col0 {\n",
       "            background-color:  #fde725;\n",
       "            color:  #000000;\n",
       "        }    #T_73da8f24_db9c_11e9_8de9_901b0e4be418row0_col1 {\n",
       "            background-color:  #440154;\n",
       "            color:  #f1f1f1;\n",
       "        }    #T_73da8f24_db9c_11e9_8de9_901b0e4be418row0_col2 {\n",
       "            background-color:  #20938c;\n",
       "            color:  #000000;\n",
       "        }    #T_73da8f24_db9c_11e9_8de9_901b0e4be418row1_col0 {\n",
       "            background-color:  #440154;\n",
       "            color:  #f1f1f1;\n",
       "        }    #T_73da8f24_db9c_11e9_8de9_901b0e4be418row1_col1 {\n",
       "            background-color:  #fde725;\n",
       "            color:  #000000;\n",
       "        }    #T_73da8f24_db9c_11e9_8de9_901b0e4be418row1_col2 {\n",
       "            background-color:  #440154;\n",
       "            color:  #f1f1f1;\n",
       "        }    #T_73da8f24_db9c_11e9_8de9_901b0e4be418row2_col0 {\n",
       "            background-color:  #27ad81;\n",
       "            color:  #000000;\n",
       "        }    #T_73da8f24_db9c_11e9_8de9_901b0e4be418row2_col1 {\n",
       "            background-color:  #3e4a89;\n",
       "            color:  #f1f1f1;\n",
       "        }    #T_73da8f24_db9c_11e9_8de9_901b0e4be418row2_col2 {\n",
       "            background-color:  #fde725;\n",
       "            color:  #000000;\n",
       "        }</style><table id=\"T_73da8f24_db9c_11e9_8de9_901b0e4be418\" ><thead>    <tr>        <th class=\"blank level0\" ></th>        <th class=\"col_heading level0 col0\" >Körpergröße G / cm</th>        <th class=\"col_heading level0 col1\" >Brustumfang U / cm</th>        <th class=\"col_heading level0 col2\" >Lungenvolumen V / cm³</th>    </tr></thead><tbody>\n",
       "                <tr>\n",
       "                        <th id=\"T_73da8f24_db9c_11e9_8de9_901b0e4be418level0_row0\" class=\"row_heading level0 row0\" >Körpergröße G / cm</th>\n",
       "                        <td id=\"T_73da8f24_db9c_11e9_8de9_901b0e4be418row0_col0\" class=\"data row0 col0\" >1</td>\n",
       "                        <td id=\"T_73da8f24_db9c_11e9_8de9_901b0e4be418row0_col1\" class=\"data row0 col1\" >0.0825248</td>\n",
       "                        <td id=\"T_73da8f24_db9c_11e9_8de9_901b0e4be418row0_col2\" class=\"data row0 col2\" >0.654772</td>\n",
       "            </tr>\n",
       "            <tr>\n",
       "                        <th id=\"T_73da8f24_db9c_11e9_8de9_901b0e4be418level0_row1\" class=\"row_heading level0 row1\" >Brustumfang U / cm</th>\n",
       "                        <td id=\"T_73da8f24_db9c_11e9_8de9_901b0e4be418row1_col0\" class=\"data row1 col0\" >0.0825248</td>\n",
       "                        <td id=\"T_73da8f24_db9c_11e9_8de9_901b0e4be418row1_col1\" class=\"data row1 col1\" >1</td>\n",
       "                        <td id=\"T_73da8f24_db9c_11e9_8de9_901b0e4be418row1_col2\" class=\"data row1 col2\" >0.287377</td>\n",
       "            </tr>\n",
       "            <tr>\n",
       "                        <th id=\"T_73da8f24_db9c_11e9_8de9_901b0e4be418level0_row2\" class=\"row_heading level0 row2\" >Lungenvolumen V / cm³</th>\n",
       "                        <td id=\"T_73da8f24_db9c_11e9_8de9_901b0e4be418row2_col0\" class=\"data row2 col0\" >0.654772</td>\n",
       "                        <td id=\"T_73da8f24_db9c_11e9_8de9_901b0e4be418row2_col1\" class=\"data row2 col1\" >0.287377</td>\n",
       "                        <td id=\"T_73da8f24_db9c_11e9_8de9_901b0e4be418row2_col2\" class=\"data row2 col2\" >1</td>\n",
       "            </tr>\n",
       "    </tbody></table>"
      ],
      "text/plain": [
       "<pandas.io.formats.style.Styler at 0x14d0ba32eb8>"
      ]
     },
     "execution_count": 6,
     "metadata": {},
     "output_type": "execute_result"
    }
   ],
   "source": [
    "df_Rmin_Matrix=pd.DataFrame(Rmin_Matrix,columns=['Körpergröße G / cm', 'Brustumfang U / cm', 'Lungenvolumen V / cm³'], \n",
    "             index=['Körpergröße G / cm', 'Brustumfang U / cm', 'Lungenvolumen V / cm³'])\n",
    "\n",
    "df_Rmax_Matrix=pd.DataFrame(Rmax_Matrix,columns=['Körpergröße G / cm', 'Brustumfang U / cm', 'Lungenvolumen V / cm³'], \n",
    "             index=['Körpergröße G / cm', 'Brustumfang U / cm', 'Lungenvolumen V / cm³'])\n",
    "\n",
    "df_Rmin_Matrix.style.background_gradient(cmap='viridis')\n",
    "\n"
   ]
  },
  {
   "cell_type": "code",
   "execution_count": 7,
   "metadata": {},
   "outputs": [
    {
     "data": {
      "text/html": [
       "<style  type=\"text/css\" >\n",
       "    #T_743d6ffe_db9c_11e9_8f98_901b0e4be418row0_col0 {\n",
       "            background-color:  #fde725;\n",
       "            color:  #000000;\n",
       "        }    #T_743d6ffe_db9c_11e9_8f98_901b0e4be418row0_col1 {\n",
       "            background-color:  #440154;\n",
       "            color:  #f1f1f1;\n",
       "        }    #T_743d6ffe_db9c_11e9_8f98_901b0e4be418row0_col2 {\n",
       "            background-color:  #23a983;\n",
       "            color:  #000000;\n",
       "        }    #T_743d6ffe_db9c_11e9_8f98_901b0e4be418row1_col0 {\n",
       "            background-color:  #440154;\n",
       "            color:  #f1f1f1;\n",
       "        }    #T_743d6ffe_db9c_11e9_8f98_901b0e4be418row1_col1 {\n",
       "            background-color:  #fde725;\n",
       "            color:  #000000;\n",
       "        }    #T_743d6ffe_db9c_11e9_8f98_901b0e4be418row1_col2 {\n",
       "            background-color:  #440154;\n",
       "            color:  #f1f1f1;\n",
       "        }    #T_743d6ffe_db9c_11e9_8f98_901b0e4be418row2_col0 {\n",
       "            background-color:  #54c568;\n",
       "            color:  #000000;\n",
       "        }    #T_743d6ffe_db9c_11e9_8f98_901b0e4be418row2_col1 {\n",
       "            background-color:  #32658e;\n",
       "            color:  #f1f1f1;\n",
       "        }    #T_743d6ffe_db9c_11e9_8f98_901b0e4be418row2_col2 {\n",
       "            background-color:  #fde725;\n",
       "            color:  #000000;\n",
       "        }</style><table id=\"T_743d6ffe_db9c_11e9_8f98_901b0e4be418\" ><thead>    <tr>        <th class=\"blank level0\" ></th>        <th class=\"col_heading level0 col0\" >Körpergröße G / cm</th>        <th class=\"col_heading level0 col1\" >Brustumfang U / cm</th>        <th class=\"col_heading level0 col2\" >Lungenvolumen V / cm³</th>    </tr></thead><tbody>\n",
       "                <tr>\n",
       "                        <th id=\"T_743d6ffe_db9c_11e9_8f98_901b0e4be418level0_row0\" class=\"row_heading level0 row0\" >Körpergröße G / cm</th>\n",
       "                        <td id=\"T_743d6ffe_db9c_11e9_8f98_901b0e4be418row0_col0\" class=\"data row0 col0\" >1</td>\n",
       "                        <td id=\"T_743d6ffe_db9c_11e9_8f98_901b0e4be418row0_col1\" class=\"data row0 col1\" >0.775282</td>\n",
       "                        <td id=\"T_743d6ffe_db9c_11e9_8f98_901b0e4be418row0_col2\" class=\"data row0 col2\" >0.939565</td>\n",
       "            </tr>\n",
       "            <tr>\n",
       "                        <th id=\"T_743d6ffe_db9c_11e9_8f98_901b0e4be418level0_row1\" class=\"row_heading level0 row1\" >Brustumfang U / cm</th>\n",
       "                        <td id=\"T_743d6ffe_db9c_11e9_8f98_901b0e4be418row1_col0\" class=\"data row1 col0\" >0.775282</td>\n",
       "                        <td id=\"T_743d6ffe_db9c_11e9_8f98_901b0e4be418row1_col1\" class=\"data row1 col1\" >1</td>\n",
       "                        <td id=\"T_743d6ffe_db9c_11e9_8f98_901b0e4be418row1_col2\" class=\"data row1 col2\" >0.847279</td>\n",
       "            </tr>\n",
       "            <tr>\n",
       "                        <th id=\"T_743d6ffe_db9c_11e9_8f98_901b0e4be418level0_row2\" class=\"row_heading level0 row2\" >Lungenvolumen V / cm³</th>\n",
       "                        <td id=\"T_743d6ffe_db9c_11e9_8f98_901b0e4be418row2_col0\" class=\"data row2 col0\" >0.939565</td>\n",
       "                        <td id=\"T_743d6ffe_db9c_11e9_8f98_901b0e4be418row2_col1\" class=\"data row2 col1\" >0.847279</td>\n",
       "                        <td id=\"T_743d6ffe_db9c_11e9_8f98_901b0e4be418row2_col2\" class=\"data row2 col2\" >1</td>\n",
       "            </tr>\n",
       "    </tbody></table>"
      ],
      "text/plain": [
       "<pandas.io.formats.style.Styler at 0x14d0ac5fc50>"
      ]
     },
     "execution_count": 7,
     "metadata": {},
     "output_type": "execute_result"
    }
   ],
   "source": [
    "df_Rmax_Matrix.style.background_gradient(cmap='viridis')"
   ]
  }
 ],
 "metadata": {
  "kernelspec": {
   "display_name": "Python 3",
   "language": "python",
   "name": "python3"
  },
  "language_info": {
   "codemirror_mode": {
    "name": "ipython",
    "version": 3
   },
   "file_extension": ".py",
   "mimetype": "text/x-python",
   "name": "python",
   "nbconvert_exporter": "python",
   "pygments_lexer": "ipython3",
   "version": "3.7.5"
  }
 },
 "nbformat": 4,
 "nbformat_minor": 2
}
