{
 "cells": [
  {
   "cell_type": "markdown",
   "metadata": {},
   "source": [
    "# 9\tKorrelationsanalyse\n",
    "\n",
    "\n",
    "### 9.1\tDrift von Widerständen\n",
    "\n",
    "a) Die Daten werden als Scatter-Plot dargestellt. Dazu müssen sie zunächst in ein entsprechendes Format gebracht werden.\n",
    "\n",
    "Es ergibt sich das folgende Streudiagramm.\n",
    "\n",
    "\n",
    "\n",
    "\n"
   ]
  },
  {
   "cell_type": "code",
   "execution_count": 1,
   "metadata": {},
   "outputs": [],
   "source": [
    "\"\"\" Bibliotheken importieren\"\"\"\n",
    "from scipy.io import  loadmat\n",
    "from scipy.stats import norm   # normal-Verteilung\n",
    "from scipy.stats import t     # t-Verteitung\n",
    "from scipy.stats.stats import pearsonr\n",
    "import numpy as np\n",
    "import math\n",
    "import F # indem die Funktionen der Korrelationsanalyse geschrieben wurden\n",
    "import matplotlib.pyplot as plt\n",
    "%matplotlib inline  \n",
    "\n",
    "'''Daten laden, Variablenname Zugfestigkeit'''\n",
    "values=loadmat('Widerstandsdrift')['values']\n",
    "\n",
    "y=np.transpose(values[1:,1:]).reshape (values[1:,1:].size)\n",
    "\n",
    "xhelp = np.meshgrid(values[0,1:],np.ones(len(values)-1))\n",
    "x=np.transpose(xhelp[0]).reshape(xhelp[0].size)\n"
   ]
  },
  {
   "cell_type": "code",
   "execution_count": 2,
   "metadata": {},
   "outputs": [
    {
     "data": {
      "text/plain": [
       "Text(0.5, 1.0, 'Streudiagramm')"
      ]
     },
     "execution_count": 2,
     "metadata": {},
     "output_type": "execute_result"
    },
    {
     "data": {
      "image/png": "[encoded data removed]",
      "text/plain": [
       "<Figure size 432x288 with 1 Axes>"
      ]
     },
     "metadata": {
      "needs_background": "light"
     },
     "output_type": "display_data"
    }
   ],
   "source": [
    "'''Grafische Darstellung der Messwerte'''\n",
    "\n",
    "plt.scatter(x,y, color='b', linewidths=0.01)\n",
    "plt.grid(True, which= 'both', axis='both', linestyle='--')\n",
    "plt.xlabel('Temperatur T / °C')\n",
    "plt.ylabel('Widerstandswert R / $\\Omega$')\n",
    "plt.title('Streudiagramm')"
   ]
  },
  {
   "cell_type": "markdown",
   "metadata": {},
   "source": [
    "b) Der Korrelationskoeffizient wird direkt mit der numpy-Funktion corrcoef berechnet. Es ergibt sich ein \n",
    "Korrelationskoeffizient r = 0.1945. \n",
    "\n",
    "\n",
    "\n",
    "\n",
    "c) Zur Berechnung des Konfidenzbereich wird die standardnormalverteilte Zufallsvariable z verwendet.\n",
    "\n",
    "$z = \\left( {{{\\tanh }^{ - 1}}\\left( r \\right) - {{\\tanh }^{ - 1}}\\left( \\rho  \\right)} \\right) \\cdot \\sqrt {N - 3} $\n",
    "\n",
    "\n",
    "\n",
    "Der Konfidenzbereich der Korrelation der Grundgesamtheit $\\rho$ ergibt sich aus der Gleichung\n",
    "\n",
    "$\\tanh \\left( {{{\\tanh }^{ - 1}}\\left( r \\right) - \\frac{{{c_2}}}{{\\sqrt {N - 3} }}} \\right) < \\rho  \\le \\tanh \\left( {{{\\tanh }^{ - 1}}\\left( r \\right) - \\frac{{{c_1}}}{{\\sqrt {N - 3} }}} \\right)$\n",
    "\n",
    "\n",
    "\n",
    "${c_1} = {F^{ - 1}}\\left( {\\frac{{1 - \\gamma }}{2}} \\right) =  - {\\rm{1}}{\\rm{.9600}}$\n",
    "\n",
    "und\n",
    "\n",
    "${c_2} = {F^{ - 1}}\\left( {\\frac{{1 + \\gamma }}{2}} \\right) = {\\rm{1}}{\\rm{.9600}}$\n",
    "\n",
    "\n",
    "\n",
    "Damit lautet der Konfidenzbereich des Korrelationskoeffizienten \n",
    "\n",
    "$ - 0.0886 < \\rho  \\le {\\rm{0}}{\\rm{.4486}}$\n",
    "\n",
    "\n",
    "\n",
    "\n",
    "d) Zur Signifikanzbewertung des Korrelationskoeffizienten wird ein Hypothesentest durchgeführt. Die Zufallsvariable\n",
    "\n",
    "$t = r \\cdot \\sqrt {\\frac{{N - 2}}{{1 - {r^2}}}} $\n",
    "\n",
    "besitzt N - 2 Freiheitsgrade. Ist die Korrelation $\\rho$ = 0, weist die Zufallsvariable t den Wert null auf. Zur Berechnung der Annahmegrenzen werden die Konstanten c$_1$ und c$_2$ berechnet. Sie ergeben sich dabei aus der inversen t-Verteilung mit N - 2 Freiheitsgraden zu\n",
    "\n",
    "${c_1} = {F^{ - 1}}\\left( {\\frac{{1 - \\gamma }}{2}} \\right) = {F^{ - 1}}\\left( {\\frac{\\alpha }{2}} \\right) =  - {\\rm{2}}{\\rm{.0106}}$\n",
    "\n",
    "\n",
    "und \n",
    "\n",
    "${c_2} = {F^{ - 1}}\\left( {\\frac{{1 + \\gamma }}{2}} \\right) = {F^{ - 1}}\\left( {1 - \\frac{\\alpha }{2}} \\right) = {\\rm{2}}{\\rm{.0106}}$\n",
    "\n",
    "Die Stichprobe liegt mit dem Wert \n",
    "\n",
    "\n",
    "${t_0} = r \\cdot \\sqrt {\\frac{{N - 2}}{{1 - {r^2}}}}  = 1.3739$\n",
    "\n",
    "\n",
    "Eine Python-Funktion \"corranalysa_2d(X,Y,Alpha=0.05)\" wurde für diese Berechnungen geschrieben und im Pythom_Datei F.py gespeichert. \"Alpha\" ist der Signifikanzniveau und ist gleich 0.05 als Default.\n"
   ]
  },
  {
   "cell_type": "code",
   "execution_count": 3,
   "metadata": {},
   "outputs": [
    {
     "data": {
      "text/plain": [
       "('r',\n",
       " 0.19453026546104107,\n",
       " 'pvalue',\n",
       " 0.17582627086563557,\n",
       " 'rmin',\n",
       " -0.0886157341493774,\n",
       " 'rmax',\n",
       " 0.44858825103037325,\n",
       " 'c1t',\n",
       " -2.010634754696446,\n",
       " 'c2t',\n",
       " 2.0106347546964454,\n",
       " 't0',\n",
       " 1.373993271528924)"
      ]
     },
     "execution_count": 3,
     "metadata": {},
     "output_type": "execute_result"
    }
   ],
   "source": [
    "''' Korrelationskoeffizient r der Stichprobe\n",
    "95%-Konfidenzbereich des Korrelationskoeffizienten der Grundgesamtheit '''\n",
    "\n",
    "r,pvalue,rmin,rmax,c1t,c2t,t0=F.corranalysa_2d(x,y)\n",
    "\n",
    "'r',r,'pvalue',pvalue,'rmin',rmin,'rmax',rmax,'c1t',c1t,'c2t',c2t,'t0',t0"
   ]
  },
  {
   "cell_type": "code",
   "execution_count": null,
   "metadata": {},
   "outputs": [],
   "source": []
  }
 ],
 "metadata": {
  "kernelspec": {
   "display_name": "Python 3",
   "language": "python",
   "name": "python3"
  },
  "language_info": {
   "codemirror_mode": {
    "name": "ipython",
    "version": 3
   },
   "file_extension": ".py",
   "mimetype": "text/x-python",
   "name": "python",
   "nbconvert_exporter": "python",
   "pygments_lexer": "ipython3",
   "version": "3.7.5"
  }
 },
 "nbformat": 4,
 "nbformat_minor": 2
}
