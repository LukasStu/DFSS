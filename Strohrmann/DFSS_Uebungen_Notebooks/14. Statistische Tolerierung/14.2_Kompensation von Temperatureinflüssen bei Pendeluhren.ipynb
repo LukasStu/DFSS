{
 "cells": [
  {
   "cell_type": "markdown",
   "metadata": {},
   "source": [
    "# 14.2\tKompensation von Temperatureinflüssen bei Pendeluhren"
   ]
  },
  {
   "cell_type": "markdown",
   "metadata": {},
   "source": [
    "a) Die Maßkette für die Pendellänge L ergibt sich zu\n",
    " \n",
    "b) Für eine Periodendauer T = 1s muss das Pendel eine Länge $L_{0}$ von 0.2485 m aufweisen.\n",
    "\n",
    "\n",
    "$ L=A-B+C $\n",
    "\n",
    "\n",
    "b) Für eine Periodendauer T = 1s muss das Pendel eine Länge $L_{0}$ von 0.2485 m aufweisen.\n",
    "\n",
    "$L_{0}=\\frac{T^2}{(4⋅π^2 )}⋅g=0.2485 m$\n",
    "\n",
    "c) Damit keine Längenänderung stattfindet, muss gelten:\n",
    "\n",
    "$L(ϑ)=(A+C)⋅(1+α_S⋅Δϑ)-B⋅(1+α_M⋅Δϑ)=L_0$\n",
    "\n",
    "Für die Längenänderung gilt\n",
    "\n",
    "$(A+C)⋅α_S⋅Δϑ-B⋅α_M⋅Δϑ=0$ \n",
    "\n",
    "beziehungsweise\n",
    "\n",
    "$(A+C)⋅α_S/α_M =B$\n",
    "\n",
    "Einsetzen in die Maßkette führt zu\n",
    "\n",
    "\n",
    "$L_0=A+C-(A+C)⋅α_S/α_M =(A+C)⋅(1-α_S/α_M )$\n",
    "\n",
    "Die Summe der Längen A und C berechnet sich zu\n",
    "\n",
    "\n",
    "$A+C=\\frac{L_0}{(1-\\frac{α_S}{α_N })}=0.5332 m$\n",
    "\n",
    "\n",
    "und die Länge B beträgt\n",
    "\n",
    "\n",
    "$B=(A+C)⋅\\frac{α_S}{α_M} =0.2847 m$\n",
    "\n",
    "\n",
    "\n",
    "\n",
    "\n",
    "\n"
   ]
  },
  {
   "cell_type": "code",
   "execution_count": 1,
   "metadata": {},
   "outputs": [],
   "source": [
    "import numpy as np\n",
    "import sympy as syms\n",
    "from sympy.core import evalf\n",
    "from scipy.stats import norm\n",
    "from scipy.stats import uniform\n",
    "import matplotlib.pyplot as plt\n",
    "%matplotlib inline  \n"
   ]
  },
  {
   "cell_type": "code",
   "execution_count": 2,
   "metadata": {},
   "outputs": [],
   "source": [
    "# Länge des Pendels\n",
    "T0 = 1\n",
    "g = 9.81\n",
    "L0 = 1/(4*np.pi**2)*T0**2*g\n",
    " \n",
    "# Dimensionierung A, B und C\n",
    "alphaS0 = 11.8e-6\n",
    "alphaM0 = 22.1e-6\n",
    "AC0 = L0/(1-alphaS0/alphaM0)\n",
    "B0= alphaS0/alphaM0*AC0"
   ]
  },
  {
   "cell_type": "markdown",
   "metadata": {},
   "source": [
    "d) Die Periodendauer errechnet sich zu\n",
    "\n",
    "$ T=2π⋅\\sqrt{\\frac{(((A_0+C_0 )⋅(1+α_S⋅Δϑ)-B_0⋅(1+α_M⋅Δϑ)}{g}} $\n",
    "\n",
    "\n",
    "\n",
    "Bei Variation der thermischen Ausdehnungskoeffizienten und einer festen Temperaturänderung $Δϑ_0$ kann die Änderung der Periodendauer durch Fehlerfortpflanzung berechnet werden zu\n",
    "\n",
    "$ΔT=\\frac{∂T}{∂α_S}⋅Δα_S+\\frac{∂T}{∂α_M} ⋅Δα_M$\n",
    "\n",
    "mit  \n",
    "\n",
    "\n",
    "\n",
    "###\n",
    "$∂T/(∂α_S )=\\frac{1}{\\sqrt{\\frac{(((A_0+C_0 )⋅(1+α_S0⋅Δϑ_0 )-B_0⋅(1+α_M0⋅Δϑ_0 ))}{g}}}⋅\\frac{(π⋅(A_0+C_0 )⋅Δϑ_0)}{g}$\n",
    "\n",
    "\n",
    "und\n",
    "\n",
    "## $\\frac{∂T}{∂α_M} =-⋅\\frac{1}{\\sqrt{\\frac{(((A_0+C_0 )⋅(1+α_S0⋅Δϑ_0 )-B_0⋅(1+α_M0⋅Δϑ_0 ))}{g}}}⋅\\frac{(π⋅B_0⋅Δϑ_0)}{g}$\n",
    "\n",
    "Alternativ kann die Ableitung mit Python analytisch und numerisch bestimmt werden.\n",
    "\n",
    "\n",
    "\n",
    "\n",
    "\n",
    "\n"
   ]
  },
  {
   "cell_type": "code",
   "execution_count": 3,
   "metadata": {},
   "outputs": [],
   "source": [
    "# Berechnung der Empfindlichkeiten\n",
    "# Maßkette definieren\n",
    "T ,g, A, B, C, alpha_s ,alpha_m ,dv =syms.symbols('T ,g, A, B, C, alpha_s ,alpha_m ,dv')\n",
    "L = A+C-B + alpha_s*dv*(A+C) - alpha_m*B*dv\n",
    "T =2*np.pi*(L/g)**0.5\n"
   ]
  },
  {
   "cell_type": "code",
   "execution_count": 4,
   "metadata": {},
   "outputs": [],
   "source": [
    "#Empfindlichkeiten analytisch berechnen\n",
    "E_alpha_s = T.diff(alpha_s)\n",
    "E_alpha_m = T.diff(alpha_m)"
   ]
  },
  {
   "cell_type": "code",
   "execution_count": 5,
   "metadata": {},
   "outputs": [
    {
     "data": {
      "text/plain": [
       "(10.7240939014891, -5.72218518302723)"
      ]
     },
     "execution_count": 5,
     "metadata": {},
     "output_type": "execute_result"
    }
   ],
   "source": [
    "#Werte definieren und Empfindlichkeiten numerisch berechnen\n",
    "values={B : 0.28449,dv : 10,alpha_s : 11.8*10**-6 ,alpha_m : 22.1*10**-6 ,A : 0.43317,C : 0.100,g: 9.81}\n",
    "EalphaS=  E_alpha_s.evalf(subs=values)\n",
    "EalphaM = E_alpha_m.evalf(subs=values)\n",
    "EalphaS,EalphaM"
   ]
  },
  {
   "cell_type": "code",
   "execution_count": 6,
   "metadata": {},
   "outputs": [
    {
     "data": {
      "text/plain": [
       "(2.10907180062618e-6, -1.26460292544902e-5, 1.26460292544902e-5)"
      ]
     },
     "execution_count": 6,
     "metadata": {},
     "output_type": "execute_result"
    }
   ],
   "source": [
    "# Tolerierung nach dem Grenzwertsatz der Wahrscheinlichkeit\n",
    "SalphaS = 0.1/6*alphaS0\n",
    "SalphaM = 0.2/np.sqrt(12)*alphaM0\n",
    "TolT = 6*(EalphaS**2*SalphaS**2 + EalphaM**2*SalphaM**2)**0.5\n",
    "TolT\n",
    "EalphaS*SalphaS,EalphaM*0.1*alphaM0,-EalphaM*0.1*alphaM0\n"
   ]
  },
  {
   "cell_type": "markdown",
   "metadata": {},
   "source": [
    "f) Der numerischen Berechnung der Toleranz über Faltung liegt die Vorstellung zugrunde, dass sich die Toleranz aus der Summe\n",
    "\n",
    "\n",
    "$ΔT=ΔT_S+ΔT_M$\n",
    "\n",
    "\n",
    "ergibt. Damit ergibt sich die Verteilungsfunktion der Gesamttoleranz aus der Faltung\n",
    "\n",
    "$f(ΔT)=f(ΔT_S )*f(ΔT_M )$\n",
    "\n",
    "Die Größe $ΔT_S$ ist normalverteilt mit dem Mittelwert $\\mu S = 0$ und der Standardabweichung\n",
    "\n",
    "$σ_S=\\frac{∂T}{(∂α_S )}⋅σ_{α_S}$\n",
    "\n",
    "\n",
    "\n",
    "Die Größe $ΔT_M$ ist gleichverteilt mit den Grenzen \n",
    "\n",
    "\n",
    "$-\\frac{∂T}{∂α_M }⋅0.1⋅α_{M0}≤ΔT_M≤\\frac{∂T}{∂α_M }⋅0.1⋅α_{M0}$\n",
    "\n",
    "\n",
    "\n",
    "\n",
    "Mit diesen Annahmen ergibt sich mit dem folgenden Python-Code \n",
    "\n",
    "\n",
    "\n",
    "\n"
   ]
  },
  {
   "cell_type": "code",
   "execution_count": 82,
   "metadata": {},
   "outputs": [
    {
     "data": {
      "text/plain": [
       "((80001,), (40001,), (40001,), (80001,))"
      ]
     },
     "execution_count": 82,
     "metadata": {},
     "output_type": "execute_result"
    }
   ],
   "source": [
    "#Toleranzrechnung über Faltung\n",
    "tstep = 1e-9\n",
    "dT = np.arange(-20e-6,20e-6+tstep,tstep)\n",
    "\n",
    "fS = norm.pdf(dT,0,2.10907180062618e-6)\n",
    "\n",
    "#Gleichverteilung Geleichung: f(x) = 1/ (B-A) für A≤ x ≤B.\n",
    "\n",
    "#fM = uniform.pdf(dT,-1.26460292544902e-5,1.26460292544902e-5) #damit anders Ergebniss gibt \n",
    "fM=np.zeros((dT.size))\n",
    "for i in np.arange(dT.size):\n",
    "    if dT[i]>=-1.26460292544902e-5 and dT[i]<=1.26460292544902e-5:\n",
    "        fM[i]=1/ (1.26460292544902e-5+1.26460292544902e-5)\n",
    "\n",
    "fdT =np.convolve(fM,fS)*tstep\n",
    "\n",
    "dTconv = np.arange(-40e-6,40e-6+tstep,tstep)"
   ]
  },
  {
   "cell_type": "markdown",
   "metadata": {},
   "source": [
    "Das 99.73%-Konfidenzintervall wird mit dem Python-Code"
   ]
  },
  {
   "cell_type": "code",
   "execution_count": 92,
   "metadata": {},
   "outputs": [
    {
     "name": "stdout",
     "output_type": "stream",
     "text": [
      "Die in folgender Abbildung dargestellte Wahrscheinlichkeitsverteilung für die Toleranz der Periodendauer.\n"
     ]
    },
    {
     "data": {
      "text/plain": [
       "3.264900000007159e-05"
      ]
     },
     "execution_count": 92,
     "metadata": {},
     "output_type": "execute_result"
    },
    {
     "data": {
      "image/png": "[encoded data removed]",
      "text/plain": [
       "<Figure size 432x288 with 1 Axes>"
      ]
     },
     "metadata": {
      "needs_background": "light"
     },
     "output_type": "display_data"
    }
   ],
   "source": [
    "# Berechnung der Toleranzgrenzen\n",
    "Tmin = np.array(dTconv[np.where(np.cumsum(fdT*tstep)>(1-0.9973)/2 )])[0]\n",
    "Tmax = np.array(dTconv[np.where(np.cumsum(fdT*tstep)<(1+0.9973)/2 )])[-1]\n",
    "TolTCON = Tmax - Tmin\n",
    "\n",
    "# Grafische Darstellung\n",
    "plt.plot(dTconv*1e6,fdT/1e4)\n",
    "plt.xlim(right=30, left=-30)\n",
    "plt.ylim(top=6)\n",
    "\n",
    "plt.plot([Tmin*1e6, Tmin*1e6], [0,8],'--',color='g')\n",
    "plt.plot([Tmax*1e6, Tmax*1e6], [0,8],'--',color='g')\n",
    "plt.ylabel('Wahrscheinlichkeitsdichte $f( \\Delta T) / 10^{ 4}$')\n",
    "plt.xlabel('Zeitabweichung $\\Delta T$ / ns')\n",
    "plt.legend(('Wahrscheinlichkeitsdichte', 'Toreanzgrenzen'))\n",
    "plt.grid()\n",
    "\n",
    "print('Die in folgender Abbildung dargestellte Wahrscheinlichkeitsverteilung für die Toleranz der Periodendauer.')\n",
    "TolTCON "
   ]
  },
  {
   "cell_type": "markdown",
   "metadata": {},
   "source": [
    "numerisch bestimmt zu\n",
    "\n",
    "$ΔT_{CON}=32.649 μs$"
   ]
  },
  {
   "cell_type": "markdown",
   "metadata": {},
   "source": [
    "g) Durch die Umrechnung der Rechteckverteilung bei Messing auf eine äquivalente Standardabweichung wird der Toleranzbereich mit $\\gamma = 99.73 \\%$ vergrößert. Da nur wenige Maße überlagert werden, ist der Gewinn der statistischen Tolerierung gering. Damit ist die Toleranz bei statistischer Tolerierung größer als bei arithmetischer Tolerierung. Die Simulation zeigt, dass die analytisch berechnete statistische Tolerierung nicht der Realität entspricht."
   ]
  }
 ],
 "metadata": {
  "kernelspec": {
   "display_name": "Python 3",
   "language": "python",
   "name": "python3"
  },
  "language_info": {
   "codemirror_mode": {
    "name": "ipython",
    "version": 3
   },
   "file_extension": ".py",
   "mimetype": "text/x-python",
   "name": "python",
   "nbconvert_exporter": "python",
   "pygments_lexer": "ipython3",
   "version": "3.7.5"
  }
 },
 "nbformat": 4,
 "nbformat_minor": 2
}
