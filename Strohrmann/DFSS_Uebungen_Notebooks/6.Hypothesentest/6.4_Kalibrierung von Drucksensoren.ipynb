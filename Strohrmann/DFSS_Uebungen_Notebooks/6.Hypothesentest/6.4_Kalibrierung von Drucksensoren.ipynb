{
 "cells": [
  {
   "cell_type": "markdown",
   "metadata": {},
   "source": [
    "# 6. Hypothesentest\n",
    "\n",
    "\n",
    "### 6.4\tKalibrierung von Drucksensoren\n",
    "\n",
    "\n",
    "a) Das Ergebnis des Referenzprüfstands kann über die standardnormalverteilte Zufallsvariable p$_R$\n",
    "\n",
    "\n",
    "${p_R} = \\frac{{{{\\bar p}_R} - {\\mu _R}}}{{\\frac{{{\\sigma _R}}}{{\\sqrt 5 }}}} = \\sqrt 5  \\cdot \\frac{{{{\\bar p}_R} - {\\mu _R}}}{{{\\sigma _R}}}$\n",
    "\n",
    "\n",
    "beschrieben werden. Ebenso gilt für die Prüfvorrichtung\n",
    "\n",
    "${p_P} = \\frac{{{{\\bar p}_P} - {\\mu _P}}}{{\\frac{{{\\sigma _P}}}{{\\sqrt 5 }}}} = \\sqrt 5  \\cdot \\frac{{{{\\bar p}_P} - {\\mu _P}}}{{{\\sigma _P}}}$\n",
    "\n",
    "\n",
    "\n",
    "Die Abweichung der beiden Prüfstände wird durch die Differenz p$_R$ - p$_P$ beschrieben. Da beide Zufallsvariablen normalverteilt sind, ist auch die Differenz normalverteilt mit den Mittelwert \n",
    "\n",
    "$\\Delta \\mu  = {\\mu _P} - {\\mu _R}$\n",
    "\n",
    "\n",
    "\n",
    "und der Standardabweichung\n",
    "\n",
    "\n",
    "$\\sigma  = \\frac{1}{{\\sqrt 5 }} \\cdot \\sqrt {\\sigma _P^2 + \\sigma _R^2} $\n",
    "\n",
    "\n",
    "\n",
    "Damit ist die Größe \n",
    "\n",
    "\n",
    "\n",
    "$z = \\sqrt 5  \\cdot \\frac{{{{\\bar p}_P} - {{\\bar p}_R} - {\\mu _P} + {\\mu _R}}}{{\\sqrt {\\sigma _P^2 + \\sigma _R^2} }} = \\sqrt 5  \\cdot \\frac{{\\Delta \\bar p - \\Delta \\mu }}{{\\sqrt {\\sigma _P^2 + \\sigma _R^2} }}$\n",
    "\n",
    "\n",
    "standardnormalverteilt. Für die Größe z wird folgender Hypothesentest aufgestellt:\n",
    "\n",
    "H0: Die Prüfstände weichen nicht voneinander ab, $\\Delta \\mu$ = 0\n",
    "\n",
    "H1: Die Prüfstände weichen voneinander ab, $\\Delta \\mu$ $\\ne $ 0 \n",
    "\n",
    "\n",
    "\n",
    "\n",
    "\n",
    "b) Die Eingriffsgrenzen ergeben sich unter Annahme der Nullhypothese $\\Delta \\mu$ = 0 aus der Bedingung \n",
    "\n",
    "${c_1} = {F^{ - 1}}\\left( {\\frac{\\alpha }{2}} \\right) =  - 1.96$\n",
    "\n",
    "\n",
    "und \n",
    "\n",
    "\n",
    "${c_2} = {F^{ - 1}}\\left( {1 - \\frac{\\alpha }{2}} \\right) = 1.96$\n",
    "\n",
    "\n",
    "Umrechnen in den Druckbereich führt zu\n",
    "\n",
    "\n",
    "$\\Delta {p_1} = {c_1} \\cdot \\frac{{\\sqrt {\\sigma _P^2 + \\sigma _R^2} }}{{\\sqrt 5 }} =  - 0.472\\,\\,mbar$\n",
    "\n",
    "und\n",
    "\n",
    "$\\Delta {p_2} = {c_2} \\cdot \\frac{{\\sqrt {\\sigma _P^2 + \\sigma _R^2} }}{{\\sqrt 5 }} = 0.472\\,\\,mbar$\n",
    "\n",
    "\n",
    "\n",
    "c) Die Gütefunktion gibt die Wahrscheinlichkeit für eine richtige Verwerfung der Nullhypothese als Funktion der wirklichen Abweichung $\\Delta\\mu$ an. Sie ergibt sich aus der Gleichung\n",
    "\n",
    "\n",
    "\n",
    "$1 - \\beta \\left( {\\Delta \\mu } \\right) = \\int\\limits_{ - \\infty }^{\\Delta {p_1}} {f\\left( {\\Delta p} \\right)\\,\\Delta p}  + 1 - \\int\\limits_{ - \\infty }^{\\Delta {p_2}} {f\\left( {\\Delta p} \\right)\\,\\Delta p}$\n",
    "\n",
    "\n",
    "\n",
    "Dabei ist f($\\Delta$p) eine Normalverteilung mit dem oben berechneten Mittelwert $\\Delta\\mu$ und der oben berechneten Standardabweichung $\\sigma$. \n",
    "\n",
    "\n",
    "\n",
    "\n",
    "d) Die Gütefunktion kann mit folgendem Python-Programm dargestellt werden:\n",
    "\n",
    "Es ergibt sich die blaue Kurve in dem folgenden Diagramm:\n",
    "\n"
   ]
  },
  {
   "cell_type": "code",
   "execution_count": 5,
   "metadata": {},
   "outputs": [
    {
     "data": {
      "text/plain": [
       "(-1.9599639845400545,\n",
       " 1.959963984540054,\n",
       " -0.4720218338173134,\n",
       " 0.4720218338173133)"
      ]
     },
     "execution_count": 5,
     "metadata": {},
     "output_type": "execute_result"
    }
   ],
   "source": [
    "\"\"\" Bibliotheken importieren\"\"\"\n",
    "from scipy.stats import norm   # normal-Verteilung\n",
    "import numpy as np\n",
    "import matplotlib.pyplot as plt\n",
    "%matplotlib inline  \n",
    "\n",
    "\n",
    "''' Definition der Eingriffsgrenzen'''\n",
    "n = 5\n",
    "sigR = 0.2\n",
    "sigP = 0.5\n",
    "sig = np.sqrt(sigP**2+sigR**2)/np.sqrt(n)\n",
    "alpha = 0.05\n",
    "c1 = norm.ppf(alpha/2,0,1)\n",
    "c2 = norm.ppf(1-alpha/2,0,1)\n",
    "p1 = c1 *sig\n",
    "p2 = c2 *sig\n",
    "\n",
    "'''Berechnung der Gütefunktion'''\n",
    "dmu = np.arange(-2,2+0.01, 0.01)\n",
    "G = norm.cdf(p1,dmu,sig) + 1 - norm.cdf(p2,dmu,sig)\n",
    "c1, c2, p1, p2\n"
   ]
  },
  {
   "cell_type": "markdown",
   "metadata": {},
   "source": [
    "e) Die Grenze ergibt sich aus dem ersten Wert der Gütefunktion, der eine Wahrscheinlichkeit \n",
    "p $ \\le $ 0.95 aufweist. Es ergibt sich ein Wert $\\Delta$p = 0.8600 mbar.\n"
   ]
  },
  {
   "cell_type": "code",
   "execution_count": 2,
   "metadata": {},
   "outputs": [
    {
     "data": {
      "text/plain": [
       "0.859999999999999"
      ]
     },
     "execution_count": 2,
     "metadata": {},
     "output_type": "execute_result"
    }
   ],
   "source": [
    "''' Berechnung des ersten Wertes, der eine Wahrscheinlichkeit <= 0.95 besitzt'''\n",
    "bin = np.where(G<=0.95)\n",
    "dp = np.abs(dmu[bin[0][0]])\n",
    "dp"
   ]
  },
  {
   "cell_type": "markdown",
   "metadata": {},
   "source": [
    "f) Bei der Erhöhung des Stichprobenumfangs ändert sich im Wesentlichen die Standardabweichung. Durch eine Iteration kann der erforderliche Stichprobenumfang bestimmt werden. Es werden N = 15 Teile benötigt, um die erforderliche Aussagesicherheit zu bekommen. Die Gütefunktion ist in der Abbildung bereits rot eingezeichnet.\n"
   ]
  },
  {
   "cell_type": "code",
   "execution_count": 3,
   "metadata": {},
   "outputs": [
    {
     "data": {
      "text/plain": [
       "<matplotlib.legend.Legend at 0x29fa4c3f7b8>"
      ]
     },
     "execution_count": 3,
     "metadata": {},
     "output_type": "execute_result"
    },
    {
     "data": {
      "image/png": "[encoded data removed]",
      "text/plain": [
       "<Figure size 432x288 with 1 Axes>"
      ]
     },
     "metadata": {
      "needs_background": "light"
     },
     "output_type": "display_data"
    }
   ],
   "source": [
    "'''Grafikdarstellung der Gütefunktion'''\n",
    "plt.plot(dmu,G, color='b') #für N=5\n",
    "plt.grid(True, which= 'both', axis='both', linestyle='--')\n",
    "plt.xlabel('Reale Abweichung \\ mbar')\n",
    "plt.ylabel('Gütefunktion')\n",
    "plt.ylim(top=1.1, bottom=0)\n",
    "plt.legend(['N=5'])\n",
    "\n",
    "\n",
    "''' Erhöhung des Stichprobenumfangs, bis eine Wahrscheinlichkeit = 0.95 bei dp = 0.5 vorliegt'''\n",
    "n = 0\n",
    "while dp > 0.5:\n",
    "    \n",
    "    n = n + 1\n",
    "    sig = np.sqrt(sigP**2+sigR**2)/np.sqrt(n)\n",
    "    c1 = norm.ppf(alpha/2,0,1)\n",
    "    c2 = norm.ppf(1-alpha/2,0,1)\n",
    "    p1 = c1 *sig\n",
    "    p2 = c2 *sig\n",
    "    G = norm.cdf(p1,dmu,sig) + 1 - norm.cdf(p2,dmu,sig)   \n",
    "    bin = np.where(G<=0.95)\n",
    "    dp = np.abs(dmu[bin[0][0]])\n",
    "    \n",
    "plt.plot(dmu,G, color='r') #für N=15\n",
    "plt.legend(['N=5','N=15'], loc=5)\n"
   ]
  },
  {
   "cell_type": "markdown",
   "metadata": {},
   "source": []
  },
  {
   "cell_type": "markdown",
   "metadata": {},
   "source": [
    "g) Die Eingriffsgrenzen ergeben sich in dem Fall zu p$_1$ = - 0.2725 mbar und p$_2$ = 0.2725 mbar."
   ]
  },
  {
   "cell_type": "code",
   "execution_count": 4,
   "metadata": {},
   "outputs": [
    {
     "data": {
      "text/plain": [
       "(-0.2725219328178067, 0.2725219328178066)"
      ]
     },
     "execution_count": 4,
     "metadata": {},
     "output_type": "execute_result"
    }
   ],
   "source": [
    "p1,p2"
   ]
  },
  {
   "cell_type": "code",
   "execution_count": null,
   "metadata": {},
   "outputs": [],
   "source": []
  }
 ],
 "metadata": {
  "kernelspec": {
   "display_name": "Python 3",
   "language": "python",
   "name": "python3"
  },
  "language_info": {
   "codemirror_mode": {
    "name": "ipython",
    "version": 3
   },
   "file_extension": ".py",
   "mimetype": "text/x-python",
   "name": "python",
   "nbconvert_exporter": "python",
   "pygments_lexer": "ipython3",
   "version": "3.6.8"
  }
 },
 "nbformat": 4,
 "nbformat_minor": 2
}
