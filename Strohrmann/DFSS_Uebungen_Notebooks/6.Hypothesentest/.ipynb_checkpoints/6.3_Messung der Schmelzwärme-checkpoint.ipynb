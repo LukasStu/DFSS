{
 "cells": [
  {
   "cell_type": "markdown",
   "metadata": {},
   "source": [
    "# 6. Hypotesentest\n",
    "\n",
    "### 6.3\tMessung der Schmelzwärme\n",
    "\n",
    "a) Der Datensatz wird zunächst eingelesen\n"
   ]
  },
  {
   "cell_type": "code",
   "execution_count": 1,
   "metadata": {},
   "outputs": [
    {
     "data": {
      "text/plain": [
       "(13, 8)"
      ]
     },
     "execution_count": 1,
     "metadata": {},
     "output_type": "execute_result"
    }
   ],
   "source": [
    "\"\"\" Bibliotheken importieren\"\"\"\n",
    "from scipy.io import  loadmat\n",
    "import scipy.stats as stats\n",
    "from scipy.stats import norm   # normal-Verteilung\n",
    "from scipy.stats import t     # t-Verteitung\n",
    "from scipy.stats import chi2  # Chi-Quadrat-Verteilung \n",
    "from scipy.stats import f     #f-Verteilung\n",
    "import numpy as np\n",
    "import matplotlib.pyplot as plt\n",
    "%matplotlib inline  \n",
    "\n",
    "'''Laden des Datensatzes'''\n",
    "data=loadmat('Schmelzwaerme')\n",
    "VA=data['VA']\n",
    "VB=data['VB']\n",
    "NA = len(VA)\n",
    "NB = len(VB)\n",
    "\n",
    "NA, NB"
   ]
  },
  {
   "cell_type": "markdown",
   "metadata": {},
   "source": [
    "Mittelwert ergibt sich aus den entsprechenden Funktionen in MATLAB, Konfidenzbereiche werden mit den Gleichungen aus der Vorlesung abgeschätzt, Konfidenzbereich für den Mittelwert bei unbekannter Varianz, t-Verteilung mit $ N_A $- 1 Freiheitsgraden\n",
    "\n",
    "\n",
    "$\\bar x - \\frac{{{c_2} \\cdot s}}{{\\sqrt N }} < \\mu  \\le \\bar x - \\frac{{{c_1} \\cdot s}}{{\\sqrt N }}$"
   ]
  },
  {
   "cell_type": "code",
   "execution_count": 2,
   "metadata": {},
   "outputs": [
    {
     "data": {
      "text/plain": [
       "(0.023965787580611866, 80.02076923076923, 80.00628685027753, 80.03525161126093)"
      ]
     },
     "execution_count": 2,
     "metadata": {},
     "output_type": "execute_result"
    }
   ],
   "source": [
    "'''Mittelwert und Standardabweichung''' \n",
    "VAquer = np.mean(VA)\n",
    "SVA = np.std(VA, ddof=1)\n",
    "VBquer = np.mean(VB)\n",
    "SVB = np.std(VB, ddof=1)\n",
    " \n",
    "'''Konfidenzbereiche des Mittelwertes für Verfahren A'''\n",
    "alpha = 0.05\n",
    "muA_min = VAquer - t.ppf(1 - alpha/2,NA-1)*SVA/np.sqrt(NA)\n",
    "muA_max = VAquer - t.ppf(alpha/2,NA-1)*SVA/np.sqrt(NA)\n",
    "SVA, VAquer, muA_min, muA_max"
   ]
  },
  {
   "cell_type": "markdown",
   "metadata": {},
   "source": [
    "Es ergibt sich ein Mittelwert von $\\bar x_A$ = 80.0208 cal/g und ein Konfidenzbereich von \n",
    "\n",
    "\n",
    "$80.0063{\\rm{ }}cal/g < \\mu  \\le 80.0353{\\rm{ }}cal/g$\n",
    " \n"
   ]
  },
  {
   "cell_type": "markdown",
   "metadata": {},
   "source": [
    "b) Standardabweichung ergibt sich aus den entsprechenden Funktionen in MATLAB, Kon-fidenzbereiche werden mit den Gleichungen aus der Vorlesung abgeschätzt, Konfidenzbe-reich für die Varianz, $Chi^2$-Verteilung mit $N_A$ - 1 Freiheitsgraden\n",
    "\n",
    "\n",
    "$\\frac{{{s^2} \\cdot \\left( {{N_A} - 1} \\right)}}{{{c_2}}} < {\\sigma ^2} \\le \\frac{{{s^2} \\cdot \\left( {{N_A} - 1} \\right)}}{{{c_1}}}$\n",
    "\n",
    "Es ergibt sich eine Varianz von $s_A$ = 5.7436.$10^-$$^4$ cal²/g² und ein Konfidenzbereich von \n",
    "\n",
    "${\\rm{2}}{\\rm{.9534}} \\cdot {\\rm{1}}{{\\rm{0}}^{ - 4}}{\\rm{ }}ca{l^2}/{g^2} < {\\sigma ^2} \\le 0.0016{\\rm{ }}ca{l^2}/{g^2}$"
   ]
  },
  {
   "cell_type": "code",
   "execution_count": 3,
   "metadata": {},
   "outputs": [
    {
     "data": {
      "text/plain": [
       "(0.0002953424553506626, 0.0015650859893433019)"
      ]
     },
     "execution_count": 3,
     "metadata": {},
     "output_type": "execute_result"
    }
   ],
   "source": [
    "''' Konfidenzbereiche der Varianz für Verfahren A'''\n",
    "varA_min = SVA**2*(NA-1)/chi2.ppf(1-alpha/2,NA-1)\n",
    "varA_max = SVA**2*(NA-1)/chi2.ppf(alpha/2,NA-1)\n",
    "varA_min, varA_max"
   ]
  },
  {
   "cell_type": "markdown",
   "metadata": {},
   "source": [
    "c) Die Daten für das Histogramm können mit dem Python-Befehl (plt.hist) erzeugt werden. Die Verteilung ist eine t-Verteilung mit $N_A$ – 1 Freiheitsgraden. Um die beiden Grafiken aufeinan-der abzubilden, muss eine der beiden Grafiken skaliert werden. Dabei wird davon ausgegan-gen, dass die Flächen unter beiden Kurven gleich groß sind."
   ]
  },
  {
   "cell_type": "code",
   "execution_count": 4,
   "metadata": {},
   "outputs": [
    {
     "data": {
      "image/png": "[encoded data removed]",
      "text/plain": [
       "<Figure size 432x288 with 1 Axes>"
      ]
     },
     "metadata": {
      "needs_background": "light"
     },
     "output_type": "display_data"
    }
   ],
   "source": [
    "'''Berechnung der entsprechenden Verteilung'''\n",
    "dVAf = 0.001\n",
    "VAf = np.arange(79, 81+dVAf, dVAf)\n",
    "f = norm.pdf(VAf, VAquer, SVA)\n",
    "\n",
    "\n",
    "'''Berechnung des entsprechenden Histogramms'''\n",
    "dVAh = 0.01\n",
    "VAh = np.arange(79, 81+dVAh, dVAh)\n",
    "plt.hist(VA, VAh, weights=(VA/VA)/(NA*dVAh), width=0.008, color='b')\n",
    "plt.plot(VAf, f, color='r')\n",
    "plt.ylim(top=30)\n",
    "plt.xlim(left=79.85, right=80.15)\n",
    "plt.plot([muA_min,muA_min],[0,26])\n",
    "plt.plot([muA_max,muA_max],[0,26])\n",
    "plt.xlabel('Schmelzwärme W Verfahren A / cal/g')\n",
    "plt.ylabel('Wahrscheinlichkeitsdichte f(W)')\n",
    "plt.legend(('Verteilung','Mittelwert min $\\gamma$=0.95','Mittelwert max$\\gamma$=0.95','Stichprobe' ))\n",
    "plt.grid(True, which= 'both', axis='both', linestyle='--')"
   ]
  },
  {
   "cell_type": "markdown",
   "metadata": {},
   "source": [
    "d) Die Prüfung auf gleiche Mittelwerte $\\mu$$_A$ = $\\mu$$_B$ erfolgt über die Variable \n",
    "\n",
    "$t = \\frac{{{{\\bar x}_A} - {{\\bar x}_B}}}{{\\sqrt {\\frac{1}{{{N_A}}} + \\frac{1}{{{N_B}}}}  \\cdot s}}$\n",
    "\n",
    "mit\n",
    "\n",
    "#### $s = \\sqrt {\\frac{{\\left( {{N_A} - 1} \\right) \\cdot s_A^2 + \\left( {{N_B} - 1} \\right) \\cdot s_B^2}}{{{N_A} + {N_B} - 2}}}$\n",
    "\n",
    "Sie besitzt eine t-Verteilung mit (N$_A$ + N$_B$ - 2) Freiheitsgraden. Sind die beiden Mittelwerte $\\mu$$_A$ und $\\mu$$_B$ gleich, muss die Stichprobe in dem Intervall\n",
    "\n",
    "\n",
    "${c_1} \\cdot \\sqrt {\\frac{1}{{{N_A}}} + \\frac{1}{{{N_B}}}}  \\cdot s < {\\bar x_A} - {\\bar x_B} \\le {c_2} \\cdot \\sqrt {\\frac{1}{{{N_A}}} + \\frac{1}{{{N_B}}}}  \\cdot s$\n",
    "\n",
    "\n",
    "liegen. Es kann auch der p-Wert des Hypothesentests bestimmt werden. Beide Ergebnisse sind äquivalent.\n",
    "\n",
    "\n",
    "\n"
   ]
  },
  {
   "cell_type": "code",
   "execution_count": 5,
   "metadata": {},
   "outputs": [
    {
     "data": {
      "text/plain": [
       "0.9979522418309974"
      ]
     },
     "execution_count": 5,
     "metadata": {},
     "output_type": "execute_result"
    }
   ],
   "source": [
    "'''Vergleich der Mittelwerte über einen t-Test mit zwei Stichproben\n",
    "   Berechnung des Annahmebereiches'''\n",
    "Vquer = VAquer - VBquer\n",
    "S = np.sqrt(((NA-1)*SVA**2+(NB-1)*SVB**2)/(NA+NB-2))\n",
    "V1 = t.ppf(alpha/2,NA+NB-2)*np.sqrt(1/NA+1/NB)*S\n",
    "V2 = t.ppf(1-alpha/2,NA+NB-2)*np.sqrt(1/NA+1/NB)*S\n",
    "'''Berechnung des P-Wertes'''\n",
    "P = t.cdf(Vquer/np.sqrt(1/NA+1/NB)/S,NA+NB-2)\n",
    "P"
   ]
  },
  {
   "cell_type": "markdown",
   "metadata": {},
   "source": [
    "Es ergibt sich \n",
    "\n",
    "$P = {\\rm{0}}{\\rm{.9992}} > 1 - \\frac{\\alpha }{2}$\n",
    "\n",
    "wodurch die Hypothese verworfen wird.\n",
    "\n",
    "\n",
    "e) Nach den Rechenregeln zur Varianz ergibt sich für die Variable\n",
    "\n",
    "\n",
    "$y = \\frac{1}{{{N_A}}} \\cdot \\sum\\limits_{n = 1}^{{N_A}} {{x_{An}}}  - \\frac{1}{{{N_B}}} \\cdot \\sum\\limits_{n = 1}^{{N_B}} {{x_{Bn}}} $\n",
    "\n",
    "die Varianz\n",
    "\n",
    "\n",
    "$\\sigma _y^2 = \\frac{1}{{N_A^2}} \\cdot \\sum\\limits_{n = 1}^{{N_A}} {\\sigma _x^2}  + \\frac{1}{{N_B^2}} \\cdot \\sum\\limits_{n = 1}^{{N_B}} {\\sigma _x^2}  = \\frac{1}{{{N_A}}} \\cdot \\sigma _x^2 + \\frac{1}{{{N_B}}} \\cdot \\sigma _x^2$"
   ]
  },
  {
   "cell_type": "code",
   "execution_count": 6,
   "metadata": {},
   "outputs": [
    {
     "data": {
      "text/plain": [
       "(0.04076923076924288,\n",
       " 0.027807900895730323,\n",
       " -0.026153836490786907,\n",
       " 0.0261538364907869,\n",
       " 0.9979522418309974)"
      ]
     },
     "execution_count": 6,
     "metadata": {},
     "output_type": "execute_result"
    }
   ],
   "source": [
    "Vquer = VAquer - VBquer\n",
    "S = np.sqrt(((NA-1)*SVA**2+(NB-1)*SVB**2)/(NA+NB-2))\n",
    "V1 = t.ppf(alpha/2,NA+NB-2)*np.sqrt(1/NA+1/NB)*S\n",
    "V2 = t.ppf(1-alpha/2,NA+NB-2)*np.sqrt(1/NA+1/NB)*S\n",
    "P = t.cdf(Vquer/np.sqrt(1/NA+1/NB)/S,NA+NB-2)\n",
    "Vquer, S, V1, V2, P # richtig... überprüft mit dem matlab_Ergebnis"
   ]
  },
  {
   "cell_type": "code",
   "execution_count": 7,
   "metadata": {},
   "outputs": [
    {
     "data": {
      "text/plain": [
       "F_onewayResult(statistic=array([10.64492645]), pvalue=array([0.00409552]))"
      ]
     },
     "execution_count": 7,
     "metadata": {},
     "output_type": "execute_result"
    }
   ],
   "source": [
    "''' Alternativ kann eine Varianzanalyse durchgeführt werden'''\n",
    "stats.f_oneway(VA,VB)"
   ]
  }
 ],
 "metadata": {
  "kernelspec": {
   "display_name": "Python 3",
   "language": "python",
   "name": "python3"
  },
  "language_info": {
   "codemirror_mode": {
    "name": "ipython",
    "version": 3
   },
   "file_extension": ".py",
   "mimetype": "text/x-python",
   "name": "python",
   "nbconvert_exporter": "python",
   "pygments_lexer": "ipython3",
   "version": "3.6.8"
  }
 },
 "nbformat": 4,
 "nbformat_minor": 2
}
