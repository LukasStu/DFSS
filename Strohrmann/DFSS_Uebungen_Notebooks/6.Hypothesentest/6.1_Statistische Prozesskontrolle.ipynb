{
 "cells": [
  {
   "cell_type": "markdown",
   "metadata": {},
   "source": [
    "# 6\tHypothesentest\n",
    "\n",
    "\n",
    "## 6.1\tStatistische Prozesskontrolle\n",
    "\n",
    "\n",
    "\n",
    "a) Zur Überwachung des Mittelwertes wird die standardnormalverteilte Größe \n",
    "\n",
    "\n",
    "$z = \\frac{{\\bar x - \\mu }}{{\\frac{\\sigma }{{\\sqrt N }}}} = \\sqrt N  \\cdot \\frac{{\\bar x - \\mu }}{\\sigma }$\n",
    "\n",
    "\n",
    "verwendet. Die Hypothesen sind\n",
    "\n",
    "H0:\tMittelwert ist richtig µ = 3\n",
    "\n",
    "\n",
    "H1:\tMittelwert weicht ab µ $\\ne$ 3\n",
    "\n",
    "\n",
    "b) Für ein Signifikanzniveau von $\\alpha$ = 5 % ergeben sich mit \n",
    "\n",
    "${c_1} = {F^{ - 1}}\\left( {\\frac{\\alpha }{2}} \\right) =  - 1.9600$\n",
    "\n",
    "und  \n",
    "\n",
    "\n",
    "${c_2} = {F^{ - 1}}\\left( {1 - \\frac{\\alpha }{2}} \\right) = 1.9600$\n",
    "\n",
    "\n",
    "die Eingriffsgrenzen\n",
    "\n",
    "\n",
    "${\\rm{2}}{\\rm{.5617}} = {\\mu _{C1}} = \\mu  + \\frac{{{c_1} \\cdot \\sigma }}{{\\sqrt N }} < \\bar x \\le \\mu  + \\frac{{{c_2} \\cdot \\sigma }}{{\\sqrt N }} = {\\mu _{C2}} = {\\rm{3}}{\\rm{.4383}}$\n"
   ]
  },
  {
   "cell_type": "code",
   "execution_count": 1,
   "metadata": {},
   "outputs": [
    {
     "data": {
      "text/plain": [
       "(3.4382612702882906, 2.561738729711709)"
      ]
     },
     "execution_count": 1,
     "metadata": {},
     "output_type": "execute_result"
    }
   ],
   "source": [
    "\"\"\" Bibliotheken importieren\"\"\"\n",
    "from scipy.stats import norm   # normal-Verteilung\n",
    "from scipy.stats import t     # t-Verteitung\n",
    "from scipy.stats import chi2  # Chi-Quadrat-Verteilung \n",
    "import numpy as np\n",
    "import matplotlib.pyplot as plt\n",
    "%matplotlib inline  \n",
    "\n",
    "\n",
    "''' Definition der Funktion '''\n",
    "alpha = 0.05\n",
    "N = 5\n",
    "M = 10\n",
    "mu = 3\n",
    "sig = 0.5\n",
    "x = np.random.normal(mu,sig/np.sqrt(N),M)\n",
    "OEG = mu + norm.ppf(1-alpha/2,0,1)*sig/np.sqrt(N)\n",
    "UEG = mu + norm.ppf(alpha/2,0,1)*sig/np.sqrt(N)\n",
    "OEG,UEG"
   ]
  },
  {
   "cell_type": "markdown",
   "metadata": {},
   "source": [
    "c) Die Gütefunktion gibt die Wahrscheinlichkeit für eine richtige Verwerfung der Nullhypo-these als Funktion der wirklichen Abweichung ${\\Delta \\mu}$  an. Sie ergibt sich aus der Gleichung\n",
    "\n",
    "$1 - \\beta \\left( {\\Delta \\mu } \\right) = \\int\\limits_{ - \\infty }^{UEG} {f\\left( x \\right)\\,dx}  + 1 - \\int\\limits_{ - \\infty }^{OEG} {f\\left( x \\right)\\,dx} $\n",
    "\n",
    "\n",
    "Dabei ist f(x) eine Normalverteilung mit dem oben berechneten Mittelwert µ + ${\\Delta \\mu}$ und der Standardabweichung σ/√N\n",
    "\n",
    "\n",
    "Es ergibt sich die blaue Kurve in dem folgenden Diagramm:"
   ]
  },
  {
   "cell_type": "code",
   "execution_count": 2,
   "metadata": {},
   "outputs": [
    {
     "data": {
      "text/plain": [
       "<matplotlib.legend.Legend at 0x21f2ac1dac8>"
      ]
     },
     "execution_count": 2,
     "metadata": {},
     "output_type": "execute_result"
    },
    {
     "data": {
      "image/png": "[encoded data removed]",
      "text/plain": [
       "<Figure size 432x288 with 1 Axes>"
      ]
     },
     "metadata": {
      "needs_background": "light"
     },
     "output_type": "display_data"
    }
   ],
   "source": [
    "'''Berechnung der Gütefunktion'''\n",
    "dmu = np.arange(-2,2.001,0.001)\n",
    "G = norm.cdf(UEG,mu + dmu,sig/np.sqrt(N)) + 1 - norm.cdf(OEG,mu + dmu,sig/np.sqrt(N))\n",
    "\n",
    "\n",
    "'''Grafikdarstellung der Gütefunktion'''\n",
    "plt.plot(dmu,G, color='b') #für N=5\n",
    "plt.grid(True, which= 'both', axis='both', linestyle='--')\n",
    "plt.xlabel('Reale Abweichung ${\\Delta\\mu}$')\n",
    "plt.ylabel('Gütefunktion')\n",
    "plt.ylim(top=1.1, bottom=0)\n",
    "\n",
    "\n",
    "''' Berechnung des ersten Wertes, der eine Wahrscheinlichkeit <= 0.95 besitzt'''\n",
    "bin = np.where(G<=0.95)\n",
    "Dmu = np.abs(dmu[bin[0][0]])\n",
    "\n",
    "n = 0\n",
    "while Dmu > 0.5:\n",
    "    n = n + 1\n",
    "    OEG = mu + norm.ppf(1-alpha/2,0,1)*sig/np.sqrt(n)\n",
    "    UEG = mu + norm.ppf(alpha/2,0,1)*sig/np.sqrt(n)\n",
    "    G = norm.cdf(UEG,mu + dmu,sig/np.sqrt(n)) + 1 - norm.cdf(OEG,mu + dmu,sig/np.sqrt(n))\n",
    "    bin = np.where(G<=0.95)\n",
    "    Dmu = np.abs(dmu[bin[0][0]])\n",
    "    \n",
    "plt.plot(dmu,G, color='r') #für N=13\n",
    "plt.legend(['N=5','N=13'], loc=7)"
   ]
  },
  {
   "cell_type": "markdown",
   "metadata": {},
   "source": [
    "d) Nach dem Diagramm wird eine Abweichung von${\\Delta\\mu}$= 0.5 wird mit einer Wahrscheinlich-keit von 60.88 % erkannt."
   ]
  },
  {
   "cell_type": "markdown",
   "metadata": {},
   "source": [
    "e) Erhöhung des Stichprobenumfangs führt zu einer Verringerung der Varianz. Dadurch än-dern sich Eingriffsgrenzen und Gütefunktion. Der Stichprobenumfang wird solange erhöht, bis die geforderte Aussagesicherheit erreicht wird.\n",
    "\n",
    "\n",
    "\n",
    "##### Die entsprechende Gütefunktion ist in dem Diagramm  oben bereits eingezeichnet.\n",
    "\n",
    "\n",
    "\n",
    "f) Es ergeben sich die Eingriffsgrenzen UEG = 2.7282 und OEG = 3.2718.\n",
    "\n"
   ]
  },
  {
   "cell_type": "code",
   "execution_count": 4,
   "metadata": {},
   "outputs": [
    {
     "data": {
      "text/plain": [
       "(3.2717981017046873, 2.7282018982953122)"
      ]
     },
     "execution_count": 4,
     "metadata": {},
     "output_type": "execute_result"
    }
   ],
   "source": [
    "''' Eingriffsgrenzen '''\n",
    "OEG = mu + norm.ppf(1-alpha/2,0,1)*sig/np.sqrt(n)\n",
    "UEG = mu + norm.ppf(alpha/2,0,1)*sig/np.sqrt(n)\n",
    "OEG, UEG"
   ]
  },
  {
   "cell_type": "code",
   "execution_count": null,
   "metadata": {},
   "outputs": [],
   "source": []
  }
 ],
 "metadata": {
  "kernelspec": {
   "display_name": "Python 3",
   "language": "python",
   "name": "python3"
  },
  "language_info": {
   "codemirror_mode": {
    "name": "ipython",
    "version": 3
   },
   "file_extension": ".py",
   "mimetype": "text/x-python",
   "name": "python",
   "nbconvert_exporter": "python",
   "pygments_lexer": "ipython3",
   "version": "3.7.5"
  }
 },
 "nbformat": 4,
 "nbformat_minor": 2
}
