{
 "cells": [
  {
   "cell_type": "markdown",
   "metadata": {},
   "source": [
    "# 10.2\tLebensdauer von Generatoren\n",
    "\n",
    "a) Es handelt sich um eine zweidimensionale Varianzanalyse. Jeder Versuchspunkt wurde vier-mal gemessen. Es ergeben sich damit vier unterschiedliche Varianzen:\n",
    "\n",
    "\n",
    "•\tVarianz durch Änderung der Umgebungstemperatur\n",
    "\n",
    "•\tVarianz durch Änderung des Materials\n",
    "\n",
    "•\tWechselwirkung zwischen Temperatur und Material\n",
    "\n",
    "•\tVarianz innerhalb der Gruppen\n",
    "\n",
    "\n",
    "In der ANOVA-Tabelle werden die drei ersten Varianzgründe mit der Varianz innerhalb der Gruppe zueinander in Verhältnis gesetzt. Es ergeben sich F-verteilte Zufallsvariable, die statis-tisch bewertet werden können.\n"
   ]
  },
  {
   "cell_type": "code",
   "execution_count": 5,
   "metadata": {},
   "outputs": [
    {
     "name": "stdout",
     "output_type": "stream",
     "text": [
      "  bg: \t SS = 34527.333, \t df =   5\n",
      "Rows: \t SS =  2256.583, \t df =   2, \t ms =  1128.292, \t F =     2.480, \t p =   0.1119\n",
      "Cols: \t SS = 31682.667, \t df =   1, \t ms = 31682.667, \t F =    69.632, \t p =   0.0000\n",
      " Int: \t SS =   588.083, \t df =   2, \t ms =   294.042, \t F =     0.646, \t p =   0.5357\n",
      "  wg: \t SS =  8190.000, \t df =  18, \t ms =   455.000\n",
      "TOTL: \t SS = 42717.333, \t df =  23\n"
     ]
    }
   ],
   "source": [
    "\"\"\" Bibliotheken importieren\"\"\"\n",
    "import pandas as pd\n",
    "from scipy.io import  loadmat\n",
    "import matplotlib.pyplot as plt\n",
    "import numpy as np\n",
    "import ANOVA2\n",
    "\n",
    "%matplotlib inline  \n",
    "\n",
    "'''Daten laden'''\n",
    "data1=loadmat('LebensdauerGeneratoren')['Data1']\n",
    "data2=loadmat('LebensdauerGeneratoren')['Data2']\n",
    "\n",
    "''' um ptl_anova2_Funktion to verwenden soll die Anzahl der Gruppen (3 Materials) definiert werden'''\n",
    "Nr_groups=3\n",
    "\n",
    "''' und neue Spalte für die Gruppen zu dem Datensatz hinzugefügt werden'''\n",
    "data1=np.c_[[[int(i/(data1.shape[0]/Nr_groups))] for i in range (data1.shape[0])], data1]\n",
    "\n",
    "\n",
    "''' Jetzt der Datensatz ist bereit um ptl_anova2 von ANOVA2_Datei Aufzurufen'''\n",
    "\n",
    "df1=pd.DataFrame(data=data1, columns=['Material', 'C10','C18'])\n",
    "\n",
    "ANOVA2.ptl_anova2(df1)\n"
   ]
  },
  {
   "cell_type": "markdown",
   "metadata": {},
   "source": [
    "Die ANOVA-Tabelle zeigt, dass nur die unterschiedlichen Säulen signifikant voneinander ab-weichen. Die Säulen entsprechen den unterschiedlichen Umgebungstemperaturen. Sowohl das Material als auch die Wechselwirkung zwischen Umgebungstemperatur und Material haben kei-nen signifikanten Einfluss auf das Ergebnis."
   ]
  },
  {
   "cell_type": "markdown",
   "metadata": {},
   "source": [
    "b) Zur Plausibilisierung werden wieder Box-Plots eingesetzt. Bei den unterschiedlichen Umgebungstemperauren überlappen sich die Boxes nicht, die Einflussgröße ist auch nach der ANOVA-Tabelle signifikant. "
   ]
  },
  {
   "cell_type": "code",
   "execution_count": 2,
   "metadata": {},
   "outputs": [
    {
     "data": {
      "text/plain": [
       "(25, 200)"
      ]
     },
     "execution_count": 2,
     "metadata": {},
     "output_type": "execute_result"
    },
    {
     "data": {
      "image/png": "[encoded data removed]",
      "text/plain": [
       "<Figure size 432x288 with 1 Axes>"
      ]
     },
     "metadata": {
      "needs_background": "light"
     },
     "output_type": "display_data"
    }
   ],
   "source": [
    "df1.boxplot(column=['C10','C18'])\n",
    "plt.xlabel('Umgebungstemperaur')\n",
    "plt.ylabel('Lebensdauer')\n",
    "plt.ylim(top=200, bottom=25)"
   ]
  },
  {
   "cell_type": "markdown",
   "metadata": {},
   "source": [
    "###### Der folgende Box-Plot zeigt, dass sich das Material nicht signifikant auf die Lebensdauer auswirkt, die einzelnen Boxes überlappen stark."
   ]
  },
  {
   "cell_type": "code",
   "execution_count": 3,
   "metadata": {},
   "outputs": [
    {
     "data": {
      "text/plain": [
       "(10, 200)"
      ]
     },
     "execution_count": 3,
     "metadata": {},
     "output_type": "execute_result"
    },
    {
     "data": {
      "image/png": "[encoded data removed]",
      "text/plain": [
       "<Figure size 432x288 with 1 Axes>"
      ]
     },
     "metadata": {
      "needs_background": "light"
     },
     "output_type": "display_data"
    }
   ],
   "source": [
    "df2=pd.DataFrame(data2.T, columns=['Material1', 'Material2','Material3'])\n",
    "df2.boxplot()\n",
    "plt.xlabel('Material')\n",
    "plt.ylabel('Lebensdauer')\n",
    "plt.ylim(top=200, bottom=10)"
   ]
  },
  {
   "cell_type": "markdown",
   "metadata": {},
   "source": [
    "Die Wechselwirkung kann mithilfe von Box-Plots nicht bewertet. Stattdessen wird ein Wechselwirkungsdiagramm erstellt, bei dem die Ausgangsgröße als Funktion einer Eingangsgröße darge-stellt wird. Für jede Eingangsstufe der zweiten Größe werden zusätzliche Kurven eingezeichnet.\n",
    "\n",
    "\n",
    "\n",
    "\n"
   ]
  },
  {
   "cell_type": "code",
   "execution_count": 4,
   "metadata": {},
   "outputs": [
    {
     "data": {
      "text/plain": [
       "<matplotlib.legend.Legend at 0x1c64d138508>"
      ]
     },
     "execution_count": 4,
     "metadata": {},
     "output_type": "execute_result"
    },
    {
     "data": {
      "image/png": "[encoded data removed]",
      "text/plain": [
       "<Figure size 432x288 with 1 Axes>"
      ]
     },
     "metadata": {
      "needs_background": "light"
     },
     "output_type": "display_data"
    }
   ],
   "source": [
    "plt.plot([1,2,3],np.mean(data2[:,0:3],axis=1),'b')\n",
    "plt.plot([1,2,3],np.mean(data2[:,4:7],axis=1),'r')\n",
    "plt.grid(True)\n",
    "plt.xlabel('Material')\n",
    "plt.ylabel('Lebensdauer')\n",
    "plt.ylim(top=180, bottom=40)\n",
    "plt.xlim(right=3.5, left=0.5)\n",
    "plt.legend(['10 Grad', '18 Grad'])\n"
   ]
  },
  {
   "cell_type": "markdown",
   "metadata": {},
   "source": [
    "###### Der weitgehend parallele Verlauf der Kurven zeigt, dass die Wechselwirkung nicht signifikant ist."
   ]
  }
 ],
 "metadata": {
  "kernelspec": {
   "display_name": "Python 3",
   "language": "python",
   "name": "python3"
  },
  "language_info": {
   "codemirror_mode": {
    "name": "ipython",
    "version": 3
   },
   "file_extension": ".py",
   "mimetype": "text/x-python",
   "name": "python",
   "nbconvert_exporter": "python",
   "pygments_lexer": "ipython3",
   "version": "3.7.5"
  }
 },
 "nbformat": 4,
 "nbformat_minor": 2
}
