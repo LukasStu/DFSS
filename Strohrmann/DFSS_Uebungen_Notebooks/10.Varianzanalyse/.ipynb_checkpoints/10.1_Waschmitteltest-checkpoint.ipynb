{
 "cells": [
  {
   "cell_type": "markdown",
   "metadata": {},
   "source": [
    "### 10.1 Waschmitteltest\n",
    "\n",
    "a) Es handelt sich um einen Test, bei dem verschiedene Waschmittel bewertet werden sollen. Die Ausführung auf verschiedene Waschmaschinen wird als Varianz innerhalb der Gruppe interpre-tiert. Damit handelt es sich bei der Aufgabe um eine eindimensionale Varianzanalyse. "
   ]
  },
  {
   "cell_type": "code",
   "execution_count": 1,
   "metadata": {},
   "outputs": [
    {
     "data": {
      "text/plain": [
       "array([53, 50, 59], dtype=uint8)"
      ]
     },
     "execution_count": 1,
     "metadata": {},
     "output_type": "execute_result"
    }
   ],
   "source": [
    "\"\"\" Bibliotheken importieren\"\"\"\n",
    "from scipy.io import  loadmat\n",
    "from scipy import  stats\n",
    "import numpy as np\n",
    "import matplotlib.pyplot as plt\n",
    "%matplotlib inline  \n",
    "\n",
    "'''Daten laden'''\n",
    "datax=loadmat('Waschmitteltest')['Testergebnis']\n",
    "\n",
    "'''F One_Way ANOVA erwartet die Daten in Spaltenform, deshalb muss der Datensatz nach dem Laden transponiert werden. '''\n",
    "data=np.transpose(datax)\n",
    "datax[0]"
   ]
  },
  {
   "cell_type": "markdown",
   "metadata": {},
   "source": [
    "##### Es ergibt dich folgende ANOVA-Test:"
   ]
  },
  {
   "cell_type": "code",
   "execution_count": 2,
   "metadata": {},
   "outputs": [
    {
     "data": {
      "text/plain": [
       "(1.7344632768361583, 0.23706554997661344)"
      ]
     },
     "execution_count": 2,
     "metadata": {},
     "output_type": "execute_result"
    }
   ],
   "source": [
    "'''F One_Way ANOVA'''\n",
    "F, P = stats.f_oneway(data[:,0],data[:,1],data[:,2],data[:,3] )\n",
    "\n",
    "F,P\n"
   ]
  },
  {
   "cell_type": "markdown",
   "metadata": {},
   "source": [
    "Die Wahrscheinlichkeit, dass alle Datensätze denselben Mittelwert haben, liegt bei 23.71 %. Da der Wert größer als 5 % ist, wird die Nullhypothese gleicher Mittelwerte nicht verworfen.\n",
    "\n",
    "\n",
    "Als Bewertungsmaß wird das Verhältnis von der Varianz innerhalb der Gruppen und der Vari-anz von Gruppe zu Gruppe herangezogen. Das Verhältnis zweier Varianzen ist eine F-verteilte Variable F, die Basis für den statistischen Test ist.\n",
    "\n",
    "\n",
    "\n",
    "##### b) Die Plausibilisierung ergibt sich durch den Box-Plot, der in der folgenden Abbildung dargestellt ist. \n"
   ]
  },
  {
   "cell_type": "code",
   "execution_count": 3,
   "metadata": {},
   "outputs": [
    {
     "data": {
      "text/plain": [
       "Text(0, 0.5, 'Waschergebnis')"
      ]
     },
     "execution_count": 3,
     "metadata": {},
     "output_type": "execute_result"
    },
    {
     "data": {
      "image/png": "[encoded data removed]",
      "text/plain": [
       "<Figure size 432x288 with 1 Axes>"
      ]
     },
     "metadata": {
      "needs_background": "light"
     },
     "output_type": "display_data"
    }
   ],
   "source": [
    "'''der Box-Plot'''\n",
    "plt.boxplot(data, labels= ['A','B','C','D'])\n",
    "plt.grid(True,linestyle='--' )\n",
    "plt.ylim(top=65, bottom=45)\n",
    "plt.xlabel('Waschmittel')\n",
    "plt.ylabel('Waschergebnis')"
   ]
  },
  {
   "cell_type": "markdown",
   "metadata": {},
   "source": [
    "Dadurch, dass sich die einzelnen Boxes überlappen, bestätigt der Box-Plot die Aussage der A-NOVA-Test."
   ]
  }
 ],
 "metadata": {
  "kernelspec": {
   "display_name": "Python 3",
   "language": "python",
   "name": "python3"
  },
  "language_info": {
   "codemirror_mode": {
    "name": "ipython",
    "version": 3
   },
   "file_extension": ".py",
   "mimetype": "text/x-python",
   "name": "python",
   "nbconvert_exporter": "python",
   "pygments_lexer": "ipython3",
   "version": "3.7.3"
  }
 },
 "nbformat": 4,
 "nbformat_minor": 2
}
