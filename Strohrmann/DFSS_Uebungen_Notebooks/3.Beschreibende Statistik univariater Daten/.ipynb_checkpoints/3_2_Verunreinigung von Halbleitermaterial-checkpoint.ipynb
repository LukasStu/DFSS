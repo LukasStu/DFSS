{
 "cells": [
  {
   "cell_type": "markdown",
   "metadata": {},
   "source": [
    "# 3\tBeschreibende Statistik univariater Daten\n",
    "\n",
    "\n",
    "## 3.2\tVerunreinigung von Halbleitermaterial\n",
    "\n",
    "\n",
    "a) Für die vorliegende Stichprobe berechnet sich das arithmetische Mittel mit dem Befehl np.mean(…) zu\n",
    "\n",
    "$\\bar x = \\frac{{{x_1} + {\\rm{ }}...{\\rm{ }} + {x_N}}}{N} = \\frac{1}{N} \\cdot \\sum\\limits_{n = 1}^N {{x_n}}  = {\\rm{502}}{\\rm{.1647 }}ppm$\n",
    "\n",
    "Der Median ${x_{med}}$ ergibt sich mit dem Befehl np.median(…)\n",
    "\n",
    "#### ${x_{med}} = {c_{n - 1}} + \\frac{{d \\cdot \\left( {0.5 - H\\left( {{c_{n - 1}}} \\right)} \\right)}}{{h\\left( {{c_n}} \\right)}} = {\\rm{502}}{\\rm{.0939 }}ppm$\n",
    "\n",
    "In Python kann die Berechnung der Spannweite vereinfacht mit dem Befehl numpy.ptp(…) durchgeführt werden. Für die angegebenen Zahlenwerte ergibt sich eine Spannweite von\n",
    "\n",
    "$\\Delta x = {x_{MAX}} - {x_{MIN}} = {\\rm{2}}{\\rm{.7490 }}ppm$\n",
    "\n",
    "Die Varianz betrachtet die Streuung aller Stichprobenwerte um den Mittelwert. Der entsprechende Befehl lautet np.var(…).\n",
    "\n",
    "${s^2} = \\frac{1}{{N - 1}} \\cdot \\sum\\limits_{n = 1}^N {{{\\left( {{x_n} - \\bar x} \\right)}^2}}  = {\\rm{0}}{\\rm{.4377 }}pp{m^{\\rm{2}}}$\n",
    "\n",
    "Die Standardabweichung s ergibt sich aus der positiven Quadratwurzel der Varianz s2 und be-rechnet sich mit dem Befehl np.std(…) zu\n",
    "\n",
    "$s = \\sqrt {\\frac{1}{{N - 1}} \\cdot \\sum\\limits_{n = 1}^N {{{\\left( {{x_n} - \\bar x} \\right)}^2}} }  = {\\rm{0}}{\\rm{.6616 }}ppm$\n",
    "\n",
    "\n",
    "Die Standardabweichung hat dieselbe physikalische Dimension wie die Stichprobenwerte x und eignet sich damit gut für eine anschauliche Interpretation."
   ]
  },
  {
   "cell_type": "code",
   "execution_count": 1,
   "metadata": {},
   "outputs": [],
   "source": [
    "\"\"\" Bibliotheken importieren\"\"\"\n",
    "import numpy as np\n",
    "from scipy.io import loadmat\n",
    "import pandas as pd\n",
    "import matplotlib.pyplot as plt\n",
    "%matplotlib inline  "
   ]
  },
  {
   "cell_type": "code",
   "execution_count": 2,
   "metadata": {},
   "outputs": [],
   "source": [
    "'''Einlesen und Umsortieren der Daten aus dem .mat-file'''\n",
    "data = loadmat('Halbleitermaterial')['values']\n"
   ]
  },
  {
   "cell_type": "code",
   "execution_count": 3,
   "metadata": {},
   "outputs": [
    {
     "name": "stdout",
     "output_type": "stream",
     "text": [
      "Arithmetischer Mittelwert:  502.1647348127196 ppm\n"
     ]
    }
   ],
   "source": [
    "'''Arithmetischer Mittelwert '''\n",
    "X=np.array(data).reshape(data.shape[0]*data.shape[1])\n",
    "Xmean = np.mean(X)\n",
    "print('Arithmetischer Mittelwert: ', Xmean, 'ppm')\n"
   ]
  },
  {
   "cell_type": "code",
   "execution_count": 4,
   "metadata": {},
   "outputs": [
    {
     "name": "stdout",
     "output_type": "stream",
     "text": [
      " Median: 502.093903027705 ppm\n"
     ]
    }
   ],
   "source": [
    "'''Median'''\n",
    "Xmed = np.median(X)\n",
    "print(' Median:', Xmed , 'ppm')"
   ]
  },
  {
   "cell_type": "code",
   "execution_count": 5,
   "metadata": {},
   "outputs": [
    {
     "name": "stdout",
     "output_type": "stream",
     "text": [
      "Spannweite: 2.748951017305558 ppm\n"
     ]
    }
   ],
   "source": [
    "'''Spannweite (np.ptp (peak to peak)'''\n",
    "Xspannweite = np.ptp(X)\n",
    "print('Spannweite:', Xspannweite, 'ppm' )"
   ]
  },
  {
   "cell_type": "code",
   "execution_count": 6,
   "metadata": {},
   "outputs": [
    {
     "name": "stdout",
     "output_type": "stream",
     "text": [
      "Varianz:  0.437732396296706 ppm2\n"
     ]
    }
   ],
   "source": [
    "'''Varianz'''\n",
    "\"\"\"ddof : int, optional\n",
    "“Delta Degrees of Freedom”: the divisor used in the calculation is N - ddof,\n",
    "where N represents the number of elements. By default ddof is zero.\"\"\"\n",
    "\n",
    "Xvarianz = np.var(X, ddof=1)\n",
    "print('Varianz: ', Xvarianz, 'ppm2')"
   ]
  },
  {
   "cell_type": "code",
   "execution_count": 7,
   "metadata": {},
   "outputs": [
    {
     "name": "stdout",
     "output_type": "stream",
     "text": [
      "Standardabweichung: 0.6616134795306895 ppm\n"
     ]
    }
   ],
   "source": [
    "'''Standardabweichung'''\n",
    "Xstdv = np.std(X,ddof=1)\n",
    "print('Standardabweichung:', Xstdv, 'ppm')"
   ]
  },
  {
   "cell_type": "markdown",
   "metadata": {},
   "source": [
    " b) Die relative Summenhäufigkeit ergibt bei eine sortierten Datensatz aus der Kenntnis, dass jeder der N Werte einmal vorkommt. Jeder Wert hat die relative Häufugkeit 1/N. Deshalb steigt die relative Summenhäufigkeit bei jedem Wert um 1/N an. Die Realisierung ist in folgendem Programmausschnitt zu sehen.\n",
    "\n",
    "###### Es ergibt sich folgende relative Summenhäufigkeit."
   ]
  },
  {
   "cell_type": "code",
   "execution_count": 8,
   "metadata": {},
   "outputs": [
    {
     "data": {
      "text/plain": [
       "<matplotlib.collections.PathCollection at 0x2006f6166a0>"
      ]
     },
     "execution_count": 8,
     "metadata": {},
     "output_type": "execute_result"
    },
    {
     "data": {
      "image/png": "[encoded data removed]",
      "text/plain": [
       "<Figure size 432x288 with 1 Axes>"
      ]
     },
     "metadata": {
      "needs_background": "light"
     },
     "output_type": "display_data"
    }
   ],
   "source": [
    "N=len(X)\n",
    "dataSort=np.sort(X)\n",
    "relSummenhaeufigkeit = (1/N)*np.arange(1,N+1)\n",
    "\n",
    "plt.step(np.append([500,500.5, 500.95],dataSort) , np.append([0.0,0.0,0.0],relSummenhaeufigkeit),color='b', )\n",
    "plt.xlim(left=500, right=504)\n",
    "plt.ylim(bottom=0.0, top=1)\n",
    "plt.grid(True, which= 'both', axis='both', linestyle='--')\n",
    "plt.xlabel('Verunreinigung M / ppm')\n",
    "plt.ylabel('Relative Summenhäufigkeit H(M)')\n",
    "quantiles=np.quantile(X,[0.25, 0.5, 0.75])\n",
    "plt.scatter(quantiles, [0.25, 0.5, 0.75], color='r')"
   ]
  },
  {
   "cell_type": "markdown",
   "metadata": {},
   "source": [
    "#### c) Mit dem Befehl np.quantile(…) lassen sich die unten aufgeführten Quantile berechnen und der Quartilkoeffizient der Schiefe bestimmen."
   ]
  },
  {
   "cell_type": "code",
   "execution_count": 9,
   "metadata": {},
   "outputs": [
    {
     "name": "stdout",
     "output_type": "stream",
     "text": [
      "Bewertung der Schiefe der Verteilung: Stichprobe ist rechtsschief\n"
     ]
    },
    {
     "data": {
      "text/html": [
       "<div>\n",
       "<style scoped>\n",
       "    .dataframe tbody tr th:only-of-type {\n",
       "        vertical-align: middle;\n",
       "    }\n",
       "\n",
       "    .dataframe tbody tr th {\n",
       "        vertical-align: top;\n",
       "    }\n",
       "\n",
       "    .dataframe thead th {\n",
       "        text-align: right;\n",
       "    }\n",
       "</style>\n",
       "<table border=\"1\" class=\"dataframe\">\n",
       "  <thead>\n",
       "    <tr style=\"text-align: right;\">\n",
       "      <th></th>\n",
       "      <th>Quantil</th>\n",
       "      <th>Wert</th>\n",
       "    </tr>\n",
       "  </thead>\n",
       "  <tbody>\n",
       "    <tr>\n",
       "      <th>0</th>\n",
       "      <td>25 %</td>\n",
       "      <td>501.736904</td>\n",
       "    </tr>\n",
       "    <tr>\n",
       "      <th>1</th>\n",
       "      <td>50 %</td>\n",
       "      <td>502.093903</td>\n",
       "    </tr>\n",
       "    <tr>\n",
       "      <th>2</th>\n",
       "      <td>75 %</td>\n",
       "      <td>502.602032</td>\n",
       "    </tr>\n",
       "    <tr>\n",
       "      <th>3</th>\n",
       "      <td>25%-Quartilkoeffizient der Schiefe</td>\n",
       "      <td>0.174691</td>\n",
       "    </tr>\n",
       "  </tbody>\n",
       "</table>\n",
       "</div>"
      ],
      "text/plain": [
       "                              Quantil        Wert\n",
       "0                                25 %  501.736904\n",
       "1                                50 %  502.093903\n",
       "2                                75 %  502.602032\n",
       "3  25%-Quartilkoeffizient der Schiefe    0.174691"
      ]
     },
     "execution_count": 9,
     "metadata": {},
     "output_type": "execute_result"
    }
   ],
   "source": [
    "'''Berechnung der Quartile mit Matlab Funktion quantile'''\n",
    "quantiles=np.quantile(X,[0.25, 0.5, 0.75])\n",
    "quantil_25=quantiles[0]\n",
    "quantil_50=quantiles[1]\n",
    "quantil_75=quantiles[2]\n",
    "\n",
    "'''Berechung des Quartilkoeffizienten der Schiefe'''\n",
    "\n",
    "quartilCoeff_25 = ((quantil_75-quantil_50)-(quantil_50-quantil_25))/(quantil_75-quantil_25)\n",
    "\n",
    "\n",
    "'''Ergebnisdarstellung in einer Tabelle'''\n",
    "Tabelle1= pd.DataFrame({'Quantil':['25 %','50 %','75 %','25%-Quartilkoeffizient der Schiefe'] , 'Wert':np.append(quantiles,quartilCoeff_25)})\n",
    "\n",
    "'''Bewertung der Schiefe der Verteilung'''\n",
    "if quartilCoeff_25 > 0:\n",
    "    print('Bewertung der Schiefe der Verteilung: Stichprobe ist rechtsschief')\n",
    "elif quartilCoeff_25 == 0:\n",
    "    print('Bewertung der Schiefe der Verteilung: Stichprobe ist symmetrisch')\n",
    "else:\n",
    "    print('Bewertung der Schiefe der Verteilung: Stichprobe ist linkssschief')\n",
    "Tabelle1"
   ]
  },
  {
   "cell_type": "markdown",
   "metadata": {},
   "source": [
    "##### Da der 25% - Quantilkoeffizient der Schiefe positiv ist, ist die Stichprobe rechtsschief. "
   ]
  },
  {
   "cell_type": "code",
   "execution_count": 10,
   "metadata": {},
   "outputs": [
    {
     "data": {
      "text/plain": [
       "Text(0, 0.5, 'Messwert M/ppm')"
      ]
     },
     "execution_count": 10,
     "metadata": {},
     "output_type": "execute_result"
    },
    {
     "data": {
      "image/png": "[encoded data removed]",
      "text/plain": [
       "<Figure size 432x288 with 1 Axes>"
      ]
     },
     "metadata": {
      "needs_background": "light"
     },
     "output_type": "display_data"
    }
   ],
   "source": [
    "'''Box-Plot der Verteilung'''\n",
    "plt.boxplot(X)\n",
    "plt.grid(True, which= 'both', axis='both', linestyle='--')\n",
    "plt.xlabel('Messreihe')\n",
    "plt.ylabel('Messwert M/ppm')"
   ]
  }
 ],
 "metadata": {
  "kernelspec": {
   "display_name": "Python 3",
   "language": "python",
   "name": "python3"
  },
  "language_info": {
   "codemirror_mode": {
    "name": "ipython",
    "version": 3
   },
   "file_extension": ".py",
   "mimetype": "text/x-python",
   "name": "python",
   "nbconvert_exporter": "python",
   "pygments_lexer": "ipython3",
   "version": "3.6.8"
  }
 },
 "nbformat": 4,
 "nbformat_minor": 2
}
