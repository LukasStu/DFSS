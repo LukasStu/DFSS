{
 "cells": [
  {
   "cell_type": "markdown",
   "metadata": {},
   "source": [
    "# 3\tBeschreibende Statistik univariater Daten\n",
    "\n",
    "\n",
    "## 3.1\tDurchmesser einer Glasfaser\n",
    "\n",
    "a) Für die vorliegende Stichprobe berechnet sich das arithmetische Mittel mit dem Befehl np.mean(…) zu\n",
    "\n",
    "$\\bar x = \\frac{{{x_1} + {\\rm{ }}...{\\rm{ }} + {x_N}}}{N} = \\frac{1}{N} \\cdot \\sum\\limits_{n = 1}^N {{x_n}}  = {\\rm{16}}{\\rm{.7330 }}\\mu m$\n",
    "\n",
    "Der Median ${x_{med}}$ ergibt sich mit dem Befehl np.median(…)\n",
    "\n",
    "${x_{med}} = {\\rm{16}}{\\rm{.8495 }}\\mu m$\n",
    "\n",
    "Für die in dem Aufgabenblatt gegebenen Zahlenwerte ergibt sich eine Spannweite von\n",
    "\n",
    "$\\Delta x = {x_{max}} - {x_{min}} = {\\rm{8}}{\\rm{.2700 }}\\mu m$\n",
    "\n",
    "Die Varianz berechnet sich mit dem Befehl np.var(…) zu\n",
    "\n",
    "${s^2} = \\frac{1}{{N - 1}} \\cdot \\sum\\limits_{n = 1}^N {{{\\left( {{x_n} - \\bar x} \\right)}^2}}  = {\\rm{ 3}}{\\rm{.8519 }}\\mu {m^{\\rm{2}}}$\n",
    "\n",
    "Die Standardabweichung s ergibt sich aus der positiven Quadratwurzel der Varianz s2 und be-rechnet sich mit dem Befehl np.std(…) zu\n",
    "\n",
    "$s = \\sqrt {\\frac{1}{{N - 1}} \\cdot \\sum\\limits_{n = 1}^N {{{\\left( {{x_n} - \\bar x} \\right)}^2}} }  = {\\rm{1}}{\\rm{.9626 }}\\mu m$\n",
    "\n",
    "\n"
   ]
  },
  {
   "cell_type": "code",
   "execution_count": 1,
   "metadata": {},
   "outputs": [],
   "source": [
    "\"\"\" Bibliotheken importieren\"\"\"\n",
    "import numpy as np\n",
    "from scipy.io import loadmat\n",
    "import pandas as pd\n",
    "import matplotlib.pyplot as plt\n",
    "%matplotlib inline  "
   ]
  },
  {
   "cell_type": "code",
   "execution_count": 2,
   "metadata": {},
   "outputs": [],
   "source": [
    "'''Einlesen und Umsortieren der Daten aus dem .mat-file'''\n",
    "data = loadmat('Glasfaser')['values']\n"
   ]
  },
  {
   "cell_type": "code",
   "execution_count": 3,
   "metadata": {},
   "outputs": [
    {
     "name": "stdout",
     "output_type": "stream",
     "text": [
      "Arithmetischer Mittelwert:  16.733046676138496\n"
     ]
    }
   ],
   "source": [
    "'''Arithmetischer Mittelwert '''\n",
    "X=np.array(data).reshape(data.shape[0]*data.shape[1])\n",
    "Xmean = np.mean(X)\n",
    "print('Arithmetischer Mittelwert: ', Xmean)"
   ]
  },
  {
   "cell_type": "code",
   "execution_count": 4,
   "metadata": {},
   "outputs": [
    {
     "name": "stdout",
     "output_type": "stream",
     "text": [
      " Median: 16.84945398558523\n"
     ]
    }
   ],
   "source": [
    "'''Median'''\n",
    "Xmed = np.median(X)\n",
    "print(' Median:', Xmed )"
   ]
  },
  {
   "cell_type": "code",
   "execution_count": 5,
   "metadata": {},
   "outputs": [
    {
     "name": "stdout",
     "output_type": "stream",
     "text": [
      "Spannweite: 8.270015809367564\n"
     ]
    }
   ],
   "source": [
    "'''Spannweite (np.ptp {peak to peak})'''\n",
    "Xspannweite = np.ptp(X)\n",
    "print('Spannweite:', Xspannweite )\n"
   ]
  },
  {
   "cell_type": "code",
   "execution_count": 6,
   "metadata": {},
   "outputs": [
    {
     "name": "stdout",
     "output_type": "stream",
     "text": [
      "Varianz:  3.85189546842439\n"
     ]
    }
   ],
   "source": [
    "'''Varianz'''\n",
    "\"\"\"ddof : int, optional\n",
    "“Delta Degrees of Freedom”: the divisor used in the calculation is N - ddof,\n",
    "where N represents the number of elements. By default ddof is zero.\"\"\"\n",
    "\n",
    "Xvarianz = np.var(X, ddof=1)\n",
    "print('Varianz: ', Xvarianz)"
   ]
  },
  {
   "cell_type": "code",
   "execution_count": 7,
   "metadata": {},
   "outputs": [
    {
     "name": "stdout",
     "output_type": "stream",
     "text": [
      "Standardabweichung: 1.9626246376789398\n"
     ]
    }
   ],
   "source": [
    "'''Standardabweichung'''\n",
    "Xstdv = np.std(X,ddof=1)\n",
    "print('Standardabweichung:', Xstdv)"
   ]
  },
  {
   "cell_type": "markdown",
   "metadata": {},
   "source": [
    "b) Zur Berechnung der absoluten Häufigkeit, wurden die Stichprobenwerte in 10 Klassen unterteilt und die absolute sowie die relative Häufigkeit ermittelt. In Matlab kann die Unterteilung in Klas-sen mit dem Befehlt hist(…) erzielt werden. "
   ]
  },
  {
   "cell_type": "code",
   "execution_count": 8,
   "metadata": {},
   "outputs": [],
   "source": [
    "'''Berechnung der Häufigkeitsverteilung'''\n",
    "'''Berechnung der absoluten und relativen Häufigkeit'''\n",
    "a , b = np.histogram(X, bins=np.arange(np.floor(np.amin(X))-0.5, np.ceil(np.amax(X))+1.5))\n",
    "\n",
    "'''Berechnung der absoluten und relativen Summenhäufigkeit'''\n",
    "absSumfrequency=np.cumsum(a)\n",
    "RelSumfrequency=np.cumsum(a/X.shape)\n",
    "Klassen=np.arange(np.floor(np.amin(X)),np.ceil(np.amax(X))+1)\n",
    "\n"
   ]
  },
  {
   "cell_type": "code",
   "execution_count": 9,
   "metadata": {},
   "outputs": [
    {
     "data": {
      "text/html": [
       "<div>\n",
       "<style scoped>\n",
       "    .dataframe tbody tr th:only-of-type {\n",
       "        vertical-align: middle;\n",
       "    }\n",
       "\n",
       "    .dataframe tbody tr th {\n",
       "        vertical-align: top;\n",
       "    }\n",
       "\n",
       "    .dataframe thead th {\n",
       "        text-align: right;\n",
       "    }\n",
       "</style>\n",
       "<table border=\"1\" class=\"dataframe\">\n",
       "  <thead>\n",
       "    <tr style=\"text-align: right;\">\n",
       "      <th></th>\n",
       "      <th>Gruppenwert</th>\n",
       "      <th>Absolute Häufigkeit hA(x)</th>\n",
       "      <th>RelativeHaeufigkeit h(x)</th>\n",
       "      <th>Absolute Summenhäufigkeit HA(x)</th>\n",
       "      <th>Relative Summenhäufigkeit H(x)</th>\n",
       "    </tr>\n",
       "  </thead>\n",
       "  <tbody>\n",
       "    <tr>\n",
       "      <th>0</th>\n",
       "      <td>11.0</td>\n",
       "      <td>0</td>\n",
       "      <td>0.000</td>\n",
       "      <td>0</td>\n",
       "      <td>0.000</td>\n",
       "    </tr>\n",
       "    <tr>\n",
       "      <th>1</th>\n",
       "      <td>12.0</td>\n",
       "      <td>1</td>\n",
       "      <td>0.025</td>\n",
       "      <td>1</td>\n",
       "      <td>0.025</td>\n",
       "    </tr>\n",
       "    <tr>\n",
       "      <th>2</th>\n",
       "      <td>13.0</td>\n",
       "      <td>2</td>\n",
       "      <td>0.050</td>\n",
       "      <td>3</td>\n",
       "      <td>0.075</td>\n",
       "    </tr>\n",
       "    <tr>\n",
       "      <th>3</th>\n",
       "      <td>14.0</td>\n",
       "      <td>0</td>\n",
       "      <td>0.000</td>\n",
       "      <td>3</td>\n",
       "      <td>0.075</td>\n",
       "    </tr>\n",
       "    <tr>\n",
       "      <th>4</th>\n",
       "      <td>15.0</td>\n",
       "      <td>7</td>\n",
       "      <td>0.175</td>\n",
       "      <td>10</td>\n",
       "      <td>0.250</td>\n",
       "    </tr>\n",
       "    <tr>\n",
       "      <th>5</th>\n",
       "      <td>16.0</td>\n",
       "      <td>6</td>\n",
       "      <td>0.150</td>\n",
       "      <td>16</td>\n",
       "      <td>0.400</td>\n",
       "    </tr>\n",
       "    <tr>\n",
       "      <th>6</th>\n",
       "      <td>17.0</td>\n",
       "      <td>9</td>\n",
       "      <td>0.225</td>\n",
       "      <td>25</td>\n",
       "      <td>0.625</td>\n",
       "    </tr>\n",
       "    <tr>\n",
       "      <th>7</th>\n",
       "      <td>18.0</td>\n",
       "      <td>7</td>\n",
       "      <td>0.175</td>\n",
       "      <td>32</td>\n",
       "      <td>0.800</td>\n",
       "    </tr>\n",
       "    <tr>\n",
       "      <th>8</th>\n",
       "      <td>19.0</td>\n",
       "      <td>5</td>\n",
       "      <td>0.125</td>\n",
       "      <td>37</td>\n",
       "      <td>0.925</td>\n",
       "    </tr>\n",
       "    <tr>\n",
       "      <th>9</th>\n",
       "      <td>20.0</td>\n",
       "      <td>3</td>\n",
       "      <td>0.075</td>\n",
       "      <td>40</td>\n",
       "      <td>1.000</td>\n",
       "    </tr>\n",
       "  </tbody>\n",
       "</table>\n",
       "</div>"
      ],
      "text/plain": [
       "   Gruppenwert  Absolute Häufigkeit hA(x)  RelativeHaeufigkeit h(x)  \\\n",
       "0         11.0                          0                     0.000   \n",
       "1         12.0                          1                     0.025   \n",
       "2         13.0                          2                     0.050   \n",
       "3         14.0                          0                     0.000   \n",
       "4         15.0                          7                     0.175   \n",
       "5         16.0                          6                     0.150   \n",
       "6         17.0                          9                     0.225   \n",
       "7         18.0                          7                     0.175   \n",
       "8         19.0                          5                     0.125   \n",
       "9         20.0                          3                     0.075   \n",
       "\n",
       "   Absolute Summenhäufigkeit HA(x)  Relative Summenhäufigkeit H(x)  \n",
       "0                                0                           0.000  \n",
       "1                                1                           0.025  \n",
       "2                                3                           0.075  \n",
       "3                                3                           0.075  \n",
       "4                               10                           0.250  \n",
       "5                               16                           0.400  \n",
       "6                               25                           0.625  \n",
       "7                               32                           0.800  \n",
       "8                               37                           0.925  \n",
       "9                               40                           1.000  "
      ]
     },
     "execution_count": 9,
     "metadata": {},
     "output_type": "execute_result"
    }
   ],
   "source": [
    "'''Ausgabe der absoluten und relativen Häufigkeit in einer Tabelle'''\n",
    "\n",
    "Tabelle1= pd.DataFrame({'Gruppenwert':Klassen, 'Absolute Häufigkeit hA(x)':a, 'RelativeHaeufigkeit h(x)':a/40,\\\n",
    "                       'Absolute Summenhäufigkeit HA(x)': absSumfrequency, 'Relative Summenhäufigkeit H(x)': RelSumfrequency})\n",
    "\n",
    "Tabelle1"
   ]
  },
  {
   "cell_type": "markdown",
   "metadata": {},
   "source": [
    "Auf Basis der bestimmten Werte der obigen Tabelle können die relative Häufigkeitsverteilung und die relative Summenhäufigkeit grafisch dargestellt werden. In den Grafiken ist zu erkennen, dass es zu einer Häufung der Messwerte im Bereich um den Mittelwert kommt. Zu den Randbe-reichen hin werden die vorliegenden Stichprobenwerte immer seltener. In der Abbildung ist au-ßerdem zu erkennen, dass die relative Summenhäufigkeit gegen den Wert 1 läuft. "
   ]
  },
  {
   "cell_type": "code",
   "execution_count": 10,
   "metadata": {},
   "outputs": [
    {
     "data": {
      "text/plain": [
       "(0.0, 0.25)"
      ]
     },
     "execution_count": 10,
     "metadata": {},
     "output_type": "execute_result"
    },
    {
     "data": {
      "image/png": "[encoded data removed]",
      "text/plain": [
       "<Figure size 432x288 with 1 Axes>"
      ]
     },
     "metadata": {
      "needs_background": "light"
     },
     "output_type": "display_data"
    }
   ],
   "source": [
    "'''Grafische Darstellung der relativen Häufigkeiten'''\n",
    "plt.hist(X, b , histtype='bar' , weights=np.ones(X.shape)/X.shape, rwidth=0.9)\n",
    "plt.grid(True, which= 'both', axis='both', linestyle='--')\n",
    "plt.xlabel('Messwert d/$\\mu m$')\n",
    "plt.ylabel('relative Häufigkeit h(d)')\n",
    "plt.ylim(top=0.25)"
   ]
  },
  {
   "cell_type": "code",
   "execution_count": 11,
   "metadata": {},
   "outputs": [
    {
     "data": {
      "text/plain": [
       "Text(0, 0.5, 'relative Summenäufigkeit H(d)')"
      ]
     },
     "execution_count": 11,
     "metadata": {},
     "output_type": "execute_result"
    },
    {
     "data": {
      "image/png": "[encoded data removed]",
      "text/plain": [
       "<Figure size 432x288 with 1 Axes>"
      ]
     },
     "metadata": {
      "needs_background": "light"
     },
     "output_type": "display_data"
    }
   ],
   "source": [
    "'''Grafische Darstellung der relativen Summenhäufigkeiten'''\n",
    "plt.bar(Klassen, RelSumfrequency, width=0.9, bottom=None, align='center')\n",
    "plt.grid(True, which= 'both', axis='both', linestyle='--')\n",
    "plt.xlabel('Messwert d/$\\mu m$')\n",
    "plt.ylabel('relative Summenäufigkeit H(d)')"
   ]
  },
  {
   "cell_type": "markdown",
   "metadata": {},
   "source": [
    "c) Das p - Quartil einer Verteilung trennt die Daten so in zwei Teile, dass ein Anteil p unter und ein Anteil 1 - p über dem Quartil liegt. Anhand der obigen Definition des Median lässt sich ableiten, dass der Median dem 50 % - Quantil entspricht. Die Berechnungsgleichung für die Quartile lautet\n",
    "\n",
    "${x_p} = {x_{n - 1}} + \\frac{{d \\cdot \\left( {p - H\\left( {{x_{n - 1}}} \\right)} \\right)}}{{h\\left( {{x_n}} \\right)}}$\n",
    "\n",
    "\n",
    "In Matlab können Quantile mit dem Befehl quantile(…) berechnet werden. Die Berechnungs-gleichung für den 25% - Quantilkoeffizient der Schiefe lautet\n",
    "\n",
    "${g_{0.25}} = \\frac{{\\left( {{x_{0.75}} - {x_{0.5}}} \\right) - \\left( {{x_{0.5}} - {x_{0.25}}} \\right)}}{{{x_{0.75}} - {x_{0.25}}}}$\n",
    "\n",
    "Die Auswertung ergibt die in der folgenden Tabelle dargestellten Werte für die Quantile und den zu bestimmenden 25% - Quantilkoeffizienten der Schiefe."
   ]
  },
  {
   "cell_type": "code",
   "execution_count": 12,
   "metadata": {},
   "outputs": [
    {
     "data": {
      "text/html": [
       "<div>\n",
       "<style scoped>\n",
       "    .dataframe tbody tr th:only-of-type {\n",
       "        vertical-align: middle;\n",
       "    }\n",
       "\n",
       "    .dataframe tbody tr th {\n",
       "        vertical-align: top;\n",
       "    }\n",
       "\n",
       "    .dataframe thead th {\n",
       "        text-align: right;\n",
       "    }\n",
       "</style>\n",
       "<table border=\"1\" class=\"dataframe\">\n",
       "  <thead>\n",
       "    <tr style=\"text-align: right;\">\n",
       "      <th></th>\n",
       "      <th>Quantil</th>\n",
       "      <th>Wert</th>\n",
       "    </tr>\n",
       "  </thead>\n",
       "  <tbody>\n",
       "    <tr>\n",
       "      <th>0</th>\n",
       "      <td>25 %</td>\n",
       "      <td>15.492742</td>\n",
       "    </tr>\n",
       "    <tr>\n",
       "      <th>1</th>\n",
       "      <td>50 %</td>\n",
       "      <td>16.849454</td>\n",
       "    </tr>\n",
       "    <tr>\n",
       "      <th>2</th>\n",
       "      <td>75 %</td>\n",
       "      <td>18.122842</td>\n",
       "    </tr>\n",
       "    <tr>\n",
       "      <th>3</th>\n",
       "      <td>Quartilkoeffizient der Schiefe</td>\n",
       "      <td>-0.031681</td>\n",
       "    </tr>\n",
       "  </tbody>\n",
       "</table>\n",
       "</div>"
      ],
      "text/plain": [
       "                          Quantil       Wert\n",
       "0                            25 %  15.492742\n",
       "1                            50 %  16.849454\n",
       "2                            75 %  18.122842\n",
       "3  Quartilkoeffizient der Schiefe  -0.031681"
      ]
     },
     "execution_count": 12,
     "metadata": {},
     "output_type": "execute_result"
    }
   ],
   "source": [
    "'''Berechnung der Quartile mit Matlab Funktion quantile'''\n",
    "quantiles=np.quantile(X,[0.25, 0.5, 0.75])\n",
    "quantil_25=quantiles[0]\n",
    "quantil_50=quantiles[1]\n",
    "quantil_75=quantiles[2]\n",
    "#quantil_75=18.2045\n",
    "'''Berechung des Quartilkoeffizienten der Schiefe'''\n",
    "\n",
    "quartilCoeff_25 = ((quantil_75-quantil_50)-(quantil_50-quantil_25))/(quantil_75-quantil_25)\n",
    "\n",
    "\n",
    "'''Ergebnisdarstellung in einer Tabelle'''\n",
    "Tabelle2= pd.DataFrame({'Quantil':['25 %','50 %','75 %','Quartilkoeffizient der Schiefe'] , 'Wert':np.append(quantiles,quartilCoeff_25)})\n",
    "\n",
    "Tabelle2\n"
   ]
  },
  {
   "cell_type": "markdown",
   "metadata": {},
   "source": [
    "Da der 25% - Quantilkoeffizient der Schiefe nur leicht negativ ist, ist die Stichprobe nach Defi-nition leicht linksschief. der Häufigkeitsverteilung ist jedoch praktisch kein Unterschied zwi-schen der Anzahl der Stichprobenwerte unterhalb und oberhalb des Median zu erkennen, die Stichprobe ist daher nahezu symmetrisch."
   ]
  },
  {
   "cell_type": "code",
   "execution_count": 13,
   "metadata": {},
   "outputs": [
    {
     "name": "stdout",
     "output_type": "stream",
     "text": [
      "Bewertung der Schiefe der Verteilung: Stichprobe ist linkssschief\n"
     ]
    }
   ],
   "source": [
    "'''Bewertung der Schiefe der Verteilung'''\n",
    "if quartilCoeff_25 > 0:\n",
    "    print('Bewertung der Schiefe der Verteilung: Stichprobe ist rechtsschief')\n",
    "elif quartilCoeff_25 == 0:\n",
    "    print('Bewertung der Schiefe der Verteilung: Stichprobe ist symmetrisch')\n",
    "else:\n",
    "    print('Bewertung der Schiefe der Verteilung: Stichprobe ist linkssschief')\n"
   ]
  },
  {
   "cell_type": "markdown",
   "metadata": {},
   "source": [
    "d) Der Box – Plot stellt eine grafische Zusammenfassung der bereits berechneten Lage- und Streuungskennwerte dar. Er fasst somit die charakteristischen Punkte einer Verteilung zusam-men. Im Einzelnen sind dies:\n",
    "-\tminimaler Stichprobenwert\n",
    "-\t25% Quantil\n",
    "-\tMedian\n",
    "-\t75% Quantil\n",
    "-\tmaximaler Stichprobenwert\n",
    "-\tAusreißer\n",
    "\n",
    "\n",
    "In der folgenden Grafik ist der Box – Plot dargestellt, der mit dem Befehl plt.boxplot(…) erzeugt wurde.\n"
   ]
  },
  {
   "cell_type": "code",
   "execution_count": 14,
   "metadata": {},
   "outputs": [
    {
     "data": {
      "text/plain": [
       "Text(0, 0.5, 'Messwert d/$\\\\mu m$')"
      ]
     },
     "execution_count": 14,
     "metadata": {},
     "output_type": "execute_result"
    },
    {
     "data": {
      "image/png": "[encoded data removed]",
      "text/plain": [
       "<Figure size 432x288 with 1 Axes>"
      ]
     },
     "metadata": {
      "needs_background": "light"
     },
     "output_type": "display_data"
    }
   ],
   "source": [
    "'''Box-Plot der Verteilung'''\n",
    "plt.boxplot(X)\n",
    "plt.grid(True, which= 'both', axis='both', linestyle='--')\n",
    "plt.xlabel('Messreihe')\n",
    "plt.ylabel('Messwert d/$\\mu m$')\n"
   ]
  },
  {
   "cell_type": "code",
   "execution_count": null,
   "metadata": {},
   "outputs": [],
   "source": []
  },
  {
   "cell_type": "code",
   "execution_count": null,
   "metadata": {},
   "outputs": [],
   "source": []
  }
 ],
 "metadata": {
  "kernelspec": {
   "display_name": "Python 3",
   "language": "python",
   "name": "python3"
  },
  "language_info": {
   "codemirror_mode": {
    "name": "ipython",
    "version": 3
   },
   "file_extension": ".py",
   "mimetype": "text/x-python",
   "name": "python",
   "nbconvert_exporter": "python",
   "pygments_lexer": "ipython3",
   "version": "3.6.8"
  }
 },
 "nbformat": 4,
 "nbformat_minor": 2
}
