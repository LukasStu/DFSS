{
 "cells": [
  {
   "cell_type": "code",
   "execution_count": 2,
   "metadata": {},
   "outputs": [
    {
     "name": "stdout",
     "output_type": "stream",
     "text": [
      "                            OLS Regression Results                            \n",
      "==============================================================================\n",
      "Dep. Variable:                      Z   R-squared:                       0.392\n",
      "Model:                            OLS   Adj. R-squared:                  0.301\n",
      "Method:                 Least Squares   F-statistic:                     4.302\n",
      "Date:                Mon, 20 Jan 2020   Prob (F-statistic):             0.0170\n",
      "Time:                        13:09:01   Log-Likelihood:                -49.193\n",
      "No. Observations:                  24   AIC:                             106.4\n",
      "Df Residuals:                      20   BIC:                             111.1\n",
      "Df Model:                           3                                         \n",
      "Covariance Type:            nonrobust                                         \n",
      "==============================================================================\n",
      "                 coef    std err          t      P>|t|      [0.025      0.975]\n",
      "------------------------------------------------------------------------------\n",
      "Intercept     52.1542      9.121      5.718      0.000      33.127      71.181\n",
      "X              0.0212      0.008      2.794      0.011       0.005       0.037\n",
      "Y              1.6771      1.265      1.326      0.200      -0.961       4.316\n",
      "X:Y           -0.0015      0.001     -1.468      0.158      -0.004       0.001\n",
      "==============================================================================\n",
      "Omnibus:                        3.863   Durbin-Watson:                   2.562\n",
      "Prob(Omnibus):                  0.145   Jarque-Bera (JB):                2.236\n",
      "Skew:                          -0.698   Prob(JB):                        0.327\n",
      "Kurtosis:                       3.534   Cond. No.                     1.91e+05\n",
      "==============================================================================\n",
      "\n",
      "Warnings:\n",
      "[1] Standard Errors assume that the covariance matrix of the errors is correctly specified.\n",
      "[2] The condition number is large, 1.91e+05. This might indicate that there are\n",
      "strong multicollinearity or other numerical problems.\n"
     ]
    }
   ],
   "source": [
    "\"\"\" Bibliotheken importieren\"\"\"\n",
    "import scipy\n",
    "import numpy as np\n",
    "from scipy.io import loadmat\n",
    "from scipy.optimize import curve_fit\n",
    "from scipy import stats\n",
    "import matplotlib.pyplot as plt\n",
    "import scipy.odr\n",
    "import scipy.stats\n",
    "from statsmodels.formula.api import ols\n",
    "\"\"\" Laden der Daten\"\"\"\n",
    "data =scipy.io.loadmat('VersuchsplanBlattfedern')['Data']\n",
    "\n",
    "TetaOfen=data[:,0]\n",
    "ZeitOfen=data[:,1]\n",
    "TetaOel=data[:,2]\n",
    "Elas=data[:,3]\n",
    "\n",
    "\n",
    "\n",
    "''' Statistische Bewertung '''\n",
    "'''\"\"\"[0 0; 1 0; 0 1; 1 1] Modell anlegen\"\"\" '''\n",
    "data_Dic={'X':TetaOfen, 'Y':ZeitOfen, 'Z':Elas}\n",
    "\n",
    "model = ols(\"Z ~ X + Y + X*Y \" , data_Dic).fit()\n",
    "print(model.summary())\n",
    "\n"
   ]
  },
  {
   "cell_type": "code",
   "execution_count": null,
   "metadata": {},
   "outputs": [],
   "source": []
  }
 ],
 "metadata": {
  "kernelspec": {
   "display_name": "Python 3",
   "language": "python",
   "name": "python3"
  },
  "language_info": {
   "codemirror_mode": {
    "name": "ipython",
    "version": 3
   },
   "file_extension": ".py",
   "mimetype": "text/x-python",
   "name": "python",
   "nbconvert_exporter": "python",
   "pygments_lexer": "ipython3",
   "version": "3.7.5"
  }
 },
 "nbformat": 4,
 "nbformat_minor": 2
}
