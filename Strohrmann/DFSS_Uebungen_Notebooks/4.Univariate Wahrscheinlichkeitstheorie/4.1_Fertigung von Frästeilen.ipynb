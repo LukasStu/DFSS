{
 "cells": [
  {
   "cell_type": "markdown",
   "metadata": {},
   "source": [
    "# 4\tUnivariate Wahrscheinlichkeitstheorie\n",
    "\n",
    "\n",
    "### 4.1\tFertigung von Frästeilen\n",
    "\n",
    "\n",
    "a) Mittelwert µ und Standardabweichung $\\sigma  $ sind bekannt. Es muss mit eienr Normalverteilung gerechnet werden. Ausschussteile haben eine Dicke von weniger als 2.495 mm. \n",
    "\n",
    "$P\\left( {d < 2.495\\,\\,mm} \\right) = F\\left( {2.495} \\right) = {\\rm{0}}{\\rm{.0062}}$\n",
    "\n",
    "b) Der Ausschussanteil ergibt sich aus der Wahrscheinlichkeit\n",
    "\n",
    "$P\\left( {d > 2.506\\,\\,mm} \\right) = 1 - P\\left( {d \\le 2.506\\,\\,mm} \\right) = 1 - F\\left( {2.506} \\right) = {\\rm{0}}{\\rm{.0013}}$\n",
    "\n",
    "c) In diesem Fall muss mit einem Ausschussanteil von \n",
    "\n",
    "$1 - P\\left( {2.497\\,\\,mm \\le d \\le 2.503\\,\\,mm} \\right) = 1 - F\\left( {2.503} \\right) + F\\left( {2.497\\,} \\right) = {\\rm{0}}{\\rm{.1336}}$                                                              \n",
    "gerechnet werden.\n",
    "\n",
    "\n",
    "d) Bei der Lösung wird davon ausgegangen, dass gleichviel Teile zu klein und zu groß sind. Damit ergibt sich eine untere Fehlergrenzen von 1 % und für die Zufallsvariabe \n",
    "\n",
    "### $z = \\frac{{x - \\mu }}{\\sigma }$\n",
    "\n",
    "ergibt sich die Wahrscheinlichkeit von \n",
    "\n",
    "$0.01 = F\\left( z \\right) = F\\left( {\\frac{{x - \\mu }}{\\sigma }} \\right)$\n",
    "\n",
    "Auflösen nach der Standardabweichung führt über\n",
    "\n",
    "\n",
    "${F^{ - 1}}\\left( {0.01} \\right) = \\frac{{x - \\mu }}{\\sigma }$\n",
    "\n",
    "\n",
    "zu der Standardabweichung\n",
    "\n",
    "\n",
    "$\\sigma  = \\frac{{x - \\mu }}{{{F^{ - 1}}\\left( {0.01} \\right)}} = \\frac{{ - 0.003}}{{ - {\\rm{2}}{\\rm{.3263}}}} = {\\rm{0}}{\\rm{.0013}}$\n",
    "\n",
    "e) Die Rechnung von Aufgabenteil c ergibt mit $\\mu$= 2.51 mm einen Ausschussanteil von \n",
    "\n",
    "$1 - P\\left( {2.497\\,\\,mm \\le d \\le 2.503\\,\\,mm} \\right) = 1 - F\\left( {2.503} \\right) + F\\left( {2.497\\,} \\right) = {\\rm{0}}{\\rm{.9998}}$\n",
    "\n",
    "\n",
    "Wegen des verschobenen Mittelwertes sind praktisch alle Teile unbrauchbar.\n",
    "\n",
    "\n",
    "##### Alle Werte wurden mit folgender Python-Befehle berechnet:\n"
   ]
  },
  {
   "cell_type": "code",
   "execution_count": 1,
   "metadata": {},
   "outputs": [],
   "source": [
    "\"\"\" Bibliotheken importieren\"\"\"\n",
    "from scipy.stats import norm\n",
    "\n",
    "'''Definition der bekannten Parameter ''' \n",
    "mu = 2.5\n",
    "sig = 0.002"
   ]
  },
  {
   "cell_type": "code",
   "execution_count": 8,
   "metadata": {},
   "outputs": [
    {
     "data": {
      "text/plain": [
       "0.006209665325777063"
      ]
     },
     "execution_count": 8,
     "metadata": {},
     "output_type": "execute_result"
    }
   ],
   "source": [
    "'''Aufgabenteil a'''\n",
    "'''norm.cdf: Normal cumulative distribution function --> P(d < 2.495)'''\n",
    "Pa = norm.cdf(2.495,mu,sig)\n",
    "Pa"
   ]
  },
  {
   "cell_type": "code",
   "execution_count": 3,
   "metadata": {},
   "outputs": [
    {
     "data": {
      "text/plain": [
       "0.0013498980316305476"
      ]
     },
     "execution_count": 3,
     "metadata": {},
     "output_type": "execute_result"
    }
   ],
   "source": [
    "'''Aufgabenteil b'''\n",
    "Pb = 1 - norm.cdf(2.506,mu,sig)\n",
    "Pb"
   ]
  },
  {
   "cell_type": "code",
   "execution_count": 4,
   "metadata": {},
   "outputs": [
    {
     "data": {
      "text/plain": [
       "0.13361440253770135"
      ]
     },
     "execution_count": 4,
     "metadata": {},
     "output_type": "execute_result"
    }
   ],
   "source": [
    "'''Aufgabenteil c'''\n",
    "Pc = 1 - norm.cdf(2.503,mu,sig) + norm.cdf(2.497,mu,sig)\n",
    "Pc"
   ]
  },
  {
   "cell_type": "code",
   "execution_count": 5,
   "metadata": {},
   "outputs": [
    {
     "data": {
      "text/plain": [
       "0.0012895749743519799"
      ]
     },
     "execution_count": 5,
     "metadata": {},
     "output_type": "execute_result"
    }
   ],
   "source": [
    "'''Aufgabenteil d '''\n",
    "\n",
    "'''norm.ppf==norminv in Matlab:  Percent point function (inverse of cdf — percentiles)'''\n",
    "''' - 0.003-->???????'''\n",
    "signeu = - 0.003/norm.ppf(0.01,0,1)\n",
    "signeu"
   ]
  },
  {
   "cell_type": "code",
   "execution_count": 6,
   "metadata": {},
   "outputs": [
    {
     "data": {
      "text/plain": [
       "0.9997673709611243"
      ]
     },
     "execution_count": 6,
     "metadata": {},
     "output_type": "execute_result"
    }
   ],
   "source": [
    " '''Aufgabenteil e '''\n",
    "muneu = 2.51\n",
    "Pe = 1 - norm.cdf(2.503,muneu,sig) + norm.cdf(2.497,muneu,sig)\n",
    "Pe"
   ]
  }
 ],
 "metadata": {
  "kernelspec": {
   "display_name": "Python 3",
   "language": "python",
   "name": "python3"
  },
  "language_info": {
   "codemirror_mode": {
    "name": "ipython",
    "version": 3
   },
   "file_extension": ".py",
   "mimetype": "text/x-python",
   "name": "python",
   "nbconvert_exporter": "python",
   "pygments_lexer": "ipython3",
   "version": "3.6.8"
  }
 },
 "nbformat": 4,
 "nbformat_minor": 2
}
