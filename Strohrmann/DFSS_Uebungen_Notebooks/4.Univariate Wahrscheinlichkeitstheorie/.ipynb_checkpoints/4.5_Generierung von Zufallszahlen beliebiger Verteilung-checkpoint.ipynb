{
 "cells": [
  {
   "cell_type": "markdown",
   "metadata": {},
   "source": [
    "# 4.Univariate Wahrscheinlichkeitstheorie\n",
    "\n",
    "### 4.5\tGenerierung von Zufallszahlen beliebiger Verteilung\n",
    "\n",
    "a) Die Wahrscheinlichkeitsdichte der generierten Zahlen ist zwischen 0 und 1 gleichverteilt. Sie besitzt in dem Bereich 0 < x ≤1 die Wahrscheinlichkeitsdichte \n",
    "\n",
    "\n",
    "${f_X}\\left( x \\right) = 1$\n",
    "\n",
    "und die Verteilungsfunktion\n",
    "\n",
    "\n",
    "${F_X}\\left( x \\right) = x$\n",
    "\n",
    "\n",
    "Um Zufallszahlen y mit einer Normalverteilung $F_Y$(y) zu generieren, wird die inverse Verteilungsfunktion\n",
    "\n",
    "\n",
    "$y = F_Y^{ - 1}\\left( x \\right)$\n",
    "\n",
    "verwendet. \n",
    "\n",
    "a) Mit der inversen Standardnormalverteilung ergeben sich entsprechend standard-normaverteilte Zufallsvariablen.\n",
    "\n",
    "\n",
    "b) Um Zufallszahlen mit einer Weibull-Verteilung zu generieren, wird die inverse Weibull-Verteilung mit $\\beta$ = 2 und $\\eta$ = 10 verwendet.\n",
    "\n"
   ]
  }
 ],
 "metadata": {
  "kernelspec": {
   "display_name": "Python 3",
   "language": "python",
   "name": "python3"
  },
  "language_info": {
   "codemirror_mode": {
    "name": "ipython",
    "version": 3
   },
   "file_extension": ".py",
   "mimetype": "text/x-python",
   "name": "python",
   "nbconvert_exporter": "python",
   "pygments_lexer": "ipython3",
   "version": "3.6.8"
  }
 },
 "nbformat": 4,
 "nbformat_minor": 2
}
